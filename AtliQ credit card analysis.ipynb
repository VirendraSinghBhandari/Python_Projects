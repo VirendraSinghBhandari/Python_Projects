{
 "cells": [
  {
   "cell_type": "markdown",
   "id": "223773e4",
   "metadata": {},
   "source": [
    "<h1 align=\"center\">AtliQo Bank Credit Card Launch: Phase 1</h1>"
   ]
  },
  {
   "cell_type": "markdown",
   "id": "01c24be8",
   "metadata": {},
   "source": [
    "Objective: Analyze customers' transactions and credit profiles to figure out a target group for the launch of AtliQo bank credit card"
   ]
  },
  {
   "cell_type": "code",
   "execution_count": 2,
   "id": "beda2bb5",
   "metadata": {},
   "outputs": [],
   "source": [
    "import pandas as pd\n",
    "import numpy as np\n",
    "from matplotlib import pyplot as plt\n",
    "import seaborn as sns\n",
    "import warnings\n",
    "warnings.filterwarnings('ignore')"
   ]
  },
  {
   "cell_type": "markdown",
   "id": "e911b2af",
   "metadata": {},
   "source": [
    "<h1 style=\"color:purple\" align=\"center\">Data Import<h1>"
   ]
  },
  {
   "cell_type": "markdown",
   "id": "415c76ad",
   "metadata": {},
   "source": [
    "We got the dataset in two formats (1) CSV (2) MySQL. we are going to use MYSQL dataset."
   ]
  },
  {
   "cell_type": "markdown",
   "id": "008426c7",
   "metadata": {},
   "source": [
    "### Import Data from MySQL"
   ]
  },
  {
   "cell_type": "code",
   "execution_count": 3,
   "id": "06262db9",
   "metadata": {},
   "outputs": [],
   "source": [
    "import mysql.connector"
   ]
  },
  {
   "cell_type": "code",
   "execution_count": 4,
   "id": "1b703d9b",
   "metadata": {},
   "outputs": [
    {
     "name": "stdout",
     "output_type": "stream",
     "text": [
      "Requirement already satisfied: pandas in c:\\users\\virendra bhandari\\anaconda3\\lib\\site-packages (1.4.2)\n",
      "Requirement already satisfied: mysql-connector-python in c:\\users\\virendra bhandari\\anaconda3\\lib\\site-packages (8.3.0)\n",
      "Requirement already satisfied: python-dateutil>=2.8.1 in c:\\users\\virendra bhandari\\anaconda3\\lib\\site-packages (from pandas) (2.8.2)\n",
      "Requirement already satisfied: pytz>=2020.1 in c:\\users\\virendra bhandari\\anaconda3\\lib\\site-packages (from pandas) (2021.3)\n",
      "Requirement already satisfied: numpy>=1.18.5 in c:\\users\\virendra bhandari\\anaconda3\\lib\\site-packages (from pandas) (1.21.5)\n",
      "Requirement already satisfied: six>=1.5 in c:\\users\\virendra bhandari\\anaconda3\\lib\\site-packages (from python-dateutil>=2.8.1->pandas) (1.16.0)\n"
     ]
    }
   ],
   "source": [
    "!pip install pandas mysql-connector-python"
   ]
  },
  {
   "cell_type": "code",
   "execution_count": 5,
   "id": "1e9baf56",
   "metadata": {},
   "outputs": [
    {
     "name": "stdout",
     "output_type": "stream",
     "text": [
      "Requirement already satisfied: pandas in c:\\users\\virendra bhandari\\anaconda3\\lib\\site-packages (1.4.2)\n",
      "Requirement already satisfied: pymysql in c:\\users\\virendra bhandari\\anaconda3\\lib\\site-packages (1.1.0)\n",
      "Requirement already satisfied: numpy>=1.18.5 in c:\\users\\virendra bhandari\\anaconda3\\lib\\site-packages (from pandas) (1.21.5)\n",
      "Requirement already satisfied: pytz>=2020.1 in c:\\users\\virendra bhandari\\anaconda3\\lib\\site-packages (from pandas) (2021.3)\n",
      "Requirement already satisfied: python-dateutil>=2.8.1 in c:\\users\\virendra bhandari\\anaconda3\\lib\\site-packages (from pandas) (2.8.2)\n",
      "Requirement already satisfied: six>=1.5 in c:\\users\\virendra bhandari\\anaconda3\\lib\\site-packages (from python-dateutil>=2.8.1->pandas) (1.16.0)\n"
     ]
    }
   ],
   "source": [
    "!pip install pandas pymysql"
   ]
  },
  {
   "cell_type": "code",
   "execution_count": 6,
   "id": "3d024bdb",
   "metadata": {},
   "outputs": [],
   "source": [
    "import mysql.connector"
   ]
  },
  {
   "cell_type": "code",
   "execution_count": 7,
   "id": "63039757",
   "metadata": {},
   "outputs": [],
   "source": [
    "conn = mysql.connector.connect(\n",
    "    host='localhost',\n",
    "    user='root',\n",
    "    passwd='Mps@12345',\n",
    "    database='e_master_card'\n",
    ")"
   ]
  },
  {
   "cell_type": "code",
   "execution_count": 8,
   "id": "559d816f",
   "metadata": {},
   "outputs": [
    {
     "data": {
      "text/html": [
       "<div>\n",
       "<style scoped>\n",
       "    .dataframe tbody tr th:only-of-type {\n",
       "        vertical-align: middle;\n",
       "    }\n",
       "\n",
       "    .dataframe tbody tr th {\n",
       "        vertical-align: top;\n",
       "    }\n",
       "\n",
       "    .dataframe thead th {\n",
       "        text-align: right;\n",
       "    }\n",
       "</style>\n",
       "<table border=\"1\" class=\"dataframe\">\n",
       "  <thead>\n",
       "    <tr style=\"text-align: right;\">\n",
       "      <th></th>\n",
       "      <th>cust_id</th>\n",
       "      <th>name</th>\n",
       "      <th>gender</th>\n",
       "      <th>age</th>\n",
       "      <th>location</th>\n",
       "      <th>occupation</th>\n",
       "      <th>annual_income</th>\n",
       "      <th>marital_status</th>\n",
       "    </tr>\n",
       "  </thead>\n",
       "  <tbody>\n",
       "    <tr>\n",
       "      <th>0</th>\n",
       "      <td>1</td>\n",
       "      <td>Manya Acharya</td>\n",
       "      <td>Female</td>\n",
       "      <td>2</td>\n",
       "      <td>City</td>\n",
       "      <td>Business Owner</td>\n",
       "      <td>358211</td>\n",
       "      <td>Married</td>\n",
       "    </tr>\n",
       "    <tr>\n",
       "      <th>1</th>\n",
       "      <td>2</td>\n",
       "      <td>Anjali Pandey</td>\n",
       "      <td>Female</td>\n",
       "      <td>47</td>\n",
       "      <td>City</td>\n",
       "      <td>Consultant</td>\n",
       "      <td>65172</td>\n",
       "      <td>Single</td>\n",
       "    </tr>\n",
       "    <tr>\n",
       "      <th>2</th>\n",
       "      <td>3</td>\n",
       "      <td>Aaryan Chauhan</td>\n",
       "      <td>Male</td>\n",
       "      <td>21</td>\n",
       "      <td>City</td>\n",
       "      <td>Freelancer</td>\n",
       "      <td>22378</td>\n",
       "      <td>Married</td>\n",
       "    </tr>\n",
       "    <tr>\n",
       "      <th>3</th>\n",
       "      <td>4</td>\n",
       "      <td>Rudra Bali</td>\n",
       "      <td>Male</td>\n",
       "      <td>24</td>\n",
       "      <td>Rural</td>\n",
       "      <td>Freelancer</td>\n",
       "      <td>33563</td>\n",
       "      <td>Married</td>\n",
       "    </tr>\n",
       "    <tr>\n",
       "      <th>4</th>\n",
       "      <td>5</td>\n",
       "      <td>Advait Malik</td>\n",
       "      <td>Male</td>\n",
       "      <td>48</td>\n",
       "      <td>City</td>\n",
       "      <td>Consultant</td>\n",
       "      <td>39406</td>\n",
       "      <td>Married</td>\n",
       "    </tr>\n",
       "  </tbody>\n",
       "</table>\n",
       "</div>"
      ],
      "text/plain": [
       "   cust_id            name  gender  age location      occupation  \\\n",
       "0        1   Manya Acharya  Female    2     City  Business Owner   \n",
       "1        2   Anjali Pandey  Female   47     City      Consultant   \n",
       "2        3  Aaryan Chauhan    Male   21     City      Freelancer   \n",
       "3        4      Rudra Bali    Male   24    Rural      Freelancer   \n",
       "4        5    Advait Malik    Male   48     City      Consultant   \n",
       "\n",
       "   annual_income marital_status  \n",
       "0         358211        Married  \n",
       "1          65172         Single  \n",
       "2          22378        Married  \n",
       "3          33563        Married  \n",
       "4          39406        Married  "
      ]
     },
     "execution_count": 8,
     "metadata": {},
     "output_type": "execute_result"
    }
   ],
   "source": [
    "df_cust = pd.read_sql('select * from customers', conn)\n",
    "df_cust.head()"
   ]
  },
  {
   "cell_type": "code",
   "execution_count": 9,
   "id": "34846583",
   "metadata": {},
   "outputs": [
    {
     "data": {
      "text/html": [
       "<div>\n",
       "<style scoped>\n",
       "    .dataframe tbody tr th:only-of-type {\n",
       "        vertical-align: middle;\n",
       "    }\n",
       "\n",
       "    .dataframe tbody tr th {\n",
       "        vertical-align: top;\n",
       "    }\n",
       "\n",
       "    .dataframe thead th {\n",
       "        text-align: right;\n",
       "    }\n",
       "</style>\n",
       "<table border=\"1\" class=\"dataframe\">\n",
       "  <thead>\n",
       "    <tr style=\"text-align: right;\">\n",
       "      <th></th>\n",
       "      <th>tran_id</th>\n",
       "      <th>cust_id</th>\n",
       "      <th>tran_date</th>\n",
       "      <th>tran_amount</th>\n",
       "      <th>platform</th>\n",
       "      <th>product_category</th>\n",
       "      <th>payment_type</th>\n",
       "    </tr>\n",
       "  </thead>\n",
       "  <tbody>\n",
       "    <tr>\n",
       "      <th>0</th>\n",
       "      <td>1</td>\n",
       "      <td>705</td>\n",
       "      <td>2023-01-01</td>\n",
       "      <td>63</td>\n",
       "      <td>Flipkart</td>\n",
       "      <td>Electronics</td>\n",
       "      <td>Phonepe</td>\n",
       "    </tr>\n",
       "    <tr>\n",
       "      <th>1</th>\n",
       "      <td>2</td>\n",
       "      <td>385</td>\n",
       "      <td>2023-01-01</td>\n",
       "      <td>99</td>\n",
       "      <td>Alibaba</td>\n",
       "      <td>Fashion &amp; Apparel</td>\n",
       "      <td>Credit Card</td>\n",
       "    </tr>\n",
       "    <tr>\n",
       "      <th>2</th>\n",
       "      <td>3</td>\n",
       "      <td>924</td>\n",
       "      <td>2023-01-01</td>\n",
       "      <td>471</td>\n",
       "      <td>Shopify</td>\n",
       "      <td>Sports</td>\n",
       "      <td>Phonepe</td>\n",
       "    </tr>\n",
       "    <tr>\n",
       "      <th>3</th>\n",
       "      <td>4</td>\n",
       "      <td>797</td>\n",
       "      <td>2023-01-01</td>\n",
       "      <td>33</td>\n",
       "      <td>Shopify</td>\n",
       "      <td>Fashion &amp; Apparel</td>\n",
       "      <td>Gpay</td>\n",
       "    </tr>\n",
       "    <tr>\n",
       "      <th>4</th>\n",
       "      <td>5</td>\n",
       "      <td>482</td>\n",
       "      <td>2023-01-01</td>\n",
       "      <td>68</td>\n",
       "      <td>Amazon</td>\n",
       "      <td>Fashion &amp; Apparel</td>\n",
       "      <td>Net Banking</td>\n",
       "    </tr>\n",
       "  </tbody>\n",
       "</table>\n",
       "</div>"
      ],
      "text/plain": [
       "   tran_id  cust_id   tran_date  tran_amount  platform   product_category  \\\n",
       "0        1      705  2023-01-01           63  Flipkart        Electronics   \n",
       "1        2      385  2023-01-01           99   Alibaba  Fashion & Apparel   \n",
       "2        3      924  2023-01-01          471   Shopify             Sports   \n",
       "3        4      797  2023-01-01           33   Shopify  Fashion & Apparel   \n",
       "4        5      482  2023-01-01           68    Amazon  Fashion & Apparel   \n",
       "\n",
       "  payment_type  \n",
       "0      Phonepe  \n",
       "1  Credit Card  \n",
       "2      Phonepe  \n",
       "3         Gpay  \n",
       "4  Net Banking  "
      ]
     },
     "execution_count": 9,
     "metadata": {},
     "output_type": "execute_result"
    }
   ],
   "source": [
    "df_trans = pd.read_sql('select * from Transactions', conn)\n",
    "df_trans.head()"
   ]
  },
  {
   "cell_type": "code",
   "execution_count": 10,
   "id": "dea37b67",
   "metadata": {},
   "outputs": [
    {
     "data": {
      "text/html": [
       "<div>\n",
       "<style scoped>\n",
       "    .dataframe tbody tr th:only-of-type {\n",
       "        vertical-align: middle;\n",
       "    }\n",
       "\n",
       "    .dataframe tbody tr th {\n",
       "        vertical-align: top;\n",
       "    }\n",
       "\n",
       "    .dataframe thead th {\n",
       "        text-align: right;\n",
       "    }\n",
       "</style>\n",
       "<table border=\"1\" class=\"dataframe\">\n",
       "  <thead>\n",
       "    <tr style=\"text-align: right;\">\n",
       "      <th></th>\n",
       "      <th>cust_id</th>\n",
       "      <th>credit_score</th>\n",
       "      <th>credit_utilisation</th>\n",
       "      <th>outstanding_debt</th>\n",
       "      <th>credit_inquiries_last_6_months</th>\n",
       "      <th>credit_limit</th>\n",
       "    </tr>\n",
       "  </thead>\n",
       "  <tbody>\n",
       "    <tr>\n",
       "      <th>0</th>\n",
       "      <td>1</td>\n",
       "      <td>749</td>\n",
       "      <td>0.585171</td>\n",
       "      <td>19571.0</td>\n",
       "      <td>0.0</td>\n",
       "      <td>40000.0</td>\n",
       "    </tr>\n",
       "    <tr>\n",
       "      <th>1</th>\n",
       "      <td>2</td>\n",
       "      <td>587</td>\n",
       "      <td>0.107928</td>\n",
       "      <td>161644.0</td>\n",
       "      <td>2.0</td>\n",
       "      <td>1250.0</td>\n",
       "    </tr>\n",
       "    <tr>\n",
       "      <th>2</th>\n",
       "      <td>3</td>\n",
       "      <td>544</td>\n",
       "      <td>0.854807</td>\n",
       "      <td>513.0</td>\n",
       "      <td>4.0</td>\n",
       "      <td>1000.0</td>\n",
       "    </tr>\n",
       "    <tr>\n",
       "      <th>3</th>\n",
       "      <td>4</td>\n",
       "      <td>504</td>\n",
       "      <td>0.336938</td>\n",
       "      <td>224.0</td>\n",
       "      <td>2.0</td>\n",
       "      <td>1000.0</td>\n",
       "    </tr>\n",
       "    <tr>\n",
       "      <th>4</th>\n",
       "      <td>5</td>\n",
       "      <td>708</td>\n",
       "      <td>0.586151</td>\n",
       "      <td>18090.0</td>\n",
       "      <td>2.0</td>\n",
       "      <td>40000.0</td>\n",
       "    </tr>\n",
       "  </tbody>\n",
       "</table>\n",
       "</div>"
      ],
      "text/plain": [
       "   cust_id  credit_score  credit_utilisation  outstanding_debt  \\\n",
       "0        1           749            0.585171           19571.0   \n",
       "1        2           587            0.107928          161644.0   \n",
       "2        3           544            0.854807             513.0   \n",
       "3        4           504            0.336938             224.0   \n",
       "4        5           708            0.586151           18090.0   \n",
       "\n",
       "   credit_inquiries_last_6_months  credit_limit  \n",
       "0                             0.0       40000.0  \n",
       "1                             2.0        1250.0  \n",
       "2                             4.0        1000.0  \n",
       "3                             2.0        1000.0  \n",
       "4                             2.0       40000.0  "
      ]
     },
     "execution_count": 10,
     "metadata": {},
     "output_type": "execute_result"
    }
   ],
   "source": [
    "df_cp = pd.read_sql('select * from credit_profiles', conn)\n",
    "df_cp.head()"
   ]
  },
  {
   "cell_type": "markdown",
   "id": "5c405ab5",
   "metadata": {},
   "source": [
    "<h1 style=\"color:purple\" align=\"center\">Explore Customers Table<h1>"
   ]
  },
  {
   "cell_type": "code",
   "execution_count": 11,
   "id": "6fe76503",
   "metadata": {},
   "outputs": [
    {
     "data": {
      "text/html": [
       "<div>\n",
       "<style scoped>\n",
       "    .dataframe tbody tr th:only-of-type {\n",
       "        vertical-align: middle;\n",
       "    }\n",
       "\n",
       "    .dataframe tbody tr th {\n",
       "        vertical-align: top;\n",
       "    }\n",
       "\n",
       "    .dataframe thead th {\n",
       "        text-align: right;\n",
       "    }\n",
       "</style>\n",
       "<table border=\"1\" class=\"dataframe\">\n",
       "  <thead>\n",
       "    <tr style=\"text-align: right;\">\n",
       "      <th></th>\n",
       "      <th>cust_id</th>\n",
       "      <th>age</th>\n",
       "      <th>annual_income</th>\n",
       "    </tr>\n",
       "  </thead>\n",
       "  <tbody>\n",
       "    <tr>\n",
       "      <th>count</th>\n",
       "      <td>1000.000000</td>\n",
       "      <td>1000.000000</td>\n",
       "      <td>1000.000000</td>\n",
       "    </tr>\n",
       "    <tr>\n",
       "      <th>mean</th>\n",
       "      <td>500.500000</td>\n",
       "      <td>36.405000</td>\n",
       "      <td>132439.799000</td>\n",
       "    </tr>\n",
       "    <tr>\n",
       "      <th>std</th>\n",
       "      <td>288.819436</td>\n",
       "      <td>15.666155</td>\n",
       "      <td>113706.313793</td>\n",
       "    </tr>\n",
       "    <tr>\n",
       "      <th>min</th>\n",
       "      <td>1.000000</td>\n",
       "      <td>1.000000</td>\n",
       "      <td>0.000000</td>\n",
       "    </tr>\n",
       "    <tr>\n",
       "      <th>25%</th>\n",
       "      <td>250.750000</td>\n",
       "      <td>26.000000</td>\n",
       "      <td>42229.750000</td>\n",
       "    </tr>\n",
       "    <tr>\n",
       "      <th>50%</th>\n",
       "      <td>500.500000</td>\n",
       "      <td>32.000000</td>\n",
       "      <td>107275.000000</td>\n",
       "    </tr>\n",
       "    <tr>\n",
       "      <th>75%</th>\n",
       "      <td>750.250000</td>\n",
       "      <td>46.000000</td>\n",
       "      <td>189687.500000</td>\n",
       "    </tr>\n",
       "    <tr>\n",
       "      <th>max</th>\n",
       "      <td>1000.000000</td>\n",
       "      <td>135.000000</td>\n",
       "      <td>449346.000000</td>\n",
       "    </tr>\n",
       "  </tbody>\n",
       "</table>\n",
       "</div>"
      ],
      "text/plain": [
       "           cust_id          age  annual_income\n",
       "count  1000.000000  1000.000000    1000.000000\n",
       "mean    500.500000    36.405000  132439.799000\n",
       "std     288.819436    15.666155  113706.313793\n",
       "min       1.000000     1.000000       0.000000\n",
       "25%     250.750000    26.000000   42229.750000\n",
       "50%     500.500000    32.000000  107275.000000\n",
       "75%     750.250000    46.000000  189687.500000\n",
       "max    1000.000000   135.000000  449346.000000"
      ]
     },
     "execution_count": 11,
     "metadata": {},
     "output_type": "execute_result"
    }
   ],
   "source": [
    "df_cust.describe()"
   ]
  },
  {
   "cell_type": "code",
   "execution_count": 12,
   "id": "f598ff68",
   "metadata": {},
   "outputs": [
    {
     "data": {
      "text/plain": [
       "cust_id           0\n",
       "name              0\n",
       "gender            0\n",
       "age               0\n",
       "location          0\n",
       "occupation        0\n",
       "annual_income     0\n",
       "marital_status    0\n",
       "dtype: int64"
      ]
     },
     "execution_count": 12,
     "metadata": {},
     "output_type": "execute_result"
    }
   ],
   "source": [
    "df_cust.isnull().sum()"
   ]
  },
  {
   "cell_type": "markdown",
   "id": "5d9d2b70",
   "metadata": {},
   "source": [
    "<h2 style=\"color:Blue\">1. Analyze Income Column<h2>"
   ]
  },
  {
   "cell_type": "code",
   "execution_count": 13,
   "id": "dfb34c58",
   "metadata": {},
   "outputs": [
    {
     "data": {
      "text/plain": [
       "0"
      ]
     },
     "execution_count": 13,
     "metadata": {},
     "output_type": "execute_result"
    }
   ],
   "source": [
    "df_cust.annual_income.isnull().sum()"
   ]
  },
  {
   "cell_type": "code",
   "execution_count": 14,
   "id": "81ba8875",
   "metadata": {},
   "outputs": [
    {
     "data": {
      "text/html": [
       "<div>\n",
       "<style scoped>\n",
       "    .dataframe tbody tr th:only-of-type {\n",
       "        vertical-align: middle;\n",
       "    }\n",
       "\n",
       "    .dataframe tbody tr th {\n",
       "        vertical-align: top;\n",
       "    }\n",
       "\n",
       "    .dataframe thead th {\n",
       "        text-align: right;\n",
       "    }\n",
       "</style>\n",
       "<table border=\"1\" class=\"dataframe\">\n",
       "  <thead>\n",
       "    <tr style=\"text-align: right;\">\n",
       "      <th></th>\n",
       "      <th>cust_id</th>\n",
       "      <th>name</th>\n",
       "      <th>gender</th>\n",
       "      <th>age</th>\n",
       "      <th>location</th>\n",
       "      <th>occupation</th>\n",
       "      <th>annual_income</th>\n",
       "      <th>marital_status</th>\n",
       "    </tr>\n",
       "  </thead>\n",
       "  <tbody>\n",
       "  </tbody>\n",
       "</table>\n",
       "</div>"
      ],
      "text/plain": [
       "Empty DataFrame\n",
       "Columns: [cust_id, name, gender, age, location, occupation, annual_income, marital_status]\n",
       "Index: []"
      ]
     },
     "execution_count": 14,
     "metadata": {},
     "output_type": "execute_result"
    }
   ],
   "source": [
    "df_cust[df_cust['annual_income'].isnull()].head(4)"
   ]
  },
  {
   "cell_type": "code",
   "execution_count": 15,
   "id": "4c0a5c7a",
   "metadata": {},
   "outputs": [
    {
     "data": {
      "text/plain": [
       "occupation\n",
       "Accountant              65265.0\n",
       "Artist                  44915.0\n",
       "Business Owner         254881.0\n",
       "Consultant              51175.0\n",
       "Data Scientist         127889.0\n",
       "Freelancer              45189.5\n",
       "Fullstack Developer     74457.0\n",
       "Name: annual_income, dtype: float64"
      ]
     },
     "execution_count": 15,
     "metadata": {},
     "output_type": "execute_result"
    }
   ],
   "source": [
    "occupation_wise_inc_median = df_cust.groupby('occupation')['annual_income'].median()\n",
    "occupation_wise_inc_median"
   ]
  },
  {
   "cell_type": "code",
   "execution_count": 16,
   "id": "6bf5ebfa",
   "metadata": {},
   "outputs": [
    {
     "data": {
      "text/plain": [
       "44915.0"
      ]
     },
     "execution_count": 16,
     "metadata": {},
     "output_type": "execute_result"
    }
   ],
   "source": [
    "occupation_wise_inc_median['Artist']"
   ]
  },
  {
   "cell_type": "code",
   "execution_count": 17,
   "id": "70d85964",
   "metadata": {},
   "outputs": [],
   "source": [
    "def get_median_val(row):\n",
    "    if pd.isnull(row['annual_income']):\n",
    "        return occupation_wise_inc_median[row['occupation']]\n",
    "    else:\n",
    "        return row['annual_income']\n",
    "        "
   ]
  },
  {
   "cell_type": "code",
   "execution_count": 18,
   "id": "6f54c8e1",
   "metadata": {},
   "outputs": [
    {
     "data": {
      "text/plain": [
       "678"
      ]
     },
     "execution_count": 18,
     "metadata": {},
     "output_type": "execute_result"
    }
   ],
   "source": [
    "get_median_val({'cust_id': 15, \"occupation\": 'Artist', 'annual_income': 678})"
   ]
  },
  {
   "cell_type": "code",
   "execution_count": 19,
   "id": "2c2fa7a8",
   "metadata": {},
   "outputs": [],
   "source": [
    "df_cust['annual_income'] = df_cust.apply(get_median_val, axis = 1)\n"
   ]
  },
  {
   "cell_type": "code",
   "execution_count": 20,
   "id": "f0940233",
   "metadata": {},
   "outputs": [],
   "source": [
    "df_cust['annual_income'] = df_cust.apply(\n",
    "lambda row: occupation_wise_inc_median[row['occupation']] if pd.isnull(row['annual_income']) else row['annual_income'],\n",
    "axis = 1\n",
    ")"
   ]
  },
  {
   "cell_type": "code",
   "execution_count": 21,
   "id": "81d882a1",
   "metadata": {},
   "outputs": [
    {
     "data": {
      "text/html": [
       "<div>\n",
       "<style scoped>\n",
       "    .dataframe tbody tr th:only-of-type {\n",
       "        vertical-align: middle;\n",
       "    }\n",
       "\n",
       "    .dataframe tbody tr th {\n",
       "        vertical-align: top;\n",
       "    }\n",
       "\n",
       "    .dataframe thead th {\n",
       "        text-align: right;\n",
       "    }\n",
       "</style>\n",
       "<table border=\"1\" class=\"dataframe\">\n",
       "  <thead>\n",
       "    <tr style=\"text-align: right;\">\n",
       "      <th></th>\n",
       "      <th>cust_id</th>\n",
       "      <th>name</th>\n",
       "      <th>gender</th>\n",
       "      <th>age</th>\n",
       "      <th>location</th>\n",
       "      <th>occupation</th>\n",
       "      <th>annual_income</th>\n",
       "      <th>marital_status</th>\n",
       "    </tr>\n",
       "  </thead>\n",
       "  <tbody>\n",
       "    <tr>\n",
       "      <th>14</th>\n",
       "      <td>15</td>\n",
       "      <td>Sanjana Malik</td>\n",
       "      <td>Female</td>\n",
       "      <td>25</td>\n",
       "      <td>Rural</td>\n",
       "      <td>Artist</td>\n",
       "      <td>0</td>\n",
       "      <td>Married</td>\n",
       "    </tr>\n",
       "    <tr>\n",
       "      <th>82</th>\n",
       "      <td>83</td>\n",
       "      <td>Reyansh Mukherjee</td>\n",
       "      <td>Male</td>\n",
       "      <td>27</td>\n",
       "      <td>City</td>\n",
       "      <td>Freelancer</td>\n",
       "      <td>0</td>\n",
       "      <td>Single</td>\n",
       "    </tr>\n",
       "  </tbody>\n",
       "</table>\n",
       "</div>"
      ],
      "text/plain": [
       "    cust_id               name  gender  age location  occupation  \\\n",
       "14       15      Sanjana Malik  Female   25    Rural      Artist   \n",
       "82       83  Reyansh Mukherjee    Male   27     City  Freelancer   \n",
       "\n",
       "    annual_income marital_status  \n",
       "14              0        Married  \n",
       "82              0         Single  "
      ]
     },
     "execution_count": 21,
     "metadata": {},
     "output_type": "execute_result"
    }
   ],
   "source": [
    "df_cust.iloc[[14,82]]"
   ]
  },
  {
   "cell_type": "code",
   "execution_count": 22,
   "id": "9d88ea28",
   "metadata": {},
   "outputs": [
    {
     "data": {
      "text/plain": [
       "cust_id           0\n",
       "name              0\n",
       "gender            0\n",
       "age               0\n",
       "location          0\n",
       "occupation        0\n",
       "annual_income     0\n",
       "marital_status    0\n",
       "dtype: int64"
      ]
     },
     "execution_count": 22,
     "metadata": {},
     "output_type": "execute_result"
    }
   ],
   "source": [
    "df_cust.isnull().sum()"
   ]
  },
  {
   "cell_type": "code",
   "execution_count": 23,
   "id": "2524d7b2",
   "metadata": {},
   "outputs": [
    {
     "data": {
      "image/png": "[encoded data removed]",
      "text/plain": [
       "<Figure size 360x360 with 1 Axes>"
      ]
     },
     "metadata": {
      "needs_background": "light"
     },
     "output_type": "display_data"
    }
   ],
   "source": [
    "plt.figure(figsize=(5,5))\n",
    "sns.histplot(df_cust['annual_income'], kde = True, color = 'Green', label = \"Data\")\n",
    "plt.title('Histogram of annual_income')\n",
    "plt.show()"
   ]
  },
  {
   "cell_type": "code",
   "execution_count": 24,
   "id": "c2691847",
   "metadata": {},
   "outputs": [
    {
     "data": {
      "text/html": [
       "<div>\n",
       "<style scoped>\n",
       "    .dataframe tbody tr th:only-of-type {\n",
       "        vertical-align: middle;\n",
       "    }\n",
       "\n",
       "    .dataframe tbody tr th {\n",
       "        vertical-align: top;\n",
       "    }\n",
       "\n",
       "    .dataframe thead th {\n",
       "        text-align: right;\n",
       "    }\n",
       "</style>\n",
       "<table border=\"1\" class=\"dataframe\">\n",
       "  <thead>\n",
       "    <tr style=\"text-align: right;\">\n",
       "      <th></th>\n",
       "      <th>cust_id</th>\n",
       "      <th>age</th>\n",
       "      <th>annual_income</th>\n",
       "    </tr>\n",
       "  </thead>\n",
       "  <tbody>\n",
       "    <tr>\n",
       "      <th>count</th>\n",
       "      <td>1000.000000</td>\n",
       "      <td>1000.000000</td>\n",
       "      <td>1000.000000</td>\n",
       "    </tr>\n",
       "    <tr>\n",
       "      <th>mean</th>\n",
       "      <td>500.500000</td>\n",
       "      <td>36.405000</td>\n",
       "      <td>132439.799000</td>\n",
       "    </tr>\n",
       "    <tr>\n",
       "      <th>std</th>\n",
       "      <td>288.819436</td>\n",
       "      <td>15.666155</td>\n",
       "      <td>113706.313793</td>\n",
       "    </tr>\n",
       "    <tr>\n",
       "      <th>min</th>\n",
       "      <td>1.000000</td>\n",
       "      <td>1.000000</td>\n",
       "      <td>0.000000</td>\n",
       "    </tr>\n",
       "    <tr>\n",
       "      <th>25%</th>\n",
       "      <td>250.750000</td>\n",
       "      <td>26.000000</td>\n",
       "      <td>42229.750000</td>\n",
       "    </tr>\n",
       "    <tr>\n",
       "      <th>50%</th>\n",
       "      <td>500.500000</td>\n",
       "      <td>32.000000</td>\n",
       "      <td>107275.000000</td>\n",
       "    </tr>\n",
       "    <tr>\n",
       "      <th>75%</th>\n",
       "      <td>750.250000</td>\n",
       "      <td>46.000000</td>\n",
       "      <td>189687.500000</td>\n",
       "    </tr>\n",
       "    <tr>\n",
       "      <th>max</th>\n",
       "      <td>1000.000000</td>\n",
       "      <td>135.000000</td>\n",
       "      <td>449346.000000</td>\n",
       "    </tr>\n",
       "  </tbody>\n",
       "</table>\n",
       "</div>"
      ],
      "text/plain": [
       "           cust_id          age  annual_income\n",
       "count  1000.000000  1000.000000    1000.000000\n",
       "mean    500.500000    36.405000  132439.799000\n",
       "std     288.819436    15.666155  113706.313793\n",
       "min       1.000000     1.000000       0.000000\n",
       "25%     250.750000    26.000000   42229.750000\n",
       "50%     500.500000    32.000000  107275.000000\n",
       "75%     750.250000    46.000000  189687.500000\n",
       "max    1000.000000   135.000000  449346.000000"
      ]
     },
     "execution_count": 24,
     "metadata": {},
     "output_type": "execute_result"
    }
   ],
   "source": [
    "df_cust.describe()"
   ]
  },
  {
   "cell_type": "code",
   "execution_count": 25,
   "id": "979dc773",
   "metadata": {},
   "outputs": [
    {
     "data": {
      "text/plain": [
       "cust_id           60\n",
       "name              60\n",
       "gender            60\n",
       "age               60\n",
       "location          60\n",
       "occupation        60\n",
       "annual_income     60\n",
       "marital_status    60\n",
       "dtype: int64"
      ]
     },
     "execution_count": 25,
     "metadata": {},
     "output_type": "execute_result"
    }
   ],
   "source": [
    "df_cust[df_cust.annual_income<100].count()"
   ]
  },
  {
   "cell_type": "code",
   "execution_count": 26,
   "id": "b5103681",
   "metadata": {},
   "outputs": [],
   "source": [
    "for index, row in df_cust.iterrows():\n",
    "    if row['annual_income']< 100:\n",
    "        df_cust.at[index, 'annual_income'] = occupation_wise_inc_median[row['occupation']]"
   ]
  },
  {
   "cell_type": "code",
   "execution_count": 27,
   "id": "83a9bff4",
   "metadata": {},
   "outputs": [
    {
     "data": {
      "text/html": [
       "<div>\n",
       "<style scoped>\n",
       "    .dataframe tbody tr th:only-of-type {\n",
       "        vertical-align: middle;\n",
       "    }\n",
       "\n",
       "    .dataframe tbody tr th {\n",
       "        vertical-align: top;\n",
       "    }\n",
       "\n",
       "    .dataframe thead th {\n",
       "        text-align: right;\n",
       "    }\n",
       "</style>\n",
       "<table border=\"1\" class=\"dataframe\">\n",
       "  <thead>\n",
       "    <tr style=\"text-align: right;\">\n",
       "      <th></th>\n",
       "      <th>cust_id</th>\n",
       "      <th>age</th>\n",
       "      <th>annual_income</th>\n",
       "    </tr>\n",
       "  </thead>\n",
       "  <tbody>\n",
       "    <tr>\n",
       "      <th>count</th>\n",
       "      <td>1000.000000</td>\n",
       "      <td>1000.000000</td>\n",
       "      <td>1000.000000</td>\n",
       "    </tr>\n",
       "    <tr>\n",
       "      <th>mean</th>\n",
       "      <td>500.500000</td>\n",
       "      <td>36.405000</td>\n",
       "      <td>140137.395500</td>\n",
       "    </tr>\n",
       "    <tr>\n",
       "      <th>std</th>\n",
       "      <td>288.819436</td>\n",
       "      <td>15.666155</td>\n",
       "      <td>110450.464107</td>\n",
       "    </tr>\n",
       "    <tr>\n",
       "      <th>min</th>\n",
       "      <td>1.000000</td>\n",
       "      <td>1.000000</td>\n",
       "      <td>5175.000000</td>\n",
       "    </tr>\n",
       "    <tr>\n",
       "      <th>25%</th>\n",
       "      <td>250.750000</td>\n",
       "      <td>26.000000</td>\n",
       "      <td>49620.500000</td>\n",
       "    </tr>\n",
       "    <tr>\n",
       "      <th>50%</th>\n",
       "      <td>500.500000</td>\n",
       "      <td>32.000000</td>\n",
       "      <td>115328.000000</td>\n",
       "    </tr>\n",
       "    <tr>\n",
       "      <th>75%</th>\n",
       "      <td>750.250000</td>\n",
       "      <td>46.000000</td>\n",
       "      <td>195514.250000</td>\n",
       "    </tr>\n",
       "    <tr>\n",
       "      <th>max</th>\n",
       "      <td>1000.000000</td>\n",
       "      <td>135.000000</td>\n",
       "      <td>449346.000000</td>\n",
       "    </tr>\n",
       "  </tbody>\n",
       "</table>\n",
       "</div>"
      ],
      "text/plain": [
       "           cust_id          age  annual_income\n",
       "count  1000.000000  1000.000000    1000.000000\n",
       "mean    500.500000    36.405000  140137.395500\n",
       "std     288.819436    15.666155  110450.464107\n",
       "min       1.000000     1.000000    5175.000000\n",
       "25%     250.750000    26.000000   49620.500000\n",
       "50%     500.500000    32.000000  115328.000000\n",
       "75%     750.250000    46.000000  195514.250000\n",
       "max    1000.000000   135.000000  449346.000000"
      ]
     },
     "execution_count": 27,
     "metadata": {},
     "output_type": "execute_result"
    }
   ],
   "source": [
    "df_cust.describe()"
   ]
  },
  {
   "cell_type": "code",
   "execution_count": 28,
   "id": "37ddf178",
   "metadata": {},
   "outputs": [
    {
     "data": {
      "text/plain": [
       "occupation\n",
       "Accountant              64123.562500\n",
       "Artist                  45239.842105\n",
       "Business Owner         268119.833910\n",
       "Consultant              59927.257732\n",
       "Data Scientist         136208.603261\n",
       "Freelancer              76293.089912\n",
       "Fullstack Developer     78618.385135\n",
       "Name: annual_income, dtype: float64"
      ]
     },
     "execution_count": 28,
     "metadata": {},
     "output_type": "execute_result"
    }
   ],
   "source": [
    "occupation_wise_inc_mean = df_cust.groupby('occupation')['annual_income'].mean()\n",
    "occupation_wise_inc_mean"
   ]
  },
  {
   "cell_type": "code",
   "execution_count": 29,
   "id": "b0931570",
   "metadata": {},
   "outputs": [
    {
     "data": {
      "text/plain": [
       "Index(['Accountant', 'Artist', 'Business Owner', 'Consultant',\n",
       "       'Data Scientist', 'Freelancer', 'Fullstack Developer'],\n",
       "      dtype='object', name='occupation')"
      ]
     },
     "execution_count": 29,
     "metadata": {},
     "output_type": "execute_result"
    }
   ],
   "source": [
    "occupation_wise_inc_mean.index"
   ]
  },
  {
   "cell_type": "code",
   "execution_count": 30,
   "id": "fd7fd84b",
   "metadata": {},
   "outputs": [
    {
     "data": {
      "text/plain": [
       "array([ 64123.5625    ,  45239.84210526, 268119.83391003,  59927.25773196,\n",
       "       136208.60326087,  76293.08991228,  78618.38513514])"
      ]
     },
     "execution_count": 30,
     "metadata": {},
     "output_type": "execute_result"
    }
   ],
   "source": [
    "occupation_wise_inc_mean.values"
   ]
  },
  {
   "cell_type": "code",
   "execution_count": 31,
   "id": "ccb41a9e",
   "metadata": {},
   "outputs": [
    {
     "data": {
      "image/png": "[encoded data removed]",
      "text/plain": [
       "<Figure size 432x288 with 1 Axes>"
      ]
     },
     "metadata": {
      "needs_background": "light"
     },
     "output_type": "display_data"
    }
   ],
   "source": [
    "sns.barplot(x=occupation_wise_inc_mean.index, y = occupation_wise_inc_mean.values)\n",
    "plt.xticks(rotation =45)\n",
    "plt.title('Average Anual Income Per Occupation')\n",
    "plt.xlabel('Occupation')\n",
    "plt.ylabel('Average Anual Income ($)')\n",
    "plt.show()"
   ]
  },
  {
   "cell_type": "code",
   "execution_count": 32,
   "id": "74df5021",
   "metadata": {},
   "outputs": [
    {
     "data": {
      "text/plain": [
       "Index(['cust_id', 'name', 'gender', 'age', 'location', 'occupation',\n",
       "       'annual_income', 'marital_status'],\n",
       "      dtype='object')"
      ]
     },
     "execution_count": 32,
     "metadata": {},
     "output_type": "execute_result"
    }
   ],
   "source": [
    "df_cust.columns"
   ]
  },
  {
   "cell_type": "code",
   "execution_count": 33,
   "id": "44358fc7",
   "metadata": {},
   "outputs": [],
   "source": [
    "categorial_columns = ['gender', 'location', 'occupation', 'marital_status']"
   ]
  },
  {
   "cell_type": "code",
   "execution_count": 34,
   "id": "b7926c69",
   "metadata": {},
   "outputs": [
    {
     "data": {
      "image/png": "[encoded data removed]",
      "text/plain": [
       "<Figure size 576x288 with 1 Axes>"
      ]
     },
     "metadata": {
      "needs_background": "light"
     },
     "output_type": "display_data"
    },
    {
     "data": {
      "image/png": "[encoded data removed]",
      "text/plain": [
       "<Figure size 576x288 with 1 Axes>"
      ]
     },
     "metadata": {
      "needs_background": "light"
     },
     "output_type": "display_data"
    },
    {
     "data": {
      "image/png": "[encoded data removed]",
      "text/plain": [
       "<Figure size 576x288 with 1 Axes>"
      ]
     },
     "metadata": {
      "needs_background": "light"
     },
     "output_type": "display_data"
    },
    {
     "data": {
      "image/png": "[encoded data removed]",
      "text/plain": [
       "<Figure size 576x288 with 1 Axes>"
      ]
     },
     "metadata": {
      "needs_background": "light"
     },
     "output_type": "display_data"
    }
   ],
   "source": [
    "for cal in categorial_columns:\n",
    "    plt.figure(figsize = (8,4))\n",
    "    avg_income_per_group = df_cust.groupby(cal)['annual_income'].mean().sort_values()\n",
    "    sns.barplot(x= avg_income_per_group.index, y = avg_income_per_group.values)\n",
    "    plt.xticks(rotation = 45)\n",
    "    plt.title(f'Average Anual Income Per {cal.capitalize()}')\n",
    "    plt.xlabel(cal.capitalize())\n",
    "    plt.ylabel('Average Anual Income ($)')\n",
    "    plt.show()"
   ]
  },
  {
   "cell_type": "code",
   "execution_count": 35,
   "id": "be06d971",
   "metadata": {},
   "outputs": [
    {
     "data": {
      "image/png": "[encoded data removed]",
      "text/plain": [
       "<Figure size 864x864 with 4 Axes>"
      ]
     },
     "metadata": {
      "needs_background": "light"
     },
     "output_type": "display_data"
    }
   ],
   "source": [
    "# List of categorical columns\n",
    "cat_cols = ['gender', 'location', 'occupation', 'marital_status']\n",
    "\n",
    "num_rows = 3\n",
    "# Create subplots\n",
    "fig, axes = plt.subplots(num_rows, 2, figsize=(12, 4 * num_rows))\n",
    "\n",
    "# Flatten the axes array to make it easier to iterate\n",
    "axes = axes.flatten()\n",
    "\n",
    "# Create subplots for each categorical column\n",
    "for i, cat_col in enumerate(cat_cols):\n",
    "    # Calculate the average annual income for each category\n",
    "    avg_income_by_category = df_cust.groupby(cat_col)['annual_income'].mean().reset_index()\n",
    "    \n",
    "    # Sort the data by 'annual_income' before plotting\n",
    "    sorted_data = avg_income_by_category.sort_values(by='annual_income', ascending=False)\n",
    "    \n",
    "    sns.barplot(x=cat_col, y='annual_income', data=sorted_data, ci=None, ax=axes[i], palette='tab10')\n",
    "    axes[i].set_title(f'Average Annual Income by {cat_col}')\n",
    "    axes[i].set_xlabel(cat_col)\n",
    "    axes[i].set_ylabel('Average Annual Income')\n",
    "\n",
    "    # Rotate x-axis labels for better readability\n",
    "    axes[i].set_xticklabels(axes[i].get_xticklabels(), rotation=45)\n",
    "\n",
    "# Hide any unused subplots\n",
    "for i in range(len(cat_cols), len(axes)):\n",
    "    fig.delaxes(axes[i])\n",
    "plt.tight_layout()\n",
    "plt.show()"
   ]
  },
  {
   "cell_type": "markdown",
   "id": "b2e2bb65",
   "metadata": {},
   "source": [
    "# 2. Analyze Age Colmun"
   ]
  },
  {
   "cell_type": "markdown",
   "id": "6f621511",
   "metadata": {},
   "source": [
    "# Handle Null Values: Age Column"
   ]
  },
  {
   "cell_type": "markdown",
   "id": "1e0c4d3d",
   "metadata": {},
   "source": [
    "First let us check if there are any NULL values in Age column"
   ]
  },
  {
   "cell_type": "code",
   "execution_count": 36,
   "id": "c9beede4",
   "metadata": {},
   "outputs": [
    {
     "data": {
      "text/plain": [
       "0"
      ]
     },
     "execution_count": 36,
     "metadata": {},
     "output_type": "execute_result"
    }
   ],
   "source": [
    "df_cust.age.isnull().sum()"
   ]
  },
  {
   "cell_type": "code",
   "execution_count": 37,
   "id": "308ad92d",
   "metadata": {},
   "outputs": [
    {
     "data": {
      "text/plain": [
       "count    1000.000000\n",
       "mean       36.405000\n",
       "std        15.666155\n",
       "min         1.000000\n",
       "25%        26.000000\n",
       "50%        32.000000\n",
       "75%        46.000000\n",
       "max       135.000000\n",
       "Name: age, dtype: float64"
      ]
     },
     "execution_count": 37,
     "metadata": {},
     "output_type": "execute_result"
    }
   ],
   "source": [
    "df_cust.age.describe()"
   ]
  },
  {
   "cell_type": "code",
   "execution_count": 38,
   "id": "635bc2a6",
   "metadata": {},
   "outputs": [
    {
     "data": {
      "image/png": "[encoded data removed]",
      "text/plain": [
       "<Figure size 432x288 with 1 Axes>"
      ]
     },
     "metadata": {
      "needs_background": "light"
     },
     "output_type": "display_data"
    }
   ],
   "source": [
    "plt.hist(df_cust.age, bins = 20, edgecolor = 'black')\n",
    "plt.show()"
   ]
  },
  {
   "cell_type": "code",
   "execution_count": 39,
   "id": "a12cb93d",
   "metadata": {},
   "outputs": [
    {
     "data": {
      "text/html": [
       "<div>\n",
       "<style scoped>\n",
       "    .dataframe tbody tr th:only-of-type {\n",
       "        vertical-align: middle;\n",
       "    }\n",
       "\n",
       "    .dataframe tbody tr th {\n",
       "        vertical-align: top;\n",
       "    }\n",
       "\n",
       "    .dataframe thead th {\n",
       "        text-align: right;\n",
       "    }\n",
       "</style>\n",
       "<table border=\"1\" class=\"dataframe\">\n",
       "  <thead>\n",
       "    <tr style=\"text-align: right;\">\n",
       "      <th></th>\n",
       "      <th>cust_id</th>\n",
       "      <th>name</th>\n",
       "      <th>gender</th>\n",
       "      <th>age</th>\n",
       "      <th>location</th>\n",
       "      <th>occupation</th>\n",
       "      <th>annual_income</th>\n",
       "      <th>marital_status</th>\n",
       "    </tr>\n",
       "  </thead>\n",
       "  <tbody>\n",
       "    <tr>\n",
       "      <th>0</th>\n",
       "      <td>1</td>\n",
       "      <td>Manya Acharya</td>\n",
       "      <td>Female</td>\n",
       "      <td>2</td>\n",
       "      <td>City</td>\n",
       "      <td>Business Owner</td>\n",
       "      <td>358211.0</td>\n",
       "      <td>Married</td>\n",
       "    </tr>\n",
       "    <tr>\n",
       "      <th>41</th>\n",
       "      <td>42</td>\n",
       "      <td>Aaryan Shah</td>\n",
       "      <td>Male</td>\n",
       "      <td>110</td>\n",
       "      <td>City</td>\n",
       "      <td>Artist</td>\n",
       "      <td>7621.0</td>\n",
       "      <td>Married</td>\n",
       "    </tr>\n",
       "    <tr>\n",
       "      <th>165</th>\n",
       "      <td>166</td>\n",
       "      <td>Sia Dutta</td>\n",
       "      <td>Female</td>\n",
       "      <td>1</td>\n",
       "      <td>City</td>\n",
       "      <td>Freelancer</td>\n",
       "      <td>39721.0</td>\n",
       "      <td>Single</td>\n",
       "    </tr>\n",
       "    <tr>\n",
       "      <th>174</th>\n",
       "      <td>175</td>\n",
       "      <td>Rohan Sharma</td>\n",
       "      <td>Male</td>\n",
       "      <td>110</td>\n",
       "      <td>City</td>\n",
       "      <td>Freelancer</td>\n",
       "      <td>23723.0</td>\n",
       "      <td>Married</td>\n",
       "    </tr>\n",
       "    <tr>\n",
       "      <th>222</th>\n",
       "      <td>223</td>\n",
       "      <td>Arjun Batra</td>\n",
       "      <td>Male</td>\n",
       "      <td>110</td>\n",
       "      <td>Suburb</td>\n",
       "      <td>Freelancer</td>\n",
       "      <td>210987.0</td>\n",
       "      <td>Married</td>\n",
       "    </tr>\n",
       "    <tr>\n",
       "      <th>277</th>\n",
       "      <td>278</td>\n",
       "      <td>Aarav Tandon</td>\n",
       "      <td>Male</td>\n",
       "      <td>110</td>\n",
       "      <td>City</td>\n",
       "      <td>Consultant</td>\n",
       "      <td>96522.0</td>\n",
       "      <td>Single</td>\n",
       "    </tr>\n",
       "    <tr>\n",
       "      <th>295</th>\n",
       "      <td>296</td>\n",
       "      <td>Ayush Pandey</td>\n",
       "      <td>Male</td>\n",
       "      <td>1</td>\n",
       "      <td>Rural</td>\n",
       "      <td>Accountant</td>\n",
       "      <td>55254.0</td>\n",
       "      <td>Married</td>\n",
       "    </tr>\n",
       "    <tr>\n",
       "      <th>325</th>\n",
       "      <td>326</td>\n",
       "      <td>Virat Goel</td>\n",
       "      <td>Male</td>\n",
       "      <td>110</td>\n",
       "      <td>City</td>\n",
       "      <td>Accountant</td>\n",
       "      <td>61021.0</td>\n",
       "      <td>Single</td>\n",
       "    </tr>\n",
       "    <tr>\n",
       "      <th>610</th>\n",
       "      <td>611</td>\n",
       "      <td>Rehan Verma</td>\n",
       "      <td>Male</td>\n",
       "      <td>135</td>\n",
       "      <td>Rural</td>\n",
       "      <td>Business Owner</td>\n",
       "      <td>444776.0</td>\n",
       "      <td>Married</td>\n",
       "    </tr>\n",
       "    <tr>\n",
       "      <th>692</th>\n",
       "      <td>693</td>\n",
       "      <td>Dhruv Jha</td>\n",
       "      <td>Male</td>\n",
       "      <td>1</td>\n",
       "      <td>City</td>\n",
       "      <td>Business Owner</td>\n",
       "      <td>83045.0</td>\n",
       "      <td>Married</td>\n",
       "    </tr>\n",
       "    <tr>\n",
       "      <th>703</th>\n",
       "      <td>704</td>\n",
       "      <td>Aanya Sharma</td>\n",
       "      <td>Female</td>\n",
       "      <td>110</td>\n",
       "      <td>City</td>\n",
       "      <td>Freelancer</td>\n",
       "      <td>43404.0</td>\n",
       "      <td>Single</td>\n",
       "    </tr>\n",
       "    <tr>\n",
       "      <th>709</th>\n",
       "      <td>710</td>\n",
       "      <td>Anika Verma</td>\n",
       "      <td>Female</td>\n",
       "      <td>110</td>\n",
       "      <td>City</td>\n",
       "      <td>Data Scientist</td>\n",
       "      <td>98417.0</td>\n",
       "      <td>Married</td>\n",
       "    </tr>\n",
       "    <tr>\n",
       "      <th>728</th>\n",
       "      <td>729</td>\n",
       "      <td>Rehan Yadav</td>\n",
       "      <td>Male</td>\n",
       "      <td>135</td>\n",
       "      <td>City</td>\n",
       "      <td>Business Owner</td>\n",
       "      <td>382836.0</td>\n",
       "      <td>Married</td>\n",
       "    </tr>\n",
       "    <tr>\n",
       "      <th>832</th>\n",
       "      <td>833</td>\n",
       "      <td>Ridhi Raj</td>\n",
       "      <td>Female</td>\n",
       "      <td>110</td>\n",
       "      <td>City</td>\n",
       "      <td>Fullstack Developer</td>\n",
       "      <td>95379.0</td>\n",
       "      <td>Single</td>\n",
       "    </tr>\n",
       "    <tr>\n",
       "      <th>845</th>\n",
       "      <td>846</td>\n",
       "      <td>Rohan Jaiswal</td>\n",
       "      <td>Male</td>\n",
       "      <td>1</td>\n",
       "      <td>City</td>\n",
       "      <td>Consultant</td>\n",
       "      <td>20838.0</td>\n",
       "      <td>Married</td>\n",
       "    </tr>\n",
       "    <tr>\n",
       "      <th>855</th>\n",
       "      <td>856</td>\n",
       "      <td>Aanya Taneja</td>\n",
       "      <td>Female</td>\n",
       "      <td>2</td>\n",
       "      <td>City</td>\n",
       "      <td>Fullstack Developer</td>\n",
       "      <td>30689.0</td>\n",
       "      <td>Married</td>\n",
       "    </tr>\n",
       "    <tr>\n",
       "      <th>895</th>\n",
       "      <td>896</td>\n",
       "      <td>Krishna Goswami</td>\n",
       "      <td>Male</td>\n",
       "      <td>1</td>\n",
       "      <td>City</td>\n",
       "      <td>Freelancer</td>\n",
       "      <td>31533.0</td>\n",
       "      <td>Married</td>\n",
       "    </tr>\n",
       "    <tr>\n",
       "      <th>923</th>\n",
       "      <td>924</td>\n",
       "      <td>Kunal Patel</td>\n",
       "      <td>Male</td>\n",
       "      <td>110</td>\n",
       "      <td>City</td>\n",
       "      <td>Freelancer</td>\n",
       "      <td>51629.0</td>\n",
       "      <td>Married</td>\n",
       "    </tr>\n",
       "    <tr>\n",
       "      <th>951</th>\n",
       "      <td>952</td>\n",
       "      <td>Virat Shetty</td>\n",
       "      <td>Male</td>\n",
       "      <td>135</td>\n",
       "      <td>City</td>\n",
       "      <td>Data Scientist</td>\n",
       "      <td>49677.0</td>\n",
       "      <td>Married</td>\n",
       "    </tr>\n",
       "    <tr>\n",
       "      <th>991</th>\n",
       "      <td>992</td>\n",
       "      <td>Arya Dube</td>\n",
       "      <td>Male</td>\n",
       "      <td>135</td>\n",
       "      <td>City</td>\n",
       "      <td>Fullstack Developer</td>\n",
       "      <td>93267.0</td>\n",
       "      <td>Single</td>\n",
       "    </tr>\n",
       "  </tbody>\n",
       "</table>\n",
       "</div>"
      ],
      "text/plain": [
       "     cust_id             name  gender  age location           occupation  \\\n",
       "0          1    Manya Acharya  Female    2     City       Business Owner   \n",
       "41        42      Aaryan Shah    Male  110     City               Artist   \n",
       "165      166        Sia Dutta  Female    1     City           Freelancer   \n",
       "174      175     Rohan Sharma    Male  110     City           Freelancer   \n",
       "222      223      Arjun Batra    Male  110   Suburb           Freelancer   \n",
       "277      278     Aarav Tandon    Male  110     City           Consultant   \n",
       "295      296     Ayush Pandey    Male    1    Rural           Accountant   \n",
       "325      326       Virat Goel    Male  110     City           Accountant   \n",
       "610      611      Rehan Verma    Male  135    Rural       Business Owner   \n",
       "692      693        Dhruv Jha    Male    1     City       Business Owner   \n",
       "703      704     Aanya Sharma  Female  110     City           Freelancer   \n",
       "709      710      Anika Verma  Female  110     City       Data Scientist   \n",
       "728      729      Rehan Yadav    Male  135     City       Business Owner   \n",
       "832      833        Ridhi Raj  Female  110     City  Fullstack Developer   \n",
       "845      846    Rohan Jaiswal    Male    1     City           Consultant   \n",
       "855      856     Aanya Taneja  Female    2     City  Fullstack Developer   \n",
       "895      896  Krishna Goswami    Male    1     City           Freelancer   \n",
       "923      924      Kunal Patel    Male  110     City           Freelancer   \n",
       "951      952     Virat Shetty    Male  135     City       Data Scientist   \n",
       "991      992        Arya Dube    Male  135     City  Fullstack Developer   \n",
       "\n",
       "     annual_income marital_status  \n",
       "0         358211.0        Married  \n",
       "41          7621.0        Married  \n",
       "165        39721.0         Single  \n",
       "174        23723.0        Married  \n",
       "222       210987.0        Married  \n",
       "277        96522.0         Single  \n",
       "295        55254.0        Married  \n",
       "325        61021.0         Single  \n",
       "610       444776.0        Married  \n",
       "692        83045.0        Married  \n",
       "703        43404.0         Single  \n",
       "709        98417.0        Married  \n",
       "728       382836.0        Married  \n",
       "832        95379.0         Single  \n",
       "845        20838.0        Married  \n",
       "855        30689.0        Married  \n",
       "895        31533.0        Married  \n",
       "923        51629.0        Married  \n",
       "951        49677.0        Married  \n",
       "991        93267.0         Single  "
      ]
     },
     "execution_count": 39,
     "metadata": {},
     "output_type": "execute_result"
    }
   ],
   "source": [
    "outliers =df_cust[(df_cust['age']<15) | (df_cust['age']>80)]\n",
    "outliers"
   ]
  },
  {
   "cell_type": "code",
   "execution_count": 40,
   "id": "451ee97f",
   "metadata": {},
   "outputs": [
    {
     "data": {
      "text/plain": [
       "occupation\n",
       "Accountant             31.5\n",
       "Artist                 26.0\n",
       "Business Owner         51.0\n",
       "Consultant             46.0\n",
       "Data Scientist         32.0\n",
       "Freelancer             24.0\n",
       "Fullstack Developer    27.5\n",
       "Name: age, dtype: float64"
      ]
     },
     "execution_count": 40,
     "metadata": {},
     "output_type": "execute_result"
    }
   ],
   "source": [
    "median_age_per_occupation = df_cust.groupby('occupation')['age'].median()\n",
    "median_age_per_occupation"
   ]
  },
  {
   "cell_type": "code",
   "execution_count": 41,
   "id": "8ea46184",
   "metadata": {},
   "outputs": [],
   "source": [
    "for index, row in outliers.iterrows():\n",
    "    df_cust.at[index, 'age'] = median_age_per_occupation[row['occupation']]"
   ]
  },
  {
   "cell_type": "code",
   "execution_count": 42,
   "id": "fd3cfe53",
   "metadata": {},
   "outputs": [
    {
     "data": {
      "text/html": [
       "<div>\n",
       "<style scoped>\n",
       "    .dataframe tbody tr th:only-of-type {\n",
       "        vertical-align: middle;\n",
       "    }\n",
       "\n",
       "    .dataframe tbody tr th {\n",
       "        vertical-align: top;\n",
       "    }\n",
       "\n",
       "    .dataframe thead th {\n",
       "        text-align: right;\n",
       "    }\n",
       "</style>\n",
       "<table border=\"1\" class=\"dataframe\">\n",
       "  <thead>\n",
       "    <tr style=\"text-align: right;\">\n",
       "      <th></th>\n",
       "      <th>cust_id</th>\n",
       "      <th>age</th>\n",
       "      <th>annual_income</th>\n",
       "    </tr>\n",
       "  </thead>\n",
       "  <tbody>\n",
       "    <tr>\n",
       "      <th>count</th>\n",
       "      <td>1000.000000</td>\n",
       "      <td>1000.000000</td>\n",
       "      <td>1000.000000</td>\n",
       "    </tr>\n",
       "    <tr>\n",
       "      <th>mean</th>\n",
       "      <td>500.500000</td>\n",
       "      <td>35.541500</td>\n",
       "      <td>140137.395500</td>\n",
       "    </tr>\n",
       "    <tr>\n",
       "      <th>std</th>\n",
       "      <td>288.819436</td>\n",
       "      <td>12.276634</td>\n",
       "      <td>110450.464107</td>\n",
       "    </tr>\n",
       "    <tr>\n",
       "      <th>min</th>\n",
       "      <td>1.000000</td>\n",
       "      <td>18.000000</td>\n",
       "      <td>5175.000000</td>\n",
       "    </tr>\n",
       "    <tr>\n",
       "      <th>25%</th>\n",
       "      <td>250.750000</td>\n",
       "      <td>26.000000</td>\n",
       "      <td>49620.500000</td>\n",
       "    </tr>\n",
       "    <tr>\n",
       "      <th>50%</th>\n",
       "      <td>500.500000</td>\n",
       "      <td>32.000000</td>\n",
       "      <td>115328.000000</td>\n",
       "    </tr>\n",
       "    <tr>\n",
       "      <th>75%</th>\n",
       "      <td>750.250000</td>\n",
       "      <td>44.250000</td>\n",
       "      <td>195514.250000</td>\n",
       "    </tr>\n",
       "    <tr>\n",
       "      <th>max</th>\n",
       "      <td>1000.000000</td>\n",
       "      <td>64.000000</td>\n",
       "      <td>449346.000000</td>\n",
       "    </tr>\n",
       "  </tbody>\n",
       "</table>\n",
       "</div>"
      ],
      "text/plain": [
       "           cust_id          age  annual_income\n",
       "count  1000.000000  1000.000000    1000.000000\n",
       "mean    500.500000    35.541500  140137.395500\n",
       "std     288.819436    12.276634  110450.464107\n",
       "min       1.000000    18.000000    5175.000000\n",
       "25%     250.750000    26.000000   49620.500000\n",
       "50%     500.500000    32.000000  115328.000000\n",
       "75%     750.250000    44.250000  195514.250000\n",
       "max    1000.000000    64.000000  449346.000000"
      ]
     },
     "execution_count": 42,
     "metadata": {},
     "output_type": "execute_result"
    }
   ],
   "source": [
    "df_cust.describe()"
   ]
  },
  {
   "cell_type": "code",
   "execution_count": 43,
   "id": "efa5664b",
   "metadata": {},
   "outputs": [
    {
     "data": {
      "text/html": [
       "<div>\n",
       "<style scoped>\n",
       "    .dataframe tbody tr th:only-of-type {\n",
       "        vertical-align: middle;\n",
       "    }\n",
       "\n",
       "    .dataframe tbody tr th {\n",
       "        vertical-align: top;\n",
       "    }\n",
       "\n",
       "    .dataframe thead th {\n",
       "        text-align: right;\n",
       "    }\n",
       "</style>\n",
       "<table border=\"1\" class=\"dataframe\">\n",
       "  <thead>\n",
       "    <tr style=\"text-align: right;\">\n",
       "      <th></th>\n",
       "      <th>cust_id</th>\n",
       "      <th>name</th>\n",
       "      <th>gender</th>\n",
       "      <th>age</th>\n",
       "      <th>location</th>\n",
       "      <th>occupation</th>\n",
       "      <th>annual_income</th>\n",
       "      <th>marital_status</th>\n",
       "      <th>age_group</th>\n",
       "    </tr>\n",
       "  </thead>\n",
       "  <tbody>\n",
       "    <tr>\n",
       "      <th>0</th>\n",
       "      <td>1</td>\n",
       "      <td>Manya Acharya</td>\n",
       "      <td>Female</td>\n",
       "      <td>51.0</td>\n",
       "      <td>City</td>\n",
       "      <td>Business Owner</td>\n",
       "      <td>358211.0</td>\n",
       "      <td>Married</td>\n",
       "      <td>49-65</td>\n",
       "    </tr>\n",
       "    <tr>\n",
       "      <th>1</th>\n",
       "      <td>2</td>\n",
       "      <td>Anjali Pandey</td>\n",
       "      <td>Female</td>\n",
       "      <td>47.0</td>\n",
       "      <td>City</td>\n",
       "      <td>Consultant</td>\n",
       "      <td>65172.0</td>\n",
       "      <td>Single</td>\n",
       "      <td>26-48</td>\n",
       "    </tr>\n",
       "    <tr>\n",
       "      <th>2</th>\n",
       "      <td>3</td>\n",
       "      <td>Aaryan Chauhan</td>\n",
       "      <td>Male</td>\n",
       "      <td>21.0</td>\n",
       "      <td>City</td>\n",
       "      <td>Freelancer</td>\n",
       "      <td>22378.0</td>\n",
       "      <td>Married</td>\n",
       "      <td>18-25</td>\n",
       "    </tr>\n",
       "    <tr>\n",
       "      <th>3</th>\n",
       "      <td>4</td>\n",
       "      <td>Rudra Bali</td>\n",
       "      <td>Male</td>\n",
       "      <td>24.0</td>\n",
       "      <td>Rural</td>\n",
       "      <td>Freelancer</td>\n",
       "      <td>33563.0</td>\n",
       "      <td>Married</td>\n",
       "      <td>18-25</td>\n",
       "    </tr>\n",
       "  </tbody>\n",
       "</table>\n",
       "</div>"
      ],
      "text/plain": [
       "   cust_id            name  gender   age location      occupation  \\\n",
       "0        1   Manya Acharya  Female  51.0     City  Business Owner   \n",
       "1        2   Anjali Pandey  Female  47.0     City      Consultant   \n",
       "2        3  Aaryan Chauhan    Male  21.0     City      Freelancer   \n",
       "3        4      Rudra Bali    Male  24.0    Rural      Freelancer   \n",
       "\n",
       "   annual_income marital_status age_group  \n",
       "0       358211.0        Married     49-65  \n",
       "1        65172.0         Single     26-48  \n",
       "2        22378.0        Married     18-25  \n",
       "3        33563.0        Married     18-25  "
      ]
     },
     "execution_count": 43,
     "metadata": {},
     "output_type": "execute_result"
    }
   ],
   "source": [
    "#Define the bin age and labels\n",
    "\n",
    "bin_edges = [17, 25, 48, 65] #Adjustd as needed\n",
    "bin_labels = ['18-25', '26-48','49-65']\n",
    "\n",
    "#use the cut function to bin and label the age column\n",
    "\n",
    "df_cust['age_group'] = pd.cut(df_cust['age'], bins = bin_edges, labels = bin_labels)\n",
    "df_cust.head(4)"
   ]
  },
  {
   "cell_type": "code",
   "execution_count": 44,
   "id": "12d8febf",
   "metadata": {},
   "outputs": [
    {
     "data": {
      "text/plain": [
       "26-48    56.7\n",
       "18-25    24.6\n",
       "49-65    18.7\n",
       "Name: age_group, dtype: float64"
      ]
     },
     "execution_count": 44,
     "metadata": {},
     "output_type": "execute_result"
    }
   ],
   "source": [
    "age_group_count = df_cust.age_group.value_counts(normalize = True)*100\n",
    "age_group_count"
   ]
  },
  {
   "cell_type": "code",
   "execution_count": 45,
   "id": "1c74fb0a",
   "metadata": {},
   "outputs": [
    {
     "data": {
      "image/png": "[encoded data removed]",
      "text/plain": [
       "<Figure size 432x288 with 1 Axes>"
      ]
     },
     "metadata": {},
     "output_type": "display_data"
    }
   ],
   "source": [
    "plt.pie(\n",
    "    age_group_count, \n",
    "        labels=age_group_count.index, \n",
    "    autopct ='%1.1f%%', shadow = True, explode = (0.1,0,0), startangle = 140)\n",
    "plt.show()"
   ]
  },
  {
   "cell_type": "code",
   "execution_count": 46,
   "id": "38e52217",
   "metadata": {},
   "outputs": [
    {
     "data": {
      "text/html": [
       "<div>\n",
       "<style scoped>\n",
       "    .dataframe tbody tr th:only-of-type {\n",
       "        vertical-align: middle;\n",
       "    }\n",
       "\n",
       "    .dataframe tbody tr th {\n",
       "        vertical-align: top;\n",
       "    }\n",
       "\n",
       "    .dataframe thead th {\n",
       "        text-align: right;\n",
       "    }\n",
       "</style>\n",
       "<table border=\"1\" class=\"dataframe\">\n",
       "  <thead>\n",
       "    <tr style=\"text-align: right;\">\n",
       "      <th></th>\n",
       "      <th>cust_id</th>\n",
       "      <th>name</th>\n",
       "      <th>gender</th>\n",
       "      <th>age</th>\n",
       "      <th>location</th>\n",
       "      <th>occupation</th>\n",
       "      <th>annual_income</th>\n",
       "      <th>marital_status</th>\n",
       "      <th>age_group</th>\n",
       "    </tr>\n",
       "  </thead>\n",
       "  <tbody>\n",
       "    <tr>\n",
       "      <th>0</th>\n",
       "      <td>1</td>\n",
       "      <td>Manya Acharya</td>\n",
       "      <td>Female</td>\n",
       "      <td>51.0</td>\n",
       "      <td>City</td>\n",
       "      <td>Business Owner</td>\n",
       "      <td>358211.0</td>\n",
       "      <td>Married</td>\n",
       "      <td>49-65</td>\n",
       "    </tr>\n",
       "    <tr>\n",
       "      <th>1</th>\n",
       "      <td>2</td>\n",
       "      <td>Anjali Pandey</td>\n",
       "      <td>Female</td>\n",
       "      <td>47.0</td>\n",
       "      <td>City</td>\n",
       "      <td>Consultant</td>\n",
       "      <td>65172.0</td>\n",
       "      <td>Single</td>\n",
       "      <td>26-48</td>\n",
       "    </tr>\n",
       "    <tr>\n",
       "      <th>2</th>\n",
       "      <td>3</td>\n",
       "      <td>Aaryan Chauhan</td>\n",
       "      <td>Male</td>\n",
       "      <td>21.0</td>\n",
       "      <td>City</td>\n",
       "      <td>Freelancer</td>\n",
       "      <td>22378.0</td>\n",
       "      <td>Married</td>\n",
       "      <td>18-25</td>\n",
       "    </tr>\n",
       "    <tr>\n",
       "      <th>3</th>\n",
       "      <td>4</td>\n",
       "      <td>Rudra Bali</td>\n",
       "      <td>Male</td>\n",
       "      <td>24.0</td>\n",
       "      <td>Rural</td>\n",
       "      <td>Freelancer</td>\n",
       "      <td>33563.0</td>\n",
       "      <td>Married</td>\n",
       "      <td>18-25</td>\n",
       "    </tr>\n",
       "    <tr>\n",
       "      <th>4</th>\n",
       "      <td>5</td>\n",
       "      <td>Advait Malik</td>\n",
       "      <td>Male</td>\n",
       "      <td>48.0</td>\n",
       "      <td>City</td>\n",
       "      <td>Consultant</td>\n",
       "      <td>39406.0</td>\n",
       "      <td>Married</td>\n",
       "      <td>26-48</td>\n",
       "    </tr>\n",
       "  </tbody>\n",
       "</table>\n",
       "</div>"
      ],
      "text/plain": [
       "   cust_id            name  gender   age location      occupation  \\\n",
       "0        1   Manya Acharya  Female  51.0     City  Business Owner   \n",
       "1        2   Anjali Pandey  Female  47.0     City      Consultant   \n",
       "2        3  Aaryan Chauhan    Male  21.0     City      Freelancer   \n",
       "3        4      Rudra Bali    Male  24.0    Rural      Freelancer   \n",
       "4        5    Advait Malik    Male  48.0     City      Consultant   \n",
       "\n",
       "   annual_income marital_status age_group  \n",
       "0       358211.0        Married     49-65  \n",
       "1        65172.0         Single     26-48  \n",
       "2        22378.0        Married     18-25  \n",
       "3        33563.0        Married     18-25  \n",
       "4        39406.0        Married     26-48  "
      ]
     },
     "execution_count": 46,
     "metadata": {},
     "output_type": "execute_result"
    }
   ],
   "source": [
    "df_cust.head()"
   ]
  },
  {
   "cell_type": "code",
   "execution_count": 47,
   "id": "1d57be65",
   "metadata": {},
   "outputs": [
    {
     "data": {
      "text/plain": [
       "City      683\n",
       "Suburb    232\n",
       "Rural      85\n",
       "Name: location, dtype: int64"
      ]
     },
     "execution_count": 47,
     "metadata": {},
     "output_type": "execute_result"
    }
   ],
   "source": [
    "df_cust.location.value_counts()"
   ]
  },
  {
   "cell_type": "code",
   "execution_count": 48,
   "id": "3b361005",
   "metadata": {},
   "outputs": [
    {
     "data": {
      "text/plain": [
       "Male      674\n",
       "Female    326\n",
       "Name: gender, dtype: int64"
      ]
     },
     "execution_count": 48,
     "metadata": {},
     "output_type": "execute_result"
    }
   ],
   "source": [
    "df_cust.gender.value_counts()"
   ]
  },
  {
   "cell_type": "code",
   "execution_count": 49,
   "id": "48697439",
   "metadata": {},
   "outputs": [
    {
     "data": {
      "text/html": [
       "<div>\n",
       "<style scoped>\n",
       "    .dataframe tbody tr th:only-of-type {\n",
       "        vertical-align: middle;\n",
       "    }\n",
       "\n",
       "    .dataframe tbody tr th {\n",
       "        vertical-align: top;\n",
       "    }\n",
       "\n",
       "    .dataframe thead th {\n",
       "        text-align: right;\n",
       "    }\n",
       "</style>\n",
       "<table border=\"1\" class=\"dataframe\">\n",
       "  <thead>\n",
       "    <tr style=\"text-align: right;\">\n",
       "      <th>gender</th>\n",
       "      <th>Female</th>\n",
       "      <th>Male</th>\n",
       "    </tr>\n",
       "    <tr>\n",
       "      <th>location</th>\n",
       "      <th></th>\n",
       "      <th></th>\n",
       "    </tr>\n",
       "  </thead>\n",
       "  <tbody>\n",
       "    <tr>\n",
       "      <th>City</th>\n",
       "      <td>226</td>\n",
       "      <td>457</td>\n",
       "    </tr>\n",
       "    <tr>\n",
       "      <th>Rural</th>\n",
       "      <td>26</td>\n",
       "      <td>59</td>\n",
       "    </tr>\n",
       "    <tr>\n",
       "      <th>Suburb</th>\n",
       "      <td>74</td>\n",
       "      <td>158</td>\n",
       "    </tr>\n",
       "  </tbody>\n",
       "</table>\n",
       "</div>"
      ],
      "text/plain": [
       "gender    Female  Male\n",
       "location              \n",
       "City         226   457\n",
       "Rural         26    59\n",
       "Suburb        74   158"
      ]
     },
     "execution_count": 49,
     "metadata": {},
     "output_type": "execute_result"
    }
   ],
   "source": [
    "customer_location_gender = df_cust.groupby(['location', 'gender']).size().unstack()\n",
    "customer_location_gender"
   ]
  },
  {
   "cell_type": "code",
   "execution_count": 50,
   "id": "bd68cbde",
   "metadata": {},
   "outputs": [
    {
     "data": {
      "image/png": "[encoded data removed]",
      "text/plain": [
       "<Figure size 360x288 with 1 Axes>"
      ]
     },
     "metadata": {
      "needs_background": "light"
     },
     "output_type": "display_data"
    }
   ],
   "source": [
    "customer_location_gender.plot(kind = 'bar', stacked = True, figsize = (5,4))\n",
    "\n",
    "plt.legend(title = \"Gender\")\n",
    "plt.xlabel('location')\n",
    "plt.ylabel('Count')\n",
    "plt.title('Customer Distribution by Gender and Location')\n",
    "plt.show()"
   ]
  },
  {
   "cell_type": "markdown",
   "id": "27d55014",
   "metadata": {},
   "source": [
    "# Explore Credit Score Table"
   ]
  },
  {
   "cell_type": "code",
   "execution_count": 51,
   "id": "71eaa033",
   "metadata": {},
   "outputs": [
    {
     "data": {
      "text/html": [
       "<div>\n",
       "<style scoped>\n",
       "    .dataframe tbody tr th:only-of-type {\n",
       "        vertical-align: middle;\n",
       "    }\n",
       "\n",
       "    .dataframe tbody tr th {\n",
       "        vertical-align: top;\n",
       "    }\n",
       "\n",
       "    .dataframe thead th {\n",
       "        text-align: right;\n",
       "    }\n",
       "</style>\n",
       "<table border=\"1\" class=\"dataframe\">\n",
       "  <thead>\n",
       "    <tr style=\"text-align: right;\">\n",
       "      <th></th>\n",
       "      <th>cust_id</th>\n",
       "      <th>credit_score</th>\n",
       "      <th>credit_utilisation</th>\n",
       "      <th>outstanding_debt</th>\n",
       "      <th>credit_inquiries_last_6_months</th>\n",
       "      <th>credit_limit</th>\n",
       "    </tr>\n",
       "  </thead>\n",
       "  <tbody>\n",
       "    <tr>\n",
       "      <th>0</th>\n",
       "      <td>1</td>\n",
       "      <td>749</td>\n",
       "      <td>0.585171</td>\n",
       "      <td>19571.0</td>\n",
       "      <td>0.0</td>\n",
       "      <td>40000.0</td>\n",
       "    </tr>\n",
       "    <tr>\n",
       "      <th>1</th>\n",
       "      <td>2</td>\n",
       "      <td>587</td>\n",
       "      <td>0.107928</td>\n",
       "      <td>161644.0</td>\n",
       "      <td>2.0</td>\n",
       "      <td>1250.0</td>\n",
       "    </tr>\n",
       "    <tr>\n",
       "      <th>2</th>\n",
       "      <td>3</td>\n",
       "      <td>544</td>\n",
       "      <td>0.854807</td>\n",
       "      <td>513.0</td>\n",
       "      <td>4.0</td>\n",
       "      <td>1000.0</td>\n",
       "    </tr>\n",
       "    <tr>\n",
       "      <th>3</th>\n",
       "      <td>4</td>\n",
       "      <td>504</td>\n",
       "      <td>0.336938</td>\n",
       "      <td>224.0</td>\n",
       "      <td>2.0</td>\n",
       "      <td>1000.0</td>\n",
       "    </tr>\n",
       "    <tr>\n",
       "      <th>4</th>\n",
       "      <td>5</td>\n",
       "      <td>708</td>\n",
       "      <td>0.586151</td>\n",
       "      <td>18090.0</td>\n",
       "      <td>2.0</td>\n",
       "      <td>40000.0</td>\n",
       "    </tr>\n",
       "  </tbody>\n",
       "</table>\n",
       "</div>"
      ],
      "text/plain": [
       "   cust_id  credit_score  credit_utilisation  outstanding_debt  \\\n",
       "0        1           749            0.585171           19571.0   \n",
       "1        2           587            0.107928          161644.0   \n",
       "2        3           544            0.854807             513.0   \n",
       "3        4           504            0.336938             224.0   \n",
       "4        5           708            0.586151           18090.0   \n",
       "\n",
       "   credit_inquiries_last_6_months  credit_limit  \n",
       "0                             0.0       40000.0  \n",
       "1                             2.0        1250.0  \n",
       "2                             4.0        1000.0  \n",
       "3                             2.0        1000.0  \n",
       "4                             2.0       40000.0  "
      ]
     },
     "execution_count": 51,
     "metadata": {},
     "output_type": "execute_result"
    }
   ],
   "source": [
    "df_cp.head()"
   ]
  },
  {
   "cell_type": "code",
   "execution_count": 52,
   "id": "fcb8ddb4",
   "metadata": {},
   "outputs": [
    {
     "data": {
      "text/plain": [
       "(1004, 6)"
      ]
     },
     "execution_count": 52,
     "metadata": {},
     "output_type": "execute_result"
    }
   ],
   "source": [
    "df_cp.shape"
   ]
  },
  {
   "cell_type": "code",
   "execution_count": 53,
   "id": "7195ffe8",
   "metadata": {},
   "outputs": [
    {
     "data": {
      "text/plain": [
       "(1000, 9)"
      ]
     },
     "execution_count": 53,
     "metadata": {},
     "output_type": "execute_result"
    }
   ],
   "source": [
    "df_cust.shape"
   ]
  },
  {
   "cell_type": "code",
   "execution_count": 54,
   "id": "c3c9d067",
   "metadata": {},
   "outputs": [
    {
     "data": {
      "text/plain": [
       "array([   1,    2,    3,    4,    5,    6,    7,    8,    9,   10,   11,\n",
       "         12,   13,   14,   15,   16,   17,   18,   19,   20,   21,   22,\n",
       "         23,   24,   25,   26,   27,   28,   29,   30,   31,   32,   33,\n",
       "         34,   35,   36,   37,   38,   39,   40,   41,   42,   43,   44,\n",
       "         45,   46,   47,   48,   49,   50,   51,   52,   53,   54,   55,\n",
       "         56,   57,   58,   59,   60,   61,   62,   63,   64,   65,   66,\n",
       "         67,   68,   69,   70,   71,   72,   73,   74,   75,   76,   77,\n",
       "         78,   79,   80,   81,   82,   83,   84,   85,   86,   87,   88,\n",
       "         89,   90,   91,   92,   93,   94,   95,   96,   97,   98,   99,\n",
       "        100,  101,  102,  103,  104,  105,  106,  107,  108,  109,  110,\n",
       "        111,  112,  113,  114,  115,  116,  117,  118,  119,  120,  121,\n",
       "        122,  123,  124,  125,  126,  127,  128,  129,  130,  131,  132,\n",
       "        133,  134,  135,  136,  137,  138,  139,  140,  141,  142,  143,\n",
       "        144,  145,  146,  147,  148,  149,  150,  151,  152,  153,  154,\n",
       "        155,  156,  157,  158,  159,  160,  161,  162,  163,  164,  165,\n",
       "        166,  167,  168,  169,  170,  171,  172,  173,  174,  175,  176,\n",
       "        177,  178,  179,  180,  181,  182,  183,  184,  185,  186,  187,\n",
       "        188,  189,  190,  191,  192,  193,  194,  195,  196,  197,  198,\n",
       "        199,  200,  201,  202,  203,  204,  205,  206,  207,  208,  209,\n",
       "        210,  211,  212,  213,  214,  215,  216,  217,  218,  219,  220,\n",
       "        221,  222,  223,  224,  225,  226,  227,  228,  229,  230,  231,\n",
       "        232,  233,  234,  235,  236,  237,  238,  239,  240,  241,  242,\n",
       "        243,  244,  245,  246,  247,  248,  249,  250,  251,  252,  253,\n",
       "        254,  255,  256,  257,  258,  259,  260,  261,  262,  263,  264,\n",
       "        265,  266,  267,  268,  269,  270,  271,  272,  273,  274,  275,\n",
       "        276,  277,  278,  279,  280,  281,  282,  283,  284,  285,  286,\n",
       "        287,  288,  289,  290,  291,  292,  293,  294,  295,  296,  297,\n",
       "        298,  299,  300,  301,  302,  303,  304,  305,  306,  307,  308,\n",
       "        309,  310,  311,  312,  313,  314,  315,  316,  317,  318,  319,\n",
       "        320,  321,  322,  323,  324,  325,  326,  327,  328,  329,  330,\n",
       "        331,  332,  333,  334,  335,  336,  337,  338,  339,  340,  341,\n",
       "        342,  343,  344,  345,  346,  347,  348,  349,  350,  351,  352,\n",
       "        353,  354,  355,  356,  357,  358,  359,  360,  361,  362,  363,\n",
       "        364,  365,  366,  367,  368,  369,  370,  371,  372,  373,  374,\n",
       "        375,  376,  377,  378,  379,  380,  381,  382,  383,  384,  385,\n",
       "        386,  387,  388,  389,  390,  391,  392,  393,  394,  395,  396,\n",
       "        397,  398,  399,  400,  401,  402,  403,  404,  405,  406,  407,\n",
       "        408,  409,  410,  411,  412,  413,  414,  415,  416,  417,  418,\n",
       "        419,  420,  421,  422,  423,  424,  425,  426,  427,  428,  429,\n",
       "        430,  431,  432,  433,  434,  435,  436,  437,  438,  439,  440,\n",
       "        441,  442,  443,  444,  445,  446,  447,  448,  449,  450,  451,\n",
       "        452,  453,  454,  455,  456,  457,  458,  459,  460,  461,  462,\n",
       "        463,  464,  465,  466,  467,  468,  469,  470,  471,  472,  473,\n",
       "        474,  475,  476,  477,  478,  479,  480,  481,  482,  483,  484,\n",
       "        485,  486,  487,  488,  489,  490,  491,  492,  493,  494,  495,\n",
       "        496,  497,  498,  499,  500,  501,  502,  503,  504,  505,  506,\n",
       "        507,  508,  509,  510,  511,  512,  513,  514,  515,  516,  517,\n",
       "        518,  519,  520,  521,  522,  523,  524,  525,  526,  527,  528,\n",
       "        529,  530,  531,  532,  533,  534,  535,  536,  537,  538,  539,\n",
       "        540,  541,  542,  543,  544,  545,  546,  547,  548,  549,  550,\n",
       "        551,  552,  553,  554,  555,  556,  557,  558,  559,  560,  561,\n",
       "        562,  563,  564,  565,  566,  567,  568,  569,  570,  571,  572,\n",
       "        573,  574,  575,  576,  577,  578,  579,  580,  581,  582,  583,\n",
       "        584,  585,  586,  587,  588,  589,  590,  591,  592,  593,  594,\n",
       "        595,  596,  597,  598,  599,  600,  601,  602,  603,  604,  605,\n",
       "        606,  607,  608,  609,  610,  611,  612,  613,  614,  615,  616,\n",
       "        617,  618,  619,  620,  621,  622,  623,  624,  625,  626,  627,\n",
       "        628,  629,  630,  631,  632,  633,  634,  635,  636,  637,  638,\n",
       "        639,  640,  641,  642,  643,  644,  645,  646,  647,  648,  649,\n",
       "        650,  651,  652,  653,  654,  655,  656,  657,  658,  659,  660,\n",
       "        661,  662,  663,  664,  665,  666,  667,  668,  669,  670,  671,\n",
       "        672,  673,  674,  675,  676,  677,  678,  679,  680,  681,  682,\n",
       "        683,  684,  685,  686,  687,  688,  689,  690,  691,  692,  693,\n",
       "        694,  695,  696,  697,  698,  699,  700,  701,  702,  703,  704,\n",
       "        705,  706,  707,  708,  709,  710,  711,  712,  713,  714,  715,\n",
       "        716,  717,  718,  719,  720,  721,  722,  723,  724,  725,  726,\n",
       "        727,  728,  729,  730,  731,  732,  733,  734,  735,  736,  737,\n",
       "        738,  739,  740,  741,  742,  743,  744,  745,  746,  747,  748,\n",
       "        749,  750,  751,  752,  753,  754,  755,  756,  757,  758,  759,\n",
       "        760,  761,  762,  763,  764,  765,  766,  767,  768,  769,  770,\n",
       "        771,  772,  773,  774,  775,  776,  777,  778,  779,  780,  781,\n",
       "        782,  783,  784,  785,  786,  787,  788,  789,  790,  791,  792,\n",
       "        793,  794,  795,  796,  797,  798,  799,  800,  801,  802,  803,\n",
       "        804,  805,  806,  807,  808,  809,  810,  811,  812,  813,  814,\n",
       "        815,  816,  817,  818,  819,  820,  821,  822,  823,  824,  825,\n",
       "        826,  827,  828,  829,  830,  831,  832,  833,  834,  835,  836,\n",
       "        837,  838,  839,  840,  841,  842,  843,  844,  845,  846,  847,\n",
       "        848,  849,  850,  851,  852,  853,  854,  855,  856,  857,  858,\n",
       "        859,  860,  861,  862,  863,  864,  865,  866,  867,  868,  869,\n",
       "        870,  871,  872,  873,  874,  875,  876,  877,  878,  879,  880,\n",
       "        881,  882,  883,  884,  885,  886,  887,  888,  889,  890,  891,\n",
       "        892,  893,  894,  895,  896,  897,  898,  899,  900,  901,  902,\n",
       "        903,  904,  905,  906,  907,  908,  909,  910,  911,  912,  913,\n",
       "        914,  915,  916,  917,  918,  919,  920,  921,  922,  923,  924,\n",
       "        925,  926,  927,  928,  929,  930,  931,  932,  933,  934,  935,\n",
       "        936,  937,  938,  939,  940,  941,  942,  943,  944,  945,  946,\n",
       "        947,  948,  949,  950,  951,  952,  953,  954,  955,  956,  957,\n",
       "        958,  959,  960,  961,  962,  963,  964,  965,  966,  967,  968,\n",
       "        969,  970,  971,  972,  973,  974,  975,  976,  977,  978,  979,\n",
       "        980,  981,  982,  983,  984,  985,  986,  987,  988,  989,  990,\n",
       "        991,  992,  993,  994,  995,  996,  997,  998,  999, 1000],\n",
       "      dtype=int64)"
      ]
     },
     "execution_count": 54,
     "metadata": {},
     "output_type": "execute_result"
    }
   ],
   "source": [
    "df_cp.cust_id.unique()"
   ]
  },
  {
   "cell_type": "code",
   "execution_count": 55,
   "id": "0bfe93ac",
   "metadata": {},
   "outputs": [
    {
     "data": {
      "text/plain": [
       "1000"
      ]
     },
     "execution_count": 55,
     "metadata": {},
     "output_type": "execute_result"
    }
   ],
   "source": [
    "df_cp.cust_id.nunique()"
   ]
  },
  {
   "cell_type": "code",
   "execution_count": 56,
   "id": "165e0179",
   "metadata": {},
   "outputs": [
    {
     "data": {
      "text/html": [
       "<div>\n",
       "<style scoped>\n",
       "    .dataframe tbody tr th:only-of-type {\n",
       "        vertical-align: middle;\n",
       "    }\n",
       "\n",
       "    .dataframe tbody tr th {\n",
       "        vertical-align: top;\n",
       "    }\n",
       "\n",
       "    .dataframe thead th {\n",
       "        text-align: right;\n",
       "    }\n",
       "</style>\n",
       "<table border=\"1\" class=\"dataframe\">\n",
       "  <thead>\n",
       "    <tr style=\"text-align: right;\">\n",
       "      <th></th>\n",
       "      <th>cust_id</th>\n",
       "      <th>credit_score</th>\n",
       "      <th>credit_utilisation</th>\n",
       "      <th>outstanding_debt</th>\n",
       "      <th>credit_inquiries_last_6_months</th>\n",
       "      <th>credit_limit</th>\n",
       "    </tr>\n",
       "  </thead>\n",
       "  <tbody>\n",
       "    <tr>\n",
       "      <th>516</th>\n",
       "      <td>517</td>\n",
       "      <td>308</td>\n",
       "      <td>NaN</td>\n",
       "      <td>NaN</td>\n",
       "      <td>NaN</td>\n",
       "      <td>NaN</td>\n",
       "    </tr>\n",
       "    <tr>\n",
       "      <th>517</th>\n",
       "      <td>517</td>\n",
       "      <td>308</td>\n",
       "      <td>0.113860</td>\n",
       "      <td>33.0</td>\n",
       "      <td>3.0</td>\n",
       "      <td>500.0</td>\n",
       "    </tr>\n",
       "    <tr>\n",
       "      <th>569</th>\n",
       "      <td>569</td>\n",
       "      <td>344</td>\n",
       "      <td>NaN</td>\n",
       "      <td>NaN</td>\n",
       "      <td>NaN</td>\n",
       "      <td>NaN</td>\n",
       "    </tr>\n",
       "    <tr>\n",
       "      <th>570</th>\n",
       "      <td>569</td>\n",
       "      <td>344</td>\n",
       "      <td>0.112599</td>\n",
       "      <td>37.0</td>\n",
       "      <td>0.0</td>\n",
       "      <td>500.0</td>\n",
       "    </tr>\n",
       "    <tr>\n",
       "      <th>607</th>\n",
       "      <td>606</td>\n",
       "      <td>734</td>\n",
       "      <td>NaN</td>\n",
       "      <td>NaN</td>\n",
       "      <td>NaN</td>\n",
       "      <td>NaN</td>\n",
       "    </tr>\n",
       "    <tr>\n",
       "      <th>608</th>\n",
       "      <td>606</td>\n",
       "      <td>734</td>\n",
       "      <td>0.193418</td>\n",
       "      <td>4392.0</td>\n",
       "      <td>1.0</td>\n",
       "      <td>40000.0</td>\n",
       "    </tr>\n",
       "    <tr>\n",
       "      <th>664</th>\n",
       "      <td>662</td>\n",
       "      <td>442</td>\n",
       "      <td>NaN</td>\n",
       "      <td>NaN</td>\n",
       "      <td>NaN</td>\n",
       "      <td>NaN</td>\n",
       "    </tr>\n",
       "    <tr>\n",
       "      <th>665</th>\n",
       "      <td>662</td>\n",
       "      <td>442</td>\n",
       "      <td>0.856039</td>\n",
       "      <td>266.0</td>\n",
       "      <td>2.0</td>\n",
       "      <td>500.0</td>\n",
       "    </tr>\n",
       "  </tbody>\n",
       "</table>\n",
       "</div>"
      ],
      "text/plain": [
       "     cust_id  credit_score  credit_utilisation  outstanding_debt  \\\n",
       "516      517           308                 NaN               NaN   \n",
       "517      517           308            0.113860              33.0   \n",
       "569      569           344                 NaN               NaN   \n",
       "570      569           344            0.112599              37.0   \n",
       "607      606           734                 NaN               NaN   \n",
       "608      606           734            0.193418            4392.0   \n",
       "664      662           442                 NaN               NaN   \n",
       "665      662           442            0.856039             266.0   \n",
       "\n",
       "     credit_inquiries_last_6_months  credit_limit  \n",
       "516                             NaN           NaN  \n",
       "517                             3.0         500.0  \n",
       "569                             NaN           NaN  \n",
       "570                             0.0         500.0  \n",
       "607                             NaN           NaN  \n",
       "608                             1.0       40000.0  \n",
       "664                             NaN           NaN  \n",
       "665                             2.0         500.0  "
      ]
     },
     "execution_count": 56,
     "metadata": {},
     "output_type": "execute_result"
    }
   ],
   "source": [
    "df_cp[df_cp['cust_id'].duplicated(keep = False)]"
   ]
  },
  {
   "cell_type": "code",
   "execution_count": 57,
   "id": "dbd312f3",
   "metadata": {},
   "outputs": [
    {
     "data": {
      "text/plain": [
       "(1000, 6)"
      ]
     },
     "execution_count": 57,
     "metadata": {},
     "output_type": "execute_result"
    }
   ],
   "source": [
    "df_cp_clean_1 = df_cp.drop_duplicates(subset = 'cust_id', keep = 'last')\n",
    "df_cp_clean_1.shape"
   ]
  },
  {
   "cell_type": "code",
   "execution_count": 58,
   "id": "e487ef3f",
   "metadata": {},
   "outputs": [
    {
     "data": {
      "text/plain": [
       "(1000, 6)"
      ]
     },
     "execution_count": 58,
     "metadata": {},
     "output_type": "execute_result"
    }
   ],
   "source": [
    "df_cp_clean_1.shape"
   ]
  },
  {
   "cell_type": "code",
   "execution_count": 59,
   "id": "c8faa5ef",
   "metadata": {},
   "outputs": [
    {
     "data": {
      "text/plain": [
       "cust_id                            0\n",
       "credit_score                       0\n",
       "credit_utilisation                 0\n",
       "outstanding_debt                   0\n",
       "credit_inquiries_last_6_months     0\n",
       "credit_limit                      65\n",
       "dtype: int64"
      ]
     },
     "execution_count": 59,
     "metadata": {},
     "output_type": "execute_result"
    }
   ],
   "source": [
    "df_cp_clean_1.isnull().sum()"
   ]
  },
  {
   "cell_type": "code",
   "execution_count": 60,
   "id": "91849da3",
   "metadata": {},
   "outputs": [
    {
     "data": {
      "text/html": [
       "<div>\n",
       "<style scoped>\n",
       "    .dataframe tbody tr th:only-of-type {\n",
       "        vertical-align: middle;\n",
       "    }\n",
       "\n",
       "    .dataframe tbody tr th {\n",
       "        vertical-align: top;\n",
       "    }\n",
       "\n",
       "    .dataframe thead th {\n",
       "        text-align: right;\n",
       "    }\n",
       "</style>\n",
       "<table border=\"1\" class=\"dataframe\">\n",
       "  <thead>\n",
       "    <tr style=\"text-align: right;\">\n",
       "      <th></th>\n",
       "      <th>cust_id</th>\n",
       "      <th>credit_score</th>\n",
       "      <th>credit_utilisation</th>\n",
       "      <th>outstanding_debt</th>\n",
       "      <th>credit_inquiries_last_6_months</th>\n",
       "      <th>credit_limit</th>\n",
       "    </tr>\n",
       "  </thead>\n",
       "  <tbody>\n",
       "    <tr>\n",
       "      <th>10</th>\n",
       "      <td>11</td>\n",
       "      <td>679</td>\n",
       "      <td>0.557450</td>\n",
       "      <td>9187.0</td>\n",
       "      <td>2.0</td>\n",
       "      <td>NaN</td>\n",
       "    </tr>\n",
       "    <tr>\n",
       "      <th>35</th>\n",
       "      <td>36</td>\n",
       "      <td>790</td>\n",
       "      <td>0.112535</td>\n",
       "      <td>4261.0</td>\n",
       "      <td>1.0</td>\n",
       "      <td>NaN</td>\n",
       "    </tr>\n",
       "    <tr>\n",
       "      <th>37</th>\n",
       "      <td>38</td>\n",
       "      <td>514</td>\n",
       "      <td>0.296971</td>\n",
       "      <td>238.0</td>\n",
       "      <td>2.0</td>\n",
       "      <td>NaN</td>\n",
       "    </tr>\n",
       "    <tr>\n",
       "      <th>45</th>\n",
       "      <td>46</td>\n",
       "      <td>761</td>\n",
       "      <td>0.596041</td>\n",
       "      <td>24234.0</td>\n",
       "      <td>2.0</td>\n",
       "      <td>NaN</td>\n",
       "    </tr>\n",
       "    <tr>\n",
       "      <th>64</th>\n",
       "      <td>65</td>\n",
       "      <td>734</td>\n",
       "      <td>0.473715</td>\n",
       "      <td>13631.0</td>\n",
       "      <td>0.0</td>\n",
       "      <td>NaN</td>\n",
       "    </tr>\n",
       "    <tr>\n",
       "      <th>...</th>\n",
       "      <td>...</td>\n",
       "      <td>...</td>\n",
       "      <td>...</td>\n",
       "      <td>...</td>\n",
       "      <td>...</td>\n",
       "      <td>...</td>\n",
       "    </tr>\n",
       "    <tr>\n",
       "      <th>912</th>\n",
       "      <td>909</td>\n",
       "      <td>479</td>\n",
       "      <td>0.487555</td>\n",
       "      <td>320.0</td>\n",
       "      <td>3.0</td>\n",
       "      <td>NaN</td>\n",
       "    </tr>\n",
       "    <tr>\n",
       "      <th>931</th>\n",
       "      <td>928</td>\n",
       "      <td>311</td>\n",
       "      <td>0.832244</td>\n",
       "      <td>316.0</td>\n",
       "      <td>2.0</td>\n",
       "      <td>NaN</td>\n",
       "    </tr>\n",
       "    <tr>\n",
       "      <th>948</th>\n",
       "      <td>945</td>\n",
       "      <td>526</td>\n",
       "      <td>0.272734</td>\n",
       "      <td>227.0</td>\n",
       "      <td>1.0</td>\n",
       "      <td>NaN</td>\n",
       "    </tr>\n",
       "    <tr>\n",
       "      <th>954</th>\n",
       "      <td>951</td>\n",
       "      <td>513</td>\n",
       "      <td>0.175914</td>\n",
       "      <td>131.0</td>\n",
       "      <td>3.0</td>\n",
       "      <td>NaN</td>\n",
       "    </tr>\n",
       "    <tr>\n",
       "      <th>957</th>\n",
       "      <td>954</td>\n",
       "      <td>783</td>\n",
       "      <td>0.867421</td>\n",
       "      <td>46451.0</td>\n",
       "      <td>0.0</td>\n",
       "      <td>NaN</td>\n",
       "    </tr>\n",
       "  </tbody>\n",
       "</table>\n",
       "<p>65 rows × 6 columns</p>\n",
       "</div>"
      ],
      "text/plain": [
       "     cust_id  credit_score  credit_utilisation  outstanding_debt  \\\n",
       "10        11           679            0.557450            9187.0   \n",
       "35        36           790            0.112535            4261.0   \n",
       "37        38           514            0.296971             238.0   \n",
       "45        46           761            0.596041           24234.0   \n",
       "64        65           734            0.473715           13631.0   \n",
       "..       ...           ...                 ...               ...   \n",
       "912      909           479            0.487555             320.0   \n",
       "931      928           311            0.832244             316.0   \n",
       "948      945           526            0.272734             227.0   \n",
       "954      951           513            0.175914             131.0   \n",
       "957      954           783            0.867421           46451.0   \n",
       "\n",
       "     credit_inquiries_last_6_months  credit_limit  \n",
       "10                              2.0           NaN  \n",
       "35                              1.0           NaN  \n",
       "37                              2.0           NaN  \n",
       "45                              2.0           NaN  \n",
       "64                              0.0           NaN  \n",
       "..                              ...           ...  \n",
       "912                             3.0           NaN  \n",
       "931                             2.0           NaN  \n",
       "948                             1.0           NaN  \n",
       "954                             3.0           NaN  \n",
       "957                             0.0           NaN  \n",
       "\n",
       "[65 rows x 6 columns]"
      ]
     },
     "execution_count": 60,
     "metadata": {},
     "output_type": "execute_result"
    }
   ],
   "source": [
    "df_cp_clean_1[df_cp_clean_1['credit_limit'].isnull()]"
   ]
  },
  {
   "cell_type": "code",
   "execution_count": 61,
   "id": "ce9e8468",
   "metadata": {},
   "outputs": [
    {
     "data": {
      "text/plain": [
       "500.0      229\n",
       "60000.0    186\n",
       "40000.0    137\n",
       "1500.0     100\n",
       "1000.0      90\n",
       "750.0       76\n",
       "1250.0      75\n",
       "20000.0     42\n",
       "Name: credit_limit, dtype: int64"
      ]
     },
     "execution_count": 61,
     "metadata": {},
     "output_type": "execute_result"
    }
   ],
   "source": [
    "df_cp_clean_1.credit_limit.value_counts()"
   ]
  },
  {
   "cell_type": "code",
   "execution_count": 62,
   "id": "3b227bac",
   "metadata": {},
   "outputs": [
    {
     "data": {
      "image/png": "[encoded data removed]",
      "text/plain": [
       "<Figure size 1440x360 with 1 Axes>"
      ]
     },
     "metadata": {
      "needs_background": "light"
     },
     "output_type": "display_data"
    }
   ],
   "source": [
    "plt.figure(figsize = (20,5))\n",
    "plt.scatter(df_cp_clean_1.credit_limit, df_cp_clean_1.credit_score, c = 'blue', marker = 'o', label = 'Data Points')\n",
    "\n",
    "plt.title('Credit Score vs. Credit Limit')\n",
    "plt.xlabel('Credit Limit')\n",
    "plt.ylabel('Credit Score')\n",
    "plt.xticks(range(0,90001,5000))\n",
    "plt.grid(True)\n",
    "plt.legend()\n",
    "\n",
    "plt.show()"
   ]
  },
  {
   "cell_type": "code",
   "execution_count": 63,
   "id": "1af135a5",
   "metadata": {},
   "outputs": [],
   "source": [
    "bin_ranges = [300, 450, 500, 550, 600, 650, 700, 750, 800]\n",
    "\n",
    "bin_labels = [f'{start}-{end-1}' for start, end in zip(bin_ranges, bin_ranges[1:])]\n",
    "df_cp_clean_1['credit_score_range']= pd.cut(df_cp_clean_1['credit_score'], bins = bin_ranges, labels = bin_labels, include_lowest = True, right=False)"
   ]
  },
  {
   "cell_type": "code",
   "execution_count": 64,
   "id": "21b4871b",
   "metadata": {},
   "outputs": [
    {
     "data": {
      "text/plain": [
       "(1000, 7)"
      ]
     },
     "execution_count": 64,
     "metadata": {},
     "output_type": "execute_result"
    }
   ],
   "source": [
    "df_cp_clean_1.shape"
   ]
  },
  {
   "cell_type": "code",
   "execution_count": 65,
   "id": "719f3b4e",
   "metadata": {},
   "outputs": [],
   "source": [
    "mode_df = df_cp_clean_1.groupby('credit_score_range')['credit_limit'].agg(lambda x: x.mode().iloc[0]).reset_index()"
   ]
  },
  {
   "cell_type": "code",
   "execution_count": 66,
   "id": "c8ee660b",
   "metadata": {},
   "outputs": [
    {
     "data": {
      "text/html": [
       "<div>\n",
       "<style scoped>\n",
       "    .dataframe tbody tr th:only-of-type {\n",
       "        vertical-align: middle;\n",
       "    }\n",
       "\n",
       "    .dataframe tbody tr th {\n",
       "        vertical-align: top;\n",
       "    }\n",
       "\n",
       "    .dataframe thead th {\n",
       "        text-align: right;\n",
       "    }\n",
       "</style>\n",
       "<table border=\"1\" class=\"dataframe\">\n",
       "  <thead>\n",
       "    <tr style=\"text-align: right;\">\n",
       "      <th></th>\n",
       "      <th>credit_score_range</th>\n",
       "      <th>credit_limit</th>\n",
       "    </tr>\n",
       "  </thead>\n",
       "  <tbody>\n",
       "    <tr>\n",
       "      <th>0</th>\n",
       "      <td>300-449</td>\n",
       "      <td>500.0</td>\n",
       "    </tr>\n",
       "    <tr>\n",
       "      <th>1</th>\n",
       "      <td>450-499</td>\n",
       "      <td>750.0</td>\n",
       "    </tr>\n",
       "    <tr>\n",
       "      <th>2</th>\n",
       "      <td>500-549</td>\n",
       "      <td>1000.0</td>\n",
       "    </tr>\n",
       "    <tr>\n",
       "      <th>3</th>\n",
       "      <td>550-599</td>\n",
       "      <td>1250.0</td>\n",
       "    </tr>\n",
       "    <tr>\n",
       "      <th>4</th>\n",
       "      <td>600-649</td>\n",
       "      <td>1500.0</td>\n",
       "    </tr>\n",
       "    <tr>\n",
       "      <th>5</th>\n",
       "      <td>650-699</td>\n",
       "      <td>20000.0</td>\n",
       "    </tr>\n",
       "    <tr>\n",
       "      <th>6</th>\n",
       "      <td>700-749</td>\n",
       "      <td>40000.0</td>\n",
       "    </tr>\n",
       "    <tr>\n",
       "      <th>7</th>\n",
       "      <td>750-799</td>\n",
       "      <td>60000.0</td>\n",
       "    </tr>\n",
       "  </tbody>\n",
       "</table>\n",
       "</div>"
      ],
      "text/plain": [
       "  credit_score_range  credit_limit\n",
       "0            300-449         500.0\n",
       "1            450-499         750.0\n",
       "2            500-549        1000.0\n",
       "3            550-599        1250.0\n",
       "4            600-649        1500.0\n",
       "5            650-699       20000.0\n",
       "6            700-749       40000.0\n",
       "7            750-799       60000.0"
      ]
     },
     "execution_count": 66,
     "metadata": {},
     "output_type": "execute_result"
    }
   ],
   "source": [
    "mode_df"
   ]
  },
  {
   "cell_type": "code",
   "execution_count": null,
   "id": "66b3a4a8",
   "metadata": {},
   "outputs": [],
   "source": []
  },
  {
   "cell_type": "code",
   "execution_count": 67,
   "id": "9d85dc11",
   "metadata": {},
   "outputs": [
    {
     "data": {
      "text/html": [
       "<div>\n",
       "<style scoped>\n",
       "    .dataframe tbody tr th:only-of-type {\n",
       "        vertical-align: middle;\n",
       "    }\n",
       "\n",
       "    .dataframe tbody tr th {\n",
       "        vertical-align: top;\n",
       "    }\n",
       "\n",
       "    .dataframe thead th {\n",
       "        text-align: right;\n",
       "    }\n",
       "</style>\n",
       "<table border=\"1\" class=\"dataframe\">\n",
       "  <thead>\n",
       "    <tr style=\"text-align: right;\">\n",
       "      <th></th>\n",
       "      <th>cust_id</th>\n",
       "      <th>credit_score</th>\n",
       "      <th>credit_utilisation</th>\n",
       "      <th>outstanding_debt</th>\n",
       "      <th>credit_inquiries_last_6_months</th>\n",
       "      <th>credit_limit</th>\n",
       "      <th>credit_score_range</th>\n",
       "    </tr>\n",
       "  </thead>\n",
       "  <tbody>\n",
       "    <tr>\n",
       "      <th>64</th>\n",
       "      <td>65</td>\n",
       "      <td>734</td>\n",
       "      <td>0.473715</td>\n",
       "      <td>13631.0</td>\n",
       "      <td>0.0</td>\n",
       "      <td>NaN</td>\n",
       "      <td>700-749</td>\n",
       "    </tr>\n",
       "    <tr>\n",
       "      <th>772</th>\n",
       "      <td>769</td>\n",
       "      <td>563</td>\n",
       "      <td>0.865592</td>\n",
       "      <td>898.0</td>\n",
       "      <td>3.0</td>\n",
       "      <td>NaN</td>\n",
       "      <td>550-599</td>\n",
       "    </tr>\n",
       "    <tr>\n",
       "      <th>211</th>\n",
       "      <td>212</td>\n",
       "      <td>337</td>\n",
       "      <td>0.608700</td>\n",
       "      <td>226.0</td>\n",
       "      <td>4.0</td>\n",
       "      <td>NaN</td>\n",
       "      <td>300-449</td>\n",
       "    </tr>\n",
       "  </tbody>\n",
       "</table>\n",
       "</div>"
      ],
      "text/plain": [
       "     cust_id  credit_score  credit_utilisation  outstanding_debt  \\\n",
       "64        65           734            0.473715           13631.0   \n",
       "772      769           563            0.865592             898.0   \n",
       "211      212           337            0.608700             226.0   \n",
       "\n",
       "     credit_inquiries_last_6_months  credit_limit credit_score_range  \n",
       "64                              0.0           NaN            700-749  \n",
       "772                             3.0           NaN            550-599  \n",
       "211                             4.0           NaN            300-449  "
      ]
     },
     "execution_count": 67,
     "metadata": {},
     "output_type": "execute_result"
    }
   ],
   "source": [
    "df_cp_clean_1[df_cp_clean_1['credit_limit'].isnull()].sample(3)"
   ]
  },
  {
   "cell_type": "code",
   "execution_count": 68,
   "id": "7a884063",
   "metadata": {},
   "outputs": [
    {
     "data": {
      "text/html": [
       "<div>\n",
       "<style scoped>\n",
       "    .dataframe tbody tr th:only-of-type {\n",
       "        vertical-align: middle;\n",
       "    }\n",
       "\n",
       "    .dataframe tbody tr th {\n",
       "        vertical-align: top;\n",
       "    }\n",
       "\n",
       "    .dataframe thead th {\n",
       "        text-align: right;\n",
       "    }\n",
       "</style>\n",
       "<table border=\"1\" class=\"dataframe\">\n",
       "  <thead>\n",
       "    <tr style=\"text-align: right;\">\n",
       "      <th></th>\n",
       "      <th>cust_id</th>\n",
       "      <th>credit_score</th>\n",
       "      <th>credit_utilisation</th>\n",
       "      <th>outstanding_debt</th>\n",
       "      <th>credit_inquiries_last_6_months</th>\n",
       "      <th>credit_limit</th>\n",
       "      <th>credit_score_range</th>\n",
       "    </tr>\n",
       "  </thead>\n",
       "  <tbody>\n",
       "    <tr>\n",
       "      <th>0</th>\n",
       "      <td>1</td>\n",
       "      <td>749</td>\n",
       "      <td>0.585171</td>\n",
       "      <td>19571.0</td>\n",
       "      <td>0.0</td>\n",
       "      <td>40000.0</td>\n",
       "      <td>700-749</td>\n",
       "    </tr>\n",
       "    <tr>\n",
       "      <th>1</th>\n",
       "      <td>2</td>\n",
       "      <td>587</td>\n",
       "      <td>0.107928</td>\n",
       "      <td>161644.0</td>\n",
       "      <td>2.0</td>\n",
       "      <td>1250.0</td>\n",
       "      <td>550-599</td>\n",
       "    </tr>\n",
       "    <tr>\n",
       "      <th>2</th>\n",
       "      <td>3</td>\n",
       "      <td>544</td>\n",
       "      <td>0.854807</td>\n",
       "      <td>513.0</td>\n",
       "      <td>4.0</td>\n",
       "      <td>1000.0</td>\n",
       "      <td>500-549</td>\n",
       "    </tr>\n",
       "    <tr>\n",
       "      <th>3</th>\n",
       "      <td>4</td>\n",
       "      <td>504</td>\n",
       "      <td>0.336938</td>\n",
       "      <td>224.0</td>\n",
       "      <td>2.0</td>\n",
       "      <td>1000.0</td>\n",
       "      <td>500-549</td>\n",
       "    </tr>\n",
       "    <tr>\n",
       "      <th>4</th>\n",
       "      <td>5</td>\n",
       "      <td>708</td>\n",
       "      <td>0.586151</td>\n",
       "      <td>18090.0</td>\n",
       "      <td>2.0</td>\n",
       "      <td>40000.0</td>\n",
       "      <td>700-749</td>\n",
       "    </tr>\n",
       "    <tr>\n",
       "      <th>...</th>\n",
       "      <td>...</td>\n",
       "      <td>...</td>\n",
       "      <td>...</td>\n",
       "      <td>...</td>\n",
       "      <td>...</td>\n",
       "      <td>...</td>\n",
       "      <td>...</td>\n",
       "    </tr>\n",
       "    <tr>\n",
       "      <th>999</th>\n",
       "      <td>996</td>\n",
       "      <td>564</td>\n",
       "      <td>0.702963</td>\n",
       "      <td>688.0</td>\n",
       "      <td>2.0</td>\n",
       "      <td>1250.0</td>\n",
       "      <td>550-599</td>\n",
       "    </tr>\n",
       "    <tr>\n",
       "      <th>1000</th>\n",
       "      <td>997</td>\n",
       "      <td>774</td>\n",
       "      <td>0.465462</td>\n",
       "      <td>17139.0</td>\n",
       "      <td>0.0</td>\n",
       "      <td>60000.0</td>\n",
       "      <td>750-799</td>\n",
       "    </tr>\n",
       "    <tr>\n",
       "      <th>1001</th>\n",
       "      <td>998</td>\n",
       "      <td>529</td>\n",
       "      <td>0.585856</td>\n",
       "      <td>386.0</td>\n",
       "      <td>3.0</td>\n",
       "      <td>1000.0</td>\n",
       "      <td>500-549</td>\n",
       "    </tr>\n",
       "    <tr>\n",
       "      <th>1002</th>\n",
       "      <td>999</td>\n",
       "      <td>725</td>\n",
       "      <td>0.249670</td>\n",
       "      <td>6973.0</td>\n",
       "      <td>2.0</td>\n",
       "      <td>40000.0</td>\n",
       "      <td>700-749</td>\n",
       "    </tr>\n",
       "    <tr>\n",
       "      <th>1003</th>\n",
       "      <td>1000</td>\n",
       "      <td>775</td>\n",
       "      <td>0.696050</td>\n",
       "      <td>33956.0</td>\n",
       "      <td>1.0</td>\n",
       "      <td>60000.0</td>\n",
       "      <td>750-799</td>\n",
       "    </tr>\n",
       "  </tbody>\n",
       "</table>\n",
       "<p>1000 rows × 7 columns</p>\n",
       "</div>"
      ],
      "text/plain": [
       "      cust_id  credit_score  credit_utilisation  outstanding_debt  \\\n",
       "0           1           749            0.585171           19571.0   \n",
       "1           2           587            0.107928          161644.0   \n",
       "2           3           544            0.854807             513.0   \n",
       "3           4           504            0.336938             224.0   \n",
       "4           5           708            0.586151           18090.0   \n",
       "...       ...           ...                 ...               ...   \n",
       "999       996           564            0.702963             688.0   \n",
       "1000      997           774            0.465462           17139.0   \n",
       "1001      998           529            0.585856             386.0   \n",
       "1002      999           725            0.249670            6973.0   \n",
       "1003     1000           775            0.696050           33956.0   \n",
       "\n",
       "      credit_inquiries_last_6_months  credit_limit credit_score_range  \n",
       "0                                0.0       40000.0            700-749  \n",
       "1                                2.0        1250.0            550-599  \n",
       "2                                4.0        1000.0            500-549  \n",
       "3                                2.0        1000.0            500-549  \n",
       "4                                2.0       40000.0            700-749  \n",
       "...                              ...           ...                ...  \n",
       "999                              2.0        1250.0            550-599  \n",
       "1000                             0.0       60000.0            750-799  \n",
       "1001                             3.0        1000.0            500-549  \n",
       "1002                             2.0       40000.0            700-749  \n",
       "1003                             1.0       60000.0            750-799  \n",
       "\n",
       "[1000 rows x 7 columns]"
      ]
     },
     "execution_count": 68,
     "metadata": {},
     "output_type": "execute_result"
    }
   ],
   "source": [
    "df_cp_clean_1"
   ]
  },
  {
   "cell_type": "code",
   "execution_count": 69,
   "id": "82f35b8f",
   "metadata": {},
   "outputs": [
    {
     "data": {
      "text/html": [
       "<div>\n",
       "<style scoped>\n",
       "    .dataframe tbody tr th:only-of-type {\n",
       "        vertical-align: middle;\n",
       "    }\n",
       "\n",
       "    .dataframe tbody tr th {\n",
       "        vertical-align: top;\n",
       "    }\n",
       "\n",
       "    .dataframe thead th {\n",
       "        text-align: right;\n",
       "    }\n",
       "</style>\n",
       "<table border=\"1\" class=\"dataframe\">\n",
       "  <thead>\n",
       "    <tr style=\"text-align: right;\">\n",
       "      <th></th>\n",
       "      <th>cust_id</th>\n",
       "      <th>credit_score</th>\n",
       "      <th>credit_utilisation</th>\n",
       "      <th>outstanding_debt</th>\n",
       "      <th>credit_inquiries_last_6_months</th>\n",
       "      <th>credit_limit</th>\n",
       "      <th>credit_score_range</th>\n",
       "      <th>credit_limit_mod</th>\n",
       "    </tr>\n",
       "  </thead>\n",
       "  <tbody>\n",
       "    <tr>\n",
       "      <th>0</th>\n",
       "      <td>1</td>\n",
       "      <td>749</td>\n",
       "      <td>0.585171</td>\n",
       "      <td>19571.0</td>\n",
       "      <td>0.0</td>\n",
       "      <td>40000.0</td>\n",
       "      <td>700-749</td>\n",
       "      <td>40000.0</td>\n",
       "    </tr>\n",
       "    <tr>\n",
       "      <th>1</th>\n",
       "      <td>5</td>\n",
       "      <td>708</td>\n",
       "      <td>0.586151</td>\n",
       "      <td>18090.0</td>\n",
       "      <td>2.0</td>\n",
       "      <td>40000.0</td>\n",
       "      <td>700-749</td>\n",
       "      <td>40000.0</td>\n",
       "    </tr>\n",
       "    <tr>\n",
       "      <th>2</th>\n",
       "      <td>7</td>\n",
       "      <td>747</td>\n",
       "      <td>0.523965</td>\n",
       "      <td>15544.0</td>\n",
       "      <td>4.0</td>\n",
       "      <td>40000.0</td>\n",
       "      <td>700-749</td>\n",
       "      <td>40000.0</td>\n",
       "    </tr>\n",
       "    <tr>\n",
       "      <th>3</th>\n",
       "      <td>17</td>\n",
       "      <td>702</td>\n",
       "      <td>0.894423</td>\n",
       "      <td>18444.0</td>\n",
       "      <td>0.0</td>\n",
       "      <td>40000.0</td>\n",
       "      <td>700-749</td>\n",
       "      <td>40000.0</td>\n",
       "    </tr>\n",
       "    <tr>\n",
       "      <th>4</th>\n",
       "      <td>28</td>\n",
       "      <td>729</td>\n",
       "      <td>0.149748</td>\n",
       "      <td>3453.0</td>\n",
       "      <td>2.0</td>\n",
       "      <td>40000.0</td>\n",
       "      <td>700-749</td>\n",
       "      <td>40000.0</td>\n",
       "    </tr>\n",
       "    <tr>\n",
       "      <th>...</th>\n",
       "      <td>...</td>\n",
       "      <td>...</td>\n",
       "      <td>...</td>\n",
       "      <td>...</td>\n",
       "      <td>...</td>\n",
       "      <td>...</td>\n",
       "      <td>...</td>\n",
       "      <td>...</td>\n",
       "    </tr>\n",
       "    <tr>\n",
       "      <th>995</th>\n",
       "      <td>985</td>\n",
       "      <td>770</td>\n",
       "      <td>0.628088</td>\n",
       "      <td>33405.0</td>\n",
       "      <td>2.0</td>\n",
       "      <td>60000.0</td>\n",
       "      <td>750-799</td>\n",
       "      <td>60000.0</td>\n",
       "    </tr>\n",
       "    <tr>\n",
       "      <th>996</th>\n",
       "      <td>990</td>\n",
       "      <td>772</td>\n",
       "      <td>0.259958</td>\n",
       "      <td>11937.0</td>\n",
       "      <td>2.0</td>\n",
       "      <td>60000.0</td>\n",
       "      <td>750-799</td>\n",
       "      <td>60000.0</td>\n",
       "    </tr>\n",
       "    <tr>\n",
       "      <th>997</th>\n",
       "      <td>993</td>\n",
       "      <td>782</td>\n",
       "      <td>0.477170</td>\n",
       "      <td>20305.0</td>\n",
       "      <td>2.0</td>\n",
       "      <td>60000.0</td>\n",
       "      <td>750-799</td>\n",
       "      <td>60000.0</td>\n",
       "    </tr>\n",
       "    <tr>\n",
       "      <th>998</th>\n",
       "      <td>997</td>\n",
       "      <td>774</td>\n",
       "      <td>0.465462</td>\n",
       "      <td>17139.0</td>\n",
       "      <td>0.0</td>\n",
       "      <td>60000.0</td>\n",
       "      <td>750-799</td>\n",
       "      <td>60000.0</td>\n",
       "    </tr>\n",
       "    <tr>\n",
       "      <th>999</th>\n",
       "      <td>1000</td>\n",
       "      <td>775</td>\n",
       "      <td>0.696050</td>\n",
       "      <td>33956.0</td>\n",
       "      <td>1.0</td>\n",
       "      <td>60000.0</td>\n",
       "      <td>750-799</td>\n",
       "      <td>60000.0</td>\n",
       "    </tr>\n",
       "  </tbody>\n",
       "</table>\n",
       "<p>1000 rows × 8 columns</p>\n",
       "</div>"
      ],
      "text/plain": [
       "     cust_id  credit_score  credit_utilisation  outstanding_debt  \\\n",
       "0          1           749            0.585171           19571.0   \n",
       "1          5           708            0.586151           18090.0   \n",
       "2          7           747            0.523965           15544.0   \n",
       "3         17           702            0.894423           18444.0   \n",
       "4         28           729            0.149748            3453.0   \n",
       "..       ...           ...                 ...               ...   \n",
       "995      985           770            0.628088           33405.0   \n",
       "996      990           772            0.259958           11937.0   \n",
       "997      993           782            0.477170           20305.0   \n",
       "998      997           774            0.465462           17139.0   \n",
       "999     1000           775            0.696050           33956.0   \n",
       "\n",
       "     credit_inquiries_last_6_months  credit_limit credit_score_range  \\\n",
       "0                               0.0       40000.0            700-749   \n",
       "1                               2.0       40000.0            700-749   \n",
       "2                               4.0       40000.0            700-749   \n",
       "3                               0.0       40000.0            700-749   \n",
       "4                               2.0       40000.0            700-749   \n",
       "..                              ...           ...                ...   \n",
       "995                             2.0       60000.0            750-799   \n",
       "996                             2.0       60000.0            750-799   \n",
       "997                             2.0       60000.0            750-799   \n",
       "998                             0.0       60000.0            750-799   \n",
       "999                             1.0       60000.0            750-799   \n",
       "\n",
       "     credit_limit_mod  \n",
       "0             40000.0  \n",
       "1             40000.0  \n",
       "2             40000.0  \n",
       "3             40000.0  \n",
       "4             40000.0  \n",
       "..                ...  \n",
       "995           60000.0  \n",
       "996           60000.0  \n",
       "997           60000.0  \n",
       "998           60000.0  \n",
       "999           60000.0  \n",
       "\n",
       "[1000 rows x 8 columns]"
      ]
     },
     "execution_count": 69,
     "metadata": {},
     "output_type": "execute_result"
    }
   ],
   "source": [
    "df_cp_clean_2= pd.merge(df_cp_clean_1, mode_df, on = 'credit_score_range', suffixes = (\"\", \"_mod\"))\n",
    "df_cp_clean_2"
   ]
  },
  {
   "cell_type": "code",
   "execution_count": 70,
   "id": "bca270b3",
   "metadata": {},
   "outputs": [
    {
     "data": {
      "text/html": [
       "<div>\n",
       "<style scoped>\n",
       "    .dataframe tbody tr th:only-of-type {\n",
       "        vertical-align: middle;\n",
       "    }\n",
       "\n",
       "    .dataframe tbody tr th {\n",
       "        vertical-align: top;\n",
       "    }\n",
       "\n",
       "    .dataframe thead th {\n",
       "        text-align: right;\n",
       "    }\n",
       "</style>\n",
       "<table border=\"1\" class=\"dataframe\">\n",
       "  <thead>\n",
       "    <tr style=\"text-align: right;\">\n",
       "      <th></th>\n",
       "      <th>cust_id</th>\n",
       "      <th>credit_score</th>\n",
       "      <th>credit_utilisation</th>\n",
       "      <th>outstanding_debt</th>\n",
       "      <th>credit_inquiries_last_6_months</th>\n",
       "      <th>credit_limit</th>\n",
       "      <th>credit_score_range</th>\n",
       "      <th>credit_limit_mod</th>\n",
       "    </tr>\n",
       "  </thead>\n",
       "  <tbody>\n",
       "    <tr>\n",
       "      <th>240</th>\n",
       "      <td>141</td>\n",
       "      <td>520</td>\n",
       "      <td>0.210682</td>\n",
       "      <td>145.0</td>\n",
       "      <td>3.0</td>\n",
       "      <td>NaN</td>\n",
       "      <td>500-549</td>\n",
       "      <td>1000.0</td>\n",
       "    </tr>\n",
       "    <tr>\n",
       "      <th>988</th>\n",
       "      <td>954</td>\n",
       "      <td>783</td>\n",
       "      <td>0.867421</td>\n",
       "      <td>46451.0</td>\n",
       "      <td>0.0</td>\n",
       "      <td>NaN</td>\n",
       "      <td>750-799</td>\n",
       "      <td>60000.0</td>\n",
       "    </tr>\n",
       "    <tr>\n",
       "      <th>693</th>\n",
       "      <td>115</td>\n",
       "      <td>619</td>\n",
       "      <td>0.128910</td>\n",
       "      <td>151.0</td>\n",
       "      <td>1.0</td>\n",
       "      <td>NaN</td>\n",
       "      <td>600-649</td>\n",
       "      <td>1500.0</td>\n",
       "    </tr>\n",
       "  </tbody>\n",
       "</table>\n",
       "</div>"
      ],
      "text/plain": [
       "     cust_id  credit_score  credit_utilisation  outstanding_debt  \\\n",
       "240      141           520            0.210682             145.0   \n",
       "988      954           783            0.867421           46451.0   \n",
       "693      115           619            0.128910             151.0   \n",
       "\n",
       "     credit_inquiries_last_6_months  credit_limit credit_score_range  \\\n",
       "240                             3.0           NaN            500-549   \n",
       "988                             0.0           NaN            750-799   \n",
       "693                             1.0           NaN            600-649   \n",
       "\n",
       "     credit_limit_mod  \n",
       "240            1000.0  \n",
       "988           60000.0  \n",
       "693            1500.0  "
      ]
     },
     "execution_count": 70,
     "metadata": {},
     "output_type": "execute_result"
    }
   ],
   "source": [
    " df_cp_clean_2[df_cp_clean_2['credit_limit'].isnull()].sample(3)"
   ]
  },
  {
   "cell_type": "code",
   "execution_count": 71,
   "id": "4afdfbee",
   "metadata": {},
   "outputs": [
    {
     "data": {
      "text/plain": [
       "(1000, 8)"
      ]
     },
     "execution_count": 71,
     "metadata": {},
     "output_type": "execute_result"
    }
   ],
   "source": [
    "df_cp_clean_3 = df_cp_clean_2.copy()\n",
    "df_cp_clean_3['credit_limit'].fillna(df_cp_clean_2['credit_limit_mod'], inplace = True)\n",
    "df_cp_clean_3.shape"
   ]
  },
  {
   "cell_type": "code",
   "execution_count": 72,
   "id": "820da4fe",
   "metadata": {},
   "outputs": [
    {
     "data": {
      "text/plain": [
       "cust_id                           0\n",
       "credit_score                      0\n",
       "credit_utilisation                0\n",
       "outstanding_debt                  0\n",
       "credit_inquiries_last_6_months    0\n",
       "credit_limit                      0\n",
       "credit_score_range                0\n",
       "credit_limit_mod                  0\n",
       "dtype: int64"
      ]
     },
     "execution_count": 72,
     "metadata": {},
     "output_type": "execute_result"
    }
   ],
   "source": [
    "df_cp_clean_3.isnull().sum()"
   ]
  },
  {
   "cell_type": "code",
   "execution_count": 73,
   "id": "3aa1e75d",
   "metadata": {},
   "outputs": [
    {
     "data": {
      "text/html": [
       "<div>\n",
       "<style scoped>\n",
       "    .dataframe tbody tr th:only-of-type {\n",
       "        vertical-align: middle;\n",
       "    }\n",
       "\n",
       "    .dataframe tbody tr th {\n",
       "        vertical-align: top;\n",
       "    }\n",
       "\n",
       "    .dataframe thead th {\n",
       "        text-align: right;\n",
       "    }\n",
       "</style>\n",
       "<table border=\"1\" class=\"dataframe\">\n",
       "  <thead>\n",
       "    <tr style=\"text-align: right;\">\n",
       "      <th></th>\n",
       "      <th>cust_id</th>\n",
       "      <th>credit_score</th>\n",
       "      <th>credit_utilisation</th>\n",
       "      <th>outstanding_debt</th>\n",
       "      <th>credit_inquiries_last_6_months</th>\n",
       "      <th>credit_limit</th>\n",
       "      <th>credit_limit_mod</th>\n",
       "    </tr>\n",
       "  </thead>\n",
       "  <tbody>\n",
       "    <tr>\n",
       "      <th>count</th>\n",
       "      <td>1000.000000</td>\n",
       "      <td>1000.000000</td>\n",
       "      <td>1000.000000</td>\n",
       "      <td>1000.000000</td>\n",
       "      <td>1000.000000</td>\n",
       "      <td>1000.00000</td>\n",
       "      <td>1000.000000</td>\n",
       "    </tr>\n",
       "    <tr>\n",
       "      <th>mean</th>\n",
       "      <td>500.500000</td>\n",
       "      <td>589.182000</td>\n",
       "      <td>0.498950</td>\n",
       "      <td>9683.597000</td>\n",
       "      <td>1.955000</td>\n",
       "      <td>19733.75000</td>\n",
       "      <td>19912.500000</td>\n",
       "    </tr>\n",
       "    <tr>\n",
       "      <th>std</th>\n",
       "      <td>288.819436</td>\n",
       "      <td>152.284929</td>\n",
       "      <td>0.233139</td>\n",
       "      <td>25255.893671</td>\n",
       "      <td>1.414559</td>\n",
       "      <td>24717.43818</td>\n",
       "      <td>24840.914633</td>\n",
       "    </tr>\n",
       "    <tr>\n",
       "      <th>min</th>\n",
       "      <td>1.000000</td>\n",
       "      <td>300.000000</td>\n",
       "      <td>0.103761</td>\n",
       "      <td>33.000000</td>\n",
       "      <td>0.000000</td>\n",
       "      <td>500.00000</td>\n",
       "      <td>500.000000</td>\n",
       "    </tr>\n",
       "    <tr>\n",
       "      <th>25%</th>\n",
       "      <td>250.750000</td>\n",
       "      <td>460.000000</td>\n",
       "      <td>0.293917</td>\n",
       "      <td>221.000000</td>\n",
       "      <td>1.000000</td>\n",
       "      <td>750.00000</td>\n",
       "      <td>750.000000</td>\n",
       "    </tr>\n",
       "    <tr>\n",
       "      <th>50%</th>\n",
       "      <td>500.500000</td>\n",
       "      <td>601.500000</td>\n",
       "      <td>0.487422</td>\n",
       "      <td>550.000000</td>\n",
       "      <td>2.000000</td>\n",
       "      <td>1500.00000</td>\n",
       "      <td>1500.000000</td>\n",
       "    </tr>\n",
       "    <tr>\n",
       "      <th>75%</th>\n",
       "      <td>750.250000</td>\n",
       "      <td>738.000000</td>\n",
       "      <td>0.697829</td>\n",
       "      <td>11819.500000</td>\n",
       "      <td>3.000000</td>\n",
       "      <td>40000.00000</td>\n",
       "      <td>40000.000000</td>\n",
       "    </tr>\n",
       "    <tr>\n",
       "      <th>max</th>\n",
       "      <td>1000.000000</td>\n",
       "      <td>799.000000</td>\n",
       "      <td>0.899648</td>\n",
       "      <td>209901.000000</td>\n",
       "      <td>4.000000</td>\n",
       "      <td>60000.00000</td>\n",
       "      <td>60000.000000</td>\n",
       "    </tr>\n",
       "  </tbody>\n",
       "</table>\n",
       "</div>"
      ],
      "text/plain": [
       "           cust_id  credit_score  credit_utilisation  outstanding_debt  \\\n",
       "count  1000.000000   1000.000000         1000.000000       1000.000000   \n",
       "mean    500.500000    589.182000            0.498950       9683.597000   \n",
       "std     288.819436    152.284929            0.233139      25255.893671   \n",
       "min       1.000000    300.000000            0.103761         33.000000   \n",
       "25%     250.750000    460.000000            0.293917        221.000000   \n",
       "50%     500.500000    601.500000            0.487422        550.000000   \n",
       "75%     750.250000    738.000000            0.697829      11819.500000   \n",
       "max    1000.000000    799.000000            0.899648     209901.000000   \n",
       "\n",
       "       credit_inquiries_last_6_months  credit_limit  credit_limit_mod  \n",
       "count                     1000.000000    1000.00000       1000.000000  \n",
       "mean                         1.955000   19733.75000      19912.500000  \n",
       "std                          1.414559   24717.43818      24840.914633  \n",
       "min                          0.000000     500.00000        500.000000  \n",
       "25%                          1.000000     750.00000        750.000000  \n",
       "50%                          2.000000    1500.00000       1500.000000  \n",
       "75%                          3.000000   40000.00000      40000.000000  \n",
       "max                          4.000000   60000.00000      60000.000000  "
      ]
     },
     "execution_count": 73,
     "metadata": {},
     "output_type": "execute_result"
    }
   ],
   "source": [
    "df_cp_clean_3.describe()"
   ]
  },
  {
   "cell_type": "code",
   "execution_count": 74,
   "id": "a6fa52a3",
   "metadata": {},
   "outputs": [
    {
     "data": {
      "text/plain": [
       "<AxesSubplot:xlabel='outstanding_debt'>"
      ]
     },
     "execution_count": 74,
     "metadata": {},
     "output_type": "execute_result"
    },
    {
     "data": {
      "image/png": "[encoded data removed]",
      "text/plain": [
       "<Figure size 432x288 with 1 Axes>"
      ]
     },
     "metadata": {
      "needs_background": "light"
     },
     "output_type": "display_data"
    }
   ],
   "source": [
    "sns.boxplot(x=df_cp_clean_3.outstanding_debt)"
   ]
  },
  {
   "cell_type": "code",
   "execution_count": 75,
   "id": "c69fa20d",
   "metadata": {},
   "outputs": [
    {
     "data": {
      "text/html": [
       "<div>\n",
       "<style scoped>\n",
       "    .dataframe tbody tr th:only-of-type {\n",
       "        vertical-align: middle;\n",
       "    }\n",
       "\n",
       "    .dataframe tbody tr th {\n",
       "        vertical-align: top;\n",
       "    }\n",
       "\n",
       "    .dataframe thead th {\n",
       "        text-align: right;\n",
       "    }\n",
       "</style>\n",
       "<table border=\"1\" class=\"dataframe\">\n",
       "  <thead>\n",
       "    <tr style=\"text-align: right;\">\n",
       "      <th></th>\n",
       "      <th>cust_id</th>\n",
       "      <th>credit_score</th>\n",
       "      <th>credit_utilisation</th>\n",
       "      <th>outstanding_debt</th>\n",
       "      <th>credit_inquiries_last_6_months</th>\n",
       "      <th>credit_limit</th>\n",
       "      <th>credit_score_range</th>\n",
       "      <th>credit_limit_mod</th>\n",
       "    </tr>\n",
       "  </thead>\n",
       "  <tbody>\n",
       "    <tr>\n",
       "      <th>6</th>\n",
       "      <td>39</td>\n",
       "      <td>734</td>\n",
       "      <td>0.573023</td>\n",
       "      <td>122758.0</td>\n",
       "      <td>3.0</td>\n",
       "      <td>40000.0</td>\n",
       "      <td>700-749</td>\n",
       "      <td>40000.0</td>\n",
       "    </tr>\n",
       "    <tr>\n",
       "      <th>12</th>\n",
       "      <td>94</td>\n",
       "      <td>737</td>\n",
       "      <td>0.739948</td>\n",
       "      <td>137058.0</td>\n",
       "      <td>2.0</td>\n",
       "      <td>40000.0</td>\n",
       "      <td>700-749</td>\n",
       "      <td>40000.0</td>\n",
       "    </tr>\n",
       "    <tr>\n",
       "      <th>35</th>\n",
       "      <td>272</td>\n",
       "      <td>703</td>\n",
       "      <td>0.446886</td>\n",
       "      <td>154568.0</td>\n",
       "      <td>1.0</td>\n",
       "      <td>40000.0</td>\n",
       "      <td>700-749</td>\n",
       "      <td>40000.0</td>\n",
       "    </tr>\n",
       "    <tr>\n",
       "      <th>41</th>\n",
       "      <td>302</td>\n",
       "      <td>722</td>\n",
       "      <td>0.608076</td>\n",
       "      <td>122402.0</td>\n",
       "      <td>4.0</td>\n",
       "      <td>40000.0</td>\n",
       "      <td>700-749</td>\n",
       "      <td>40000.0</td>\n",
       "    </tr>\n",
       "    <tr>\n",
       "      <th>101</th>\n",
       "      <td>726</td>\n",
       "      <td>737</td>\n",
       "      <td>0.136048</td>\n",
       "      <td>205404.0</td>\n",
       "      <td>4.0</td>\n",
       "      <td>40000.0</td>\n",
       "      <td>700-749</td>\n",
       "      <td>40000.0</td>\n",
       "    </tr>\n",
       "    <tr>\n",
       "      <th>142</th>\n",
       "      <td>2</td>\n",
       "      <td>587</td>\n",
       "      <td>0.107928</td>\n",
       "      <td>161644.0</td>\n",
       "      <td>2.0</td>\n",
       "      <td>1250.0</td>\n",
       "      <td>550-599</td>\n",
       "      <td>1250.0</td>\n",
       "    </tr>\n",
       "    <tr>\n",
       "      <th>363</th>\n",
       "      <td>205</td>\n",
       "      <td>303</td>\n",
       "      <td>0.364360</td>\n",
       "      <td>187849.0</td>\n",
       "      <td>0.0</td>\n",
       "      <td>500.0</td>\n",
       "      <td>300-449</td>\n",
       "      <td>500.0</td>\n",
       "    </tr>\n",
       "    <tr>\n",
       "      <th>406</th>\n",
       "      <td>351</td>\n",
       "      <td>320</td>\n",
       "      <td>0.285081</td>\n",
       "      <td>150860.0</td>\n",
       "      <td>0.0</td>\n",
       "      <td>500.0</td>\n",
       "      <td>300-449</td>\n",
       "      <td>500.0</td>\n",
       "    </tr>\n",
       "    <tr>\n",
       "      <th>474</th>\n",
       "      <td>637</td>\n",
       "      <td>420</td>\n",
       "      <td>0.323984</td>\n",
       "      <td>140063.0</td>\n",
       "      <td>4.0</td>\n",
       "      <td>500.0</td>\n",
       "      <td>300-449</td>\n",
       "      <td>500.0</td>\n",
       "    </tr>\n",
       "    <tr>\n",
       "      <th>604</th>\n",
       "      <td>647</td>\n",
       "      <td>498</td>\n",
       "      <td>0.658087</td>\n",
       "      <td>128818.0</td>\n",
       "      <td>3.0</td>\n",
       "      <td>750.0</td>\n",
       "      <td>450-499</td>\n",
       "      <td>750.0</td>\n",
       "    </tr>\n",
       "    <tr>\n",
       "      <th>609</th>\n",
       "      <td>724</td>\n",
       "      <td>465</td>\n",
       "      <td>0.658173</td>\n",
       "      <td>140008.0</td>\n",
       "      <td>3.0</td>\n",
       "      <td>750.0</td>\n",
       "      <td>450-499</td>\n",
       "      <td>750.0</td>\n",
       "    </tr>\n",
       "    <tr>\n",
       "      <th>615</th>\n",
       "      <td>767</td>\n",
       "      <td>473</td>\n",
       "      <td>0.611750</td>\n",
       "      <td>195004.0</td>\n",
       "      <td>1.0</td>\n",
       "      <td>750.0</td>\n",
       "      <td>450-499</td>\n",
       "      <td>750.0</td>\n",
       "    </tr>\n",
       "    <tr>\n",
       "      <th>684</th>\n",
       "      <td>20</td>\n",
       "      <td>647</td>\n",
       "      <td>0.439132</td>\n",
       "      <td>205014.0</td>\n",
       "      <td>3.0</td>\n",
       "      <td>1500.0</td>\n",
       "      <td>600-649</td>\n",
       "      <td>1500.0</td>\n",
       "    </tr>\n",
       "    <tr>\n",
       "      <th>759</th>\n",
       "      <td>731</td>\n",
       "      <td>626</td>\n",
       "      <td>0.762245</td>\n",
       "      <td>209901.0</td>\n",
       "      <td>2.0</td>\n",
       "      <td>1500.0</td>\n",
       "      <td>600-649</td>\n",
       "      <td>1500.0</td>\n",
       "    </tr>\n",
       "    <tr>\n",
       "      <th>788</th>\n",
       "      <td>26</td>\n",
       "      <td>758</td>\n",
       "      <td>0.250811</td>\n",
       "      <td>190838.0</td>\n",
       "      <td>2.0</td>\n",
       "      <td>60000.0</td>\n",
       "      <td>750-799</td>\n",
       "      <td>60000.0</td>\n",
       "    </tr>\n",
       "    <tr>\n",
       "      <th>858</th>\n",
       "      <td>331</td>\n",
       "      <td>799</td>\n",
       "      <td>0.363420</td>\n",
       "      <td>208898.0</td>\n",
       "      <td>4.0</td>\n",
       "      <td>60000.0</td>\n",
       "      <td>750-799</td>\n",
       "      <td>60000.0</td>\n",
       "    </tr>\n",
       "    <tr>\n",
       "      <th>877</th>\n",
       "      <td>447</td>\n",
       "      <td>754</td>\n",
       "      <td>0.178394</td>\n",
       "      <td>206191.0</td>\n",
       "      <td>2.0</td>\n",
       "      <td>60000.0</td>\n",
       "      <td>750-799</td>\n",
       "      <td>60000.0</td>\n",
       "    </tr>\n",
       "    <tr>\n",
       "      <th>903</th>\n",
       "      <td>545</td>\n",
       "      <td>764</td>\n",
       "      <td>0.337769</td>\n",
       "      <td>135112.0</td>\n",
       "      <td>2.0</td>\n",
       "      <td>60000.0</td>\n",
       "      <td>750-799</td>\n",
       "      <td>60000.0</td>\n",
       "    </tr>\n",
       "    <tr>\n",
       "      <th>930</th>\n",
       "      <td>699</td>\n",
       "      <td>775</td>\n",
       "      <td>0.385100</td>\n",
       "      <td>190717.0</td>\n",
       "      <td>2.0</td>\n",
       "      <td>60000.0</td>\n",
       "      <td>750-799</td>\n",
       "      <td>60000.0</td>\n",
       "    </tr>\n",
       "    <tr>\n",
       "      <th>968</th>\n",
       "      <td>863</td>\n",
       "      <td>792</td>\n",
       "      <td>0.399555</td>\n",
       "      <td>208406.0</td>\n",
       "      <td>3.0</td>\n",
       "      <td>60000.0</td>\n",
       "      <td>750-799</td>\n",
       "      <td>60000.0</td>\n",
       "    </tr>\n",
       "  </tbody>\n",
       "</table>\n",
       "</div>"
      ],
      "text/plain": [
       "     cust_id  credit_score  credit_utilisation  outstanding_debt  \\\n",
       "6         39           734            0.573023          122758.0   \n",
       "12        94           737            0.739948          137058.0   \n",
       "35       272           703            0.446886          154568.0   \n",
       "41       302           722            0.608076          122402.0   \n",
       "101      726           737            0.136048          205404.0   \n",
       "142        2           587            0.107928          161644.0   \n",
       "363      205           303            0.364360          187849.0   \n",
       "406      351           320            0.285081          150860.0   \n",
       "474      637           420            0.323984          140063.0   \n",
       "604      647           498            0.658087          128818.0   \n",
       "609      724           465            0.658173          140008.0   \n",
       "615      767           473            0.611750          195004.0   \n",
       "684       20           647            0.439132          205014.0   \n",
       "759      731           626            0.762245          209901.0   \n",
       "788       26           758            0.250811          190838.0   \n",
       "858      331           799            0.363420          208898.0   \n",
       "877      447           754            0.178394          206191.0   \n",
       "903      545           764            0.337769          135112.0   \n",
       "930      699           775            0.385100          190717.0   \n",
       "968      863           792            0.399555          208406.0   \n",
       "\n",
       "     credit_inquiries_last_6_months  credit_limit credit_score_range  \\\n",
       "6                               3.0       40000.0            700-749   \n",
       "12                              2.0       40000.0            700-749   \n",
       "35                              1.0       40000.0            700-749   \n",
       "41                              4.0       40000.0            700-749   \n",
       "101                             4.0       40000.0            700-749   \n",
       "142                             2.0        1250.0            550-599   \n",
       "363                             0.0         500.0            300-449   \n",
       "406                             0.0         500.0            300-449   \n",
       "474                             4.0         500.0            300-449   \n",
       "604                             3.0         750.0            450-499   \n",
       "609                             3.0         750.0            450-499   \n",
       "615                             1.0         750.0            450-499   \n",
       "684                             3.0        1500.0            600-649   \n",
       "759                             2.0        1500.0            600-649   \n",
       "788                             2.0       60000.0            750-799   \n",
       "858                             4.0       60000.0            750-799   \n",
       "877                             2.0       60000.0            750-799   \n",
       "903                             2.0       60000.0            750-799   \n",
       "930                             2.0       60000.0            750-799   \n",
       "968                             3.0       60000.0            750-799   \n",
       "\n",
       "     credit_limit_mod  \n",
       "6             40000.0  \n",
       "12            40000.0  \n",
       "35            40000.0  \n",
       "41            40000.0  \n",
       "101           40000.0  \n",
       "142            1250.0  \n",
       "363             500.0  \n",
       "406             500.0  \n",
       "474             500.0  \n",
       "604             750.0  \n",
       "609             750.0  \n",
       "615             750.0  \n",
       "684            1500.0  \n",
       "759            1500.0  \n",
       "788           60000.0  \n",
       "858           60000.0  \n",
       "877           60000.0  \n",
       "903           60000.0  \n",
       "930           60000.0  \n",
       "968           60000.0  "
      ]
     },
     "execution_count": 75,
     "metadata": {},
     "output_type": "execute_result"
    }
   ],
   "source": [
    "df_cp_clean_3[df_cp_clean_3['outstanding_debt']> df_cp_clean_3['credit_limit']]"
   ]
  },
  {
   "cell_type": "code",
   "execution_count": 76,
   "id": "9891772d",
   "metadata": {},
   "outputs": [],
   "source": [
    "df_cp_clean_3.loc[df_cp_clean_3['outstanding_debt']> df_cp_clean_3['credit_limit'], \"outstanding_debt\"]= df_cp_clean_3['credit_limit']"
   ]
  },
  {
   "cell_type": "code",
   "execution_count": 77,
   "id": "28623edd",
   "metadata": {},
   "outputs": [
    {
     "data": {
      "text/html": [
       "<div>\n",
       "<style scoped>\n",
       "    .dataframe tbody tr th:only-of-type {\n",
       "        vertical-align: middle;\n",
       "    }\n",
       "\n",
       "    .dataframe tbody tr th {\n",
       "        vertical-align: top;\n",
       "    }\n",
       "\n",
       "    .dataframe thead th {\n",
       "        text-align: right;\n",
       "    }\n",
       "</style>\n",
       "<table border=\"1\" class=\"dataframe\">\n",
       "  <thead>\n",
       "    <tr style=\"text-align: right;\">\n",
       "      <th></th>\n",
       "      <th>cust_id</th>\n",
       "      <th>credit_score</th>\n",
       "      <th>credit_utilisation</th>\n",
       "      <th>outstanding_debt</th>\n",
       "      <th>credit_inquiries_last_6_months</th>\n",
       "      <th>credit_limit</th>\n",
       "      <th>credit_score_range</th>\n",
       "      <th>credit_limit_mod</th>\n",
       "    </tr>\n",
       "  </thead>\n",
       "  <tbody>\n",
       "  </tbody>\n",
       "</table>\n",
       "</div>"
      ],
      "text/plain": [
       "Empty DataFrame\n",
       "Columns: [cust_id, credit_score, credit_utilisation, outstanding_debt, credit_inquiries_last_6_months, credit_limit, credit_score_range, credit_limit_mod]\n",
       "Index: []"
      ]
     },
     "execution_count": 77,
     "metadata": {},
     "output_type": "execute_result"
    }
   ],
   "source": [
    "df_cp_clean_3[df_cp_clean_3['outstanding_debt']> df_cp_clean_3['credit_limit']]"
   ]
  },
  {
   "cell_type": "code",
   "execution_count": 78,
   "id": "c0a3c4e0",
   "metadata": {},
   "outputs": [
    {
     "data": {
      "text/html": [
       "<div>\n",
       "<style scoped>\n",
       "    .dataframe tbody tr th:only-of-type {\n",
       "        vertical-align: middle;\n",
       "    }\n",
       "\n",
       "    .dataframe tbody tr th {\n",
       "        vertical-align: top;\n",
       "    }\n",
       "\n",
       "    .dataframe thead th {\n",
       "        text-align: right;\n",
       "    }\n",
       "</style>\n",
       "<table border=\"1\" class=\"dataframe\">\n",
       "  <thead>\n",
       "    <tr style=\"text-align: right;\">\n",
       "      <th></th>\n",
       "      <th>cust_id</th>\n",
       "      <th>credit_score</th>\n",
       "      <th>credit_utilisation</th>\n",
       "      <th>outstanding_debt</th>\n",
       "      <th>credit_inquiries_last_6_months</th>\n",
       "      <th>credit_limit</th>\n",
       "      <th>credit_score_range</th>\n",
       "      <th>credit_limit_mod</th>\n",
       "    </tr>\n",
       "  </thead>\n",
       "  <tbody>\n",
       "    <tr>\n",
       "      <th>6</th>\n",
       "      <td>39</td>\n",
       "      <td>734</td>\n",
       "      <td>0.573023</td>\n",
       "      <td>40000.0</td>\n",
       "      <td>3.0</td>\n",
       "      <td>40000.0</td>\n",
       "      <td>700-749</td>\n",
       "      <td>40000.0</td>\n",
       "    </tr>\n",
       "    <tr>\n",
       "      <th>12</th>\n",
       "      <td>94</td>\n",
       "      <td>737</td>\n",
       "      <td>0.739948</td>\n",
       "      <td>40000.0</td>\n",
       "      <td>2.0</td>\n",
       "      <td>40000.0</td>\n",
       "      <td>700-749</td>\n",
       "      <td>40000.0</td>\n",
       "    </tr>\n",
       "  </tbody>\n",
       "</table>\n",
       "</div>"
      ],
      "text/plain": [
       "    cust_id  credit_score  credit_utilisation  outstanding_debt  \\\n",
       "6        39           734            0.573023           40000.0   \n",
       "12       94           737            0.739948           40000.0   \n",
       "\n",
       "    credit_inquiries_last_6_months  credit_limit credit_score_range  \\\n",
       "6                              3.0       40000.0            700-749   \n",
       "12                             2.0       40000.0            700-749   \n",
       "\n",
       "    credit_limit_mod  \n",
       "6            40000.0  \n",
       "12           40000.0  "
      ]
     },
     "execution_count": 78,
     "metadata": {},
     "output_type": "execute_result"
    }
   ],
   "source": [
    "df_cp_clean_3.loc[[6,12]]"
   ]
  },
  {
   "cell_type": "code",
   "execution_count": 79,
   "id": "4faad367",
   "metadata": {},
   "outputs": [
    {
     "data": {
      "text/html": [
       "<div>\n",
       "<style scoped>\n",
       "    .dataframe tbody tr th:only-of-type {\n",
       "        vertical-align: middle;\n",
       "    }\n",
       "\n",
       "    .dataframe tbody tr th {\n",
       "        vertical-align: top;\n",
       "    }\n",
       "\n",
       "    .dataframe thead th {\n",
       "        text-align: right;\n",
       "    }\n",
       "</style>\n",
       "<table border=\"1\" class=\"dataframe\">\n",
       "  <thead>\n",
       "    <tr style=\"text-align: right;\">\n",
       "      <th></th>\n",
       "      <th>cust_id</th>\n",
       "      <th>credit_score</th>\n",
       "      <th>credit_utilisation</th>\n",
       "      <th>outstanding_debt</th>\n",
       "      <th>credit_inquiries_last_6_months</th>\n",
       "      <th>credit_limit</th>\n",
       "      <th>credit_limit_mod</th>\n",
       "    </tr>\n",
       "  </thead>\n",
       "  <tbody>\n",
       "    <tr>\n",
       "      <th>count</th>\n",
       "      <td>1000.000000</td>\n",
       "      <td>1000.000000</td>\n",
       "      <td>1000.000000</td>\n",
       "      <td>1000.000000</td>\n",
       "      <td>1000.000000</td>\n",
       "      <td>1000.00000</td>\n",
       "      <td>1000.000000</td>\n",
       "    </tr>\n",
       "    <tr>\n",
       "      <th>mean</th>\n",
       "      <td>500.500000</td>\n",
       "      <td>589.182000</td>\n",
       "      <td>0.498950</td>\n",
       "      <td>6850.084000</td>\n",
       "      <td>1.955000</td>\n",
       "      <td>19733.75000</td>\n",
       "      <td>19912.500000</td>\n",
       "    </tr>\n",
       "    <tr>\n",
       "      <th>std</th>\n",
       "      <td>288.819436</td>\n",
       "      <td>152.284929</td>\n",
       "      <td>0.233139</td>\n",
       "      <td>10683.473561</td>\n",
       "      <td>1.414559</td>\n",
       "      <td>24717.43818</td>\n",
       "      <td>24840.914633</td>\n",
       "    </tr>\n",
       "    <tr>\n",
       "      <th>min</th>\n",
       "      <td>1.000000</td>\n",
       "      <td>300.000000</td>\n",
       "      <td>0.103761</td>\n",
       "      <td>33.000000</td>\n",
       "      <td>0.000000</td>\n",
       "      <td>500.00000</td>\n",
       "      <td>500.000000</td>\n",
       "    </tr>\n",
       "    <tr>\n",
       "      <th>25%</th>\n",
       "      <td>250.750000</td>\n",
       "      <td>460.000000</td>\n",
       "      <td>0.293917</td>\n",
       "      <td>221.000000</td>\n",
       "      <td>1.000000</td>\n",
       "      <td>750.00000</td>\n",
       "      <td>750.000000</td>\n",
       "    </tr>\n",
       "    <tr>\n",
       "      <th>50%</th>\n",
       "      <td>500.500000</td>\n",
       "      <td>601.500000</td>\n",
       "      <td>0.487422</td>\n",
       "      <td>541.500000</td>\n",
       "      <td>2.000000</td>\n",
       "      <td>1500.00000</td>\n",
       "      <td>1500.000000</td>\n",
       "    </tr>\n",
       "    <tr>\n",
       "      <th>75%</th>\n",
       "      <td>750.250000</td>\n",
       "      <td>738.000000</td>\n",
       "      <td>0.697829</td>\n",
       "      <td>10924.500000</td>\n",
       "      <td>3.000000</td>\n",
       "      <td>40000.00000</td>\n",
       "      <td>40000.000000</td>\n",
       "    </tr>\n",
       "    <tr>\n",
       "      <th>max</th>\n",
       "      <td>1000.000000</td>\n",
       "      <td>799.000000</td>\n",
       "      <td>0.899648</td>\n",
       "      <td>60000.000000</td>\n",
       "      <td>4.000000</td>\n",
       "      <td>60000.00000</td>\n",
       "      <td>60000.000000</td>\n",
       "    </tr>\n",
       "  </tbody>\n",
       "</table>\n",
       "</div>"
      ],
      "text/plain": [
       "           cust_id  credit_score  credit_utilisation  outstanding_debt  \\\n",
       "count  1000.000000   1000.000000         1000.000000       1000.000000   \n",
       "mean    500.500000    589.182000            0.498950       6850.084000   \n",
       "std     288.819436    152.284929            0.233139      10683.473561   \n",
       "min       1.000000    300.000000            0.103761         33.000000   \n",
       "25%     250.750000    460.000000            0.293917        221.000000   \n",
       "50%     500.500000    601.500000            0.487422        541.500000   \n",
       "75%     750.250000    738.000000            0.697829      10924.500000   \n",
       "max    1000.000000    799.000000            0.899648      60000.000000   \n",
       "\n",
       "       credit_inquiries_last_6_months  credit_limit  credit_limit_mod  \n",
       "count                     1000.000000    1000.00000       1000.000000  \n",
       "mean                         1.955000   19733.75000      19912.500000  \n",
       "std                          1.414559   24717.43818      24840.914633  \n",
       "min                          0.000000     500.00000        500.000000  \n",
       "25%                          1.000000     750.00000        750.000000  \n",
       "50%                          2.000000    1500.00000       1500.000000  \n",
       "75%                          3.000000   40000.00000      40000.000000  \n",
       "max                          4.000000   60000.00000      60000.000000  "
      ]
     },
     "execution_count": 79,
     "metadata": {},
     "output_type": "execute_result"
    }
   ],
   "source": [
    "df_cp_clean_3.describe()"
   ]
  },
  {
   "cell_type": "code",
   "execution_count": 80,
   "id": "62e5386a",
   "metadata": {},
   "outputs": [
    {
     "data": {
      "text/html": [
       "<div>\n",
       "<style scoped>\n",
       "    .dataframe tbody tr th:only-of-type {\n",
       "        vertical-align: middle;\n",
       "    }\n",
       "\n",
       "    .dataframe tbody tr th {\n",
       "        vertical-align: top;\n",
       "    }\n",
       "\n",
       "    .dataframe thead th {\n",
       "        text-align: right;\n",
       "    }\n",
       "</style>\n",
       "<table border=\"1\" class=\"dataframe\">\n",
       "  <thead>\n",
       "    <tr style=\"text-align: right;\">\n",
       "      <th></th>\n",
       "      <th>cust_id</th>\n",
       "      <th>credit_score</th>\n",
       "      <th>credit_utilisation</th>\n",
       "      <th>outstanding_debt</th>\n",
       "      <th>credit_inquiries_last_6_months</th>\n",
       "      <th>credit_limit</th>\n",
       "      <th>credit_score_range</th>\n",
       "      <th>credit_limit_mod</th>\n",
       "    </tr>\n",
       "  </thead>\n",
       "  <tbody>\n",
       "    <tr>\n",
       "      <th>0</th>\n",
       "      <td>1</td>\n",
       "      <td>749</td>\n",
       "      <td>0.585171</td>\n",
       "      <td>19571.0</td>\n",
       "      <td>0.0</td>\n",
       "      <td>40000.0</td>\n",
       "      <td>700-749</td>\n",
       "      <td>40000.0</td>\n",
       "    </tr>\n",
       "    <tr>\n",
       "      <th>1</th>\n",
       "      <td>5</td>\n",
       "      <td>708</td>\n",
       "      <td>0.586151</td>\n",
       "      <td>18090.0</td>\n",
       "      <td>2.0</td>\n",
       "      <td>40000.0</td>\n",
       "      <td>700-749</td>\n",
       "      <td>40000.0</td>\n",
       "    </tr>\n",
       "    <tr>\n",
       "      <th>2</th>\n",
       "      <td>7</td>\n",
       "      <td>747</td>\n",
       "      <td>0.523965</td>\n",
       "      <td>15544.0</td>\n",
       "      <td>4.0</td>\n",
       "      <td>40000.0</td>\n",
       "      <td>700-749</td>\n",
       "      <td>40000.0</td>\n",
       "    </tr>\n",
       "    <tr>\n",
       "      <th>3</th>\n",
       "      <td>17</td>\n",
       "      <td>702</td>\n",
       "      <td>0.894423</td>\n",
       "      <td>18444.0</td>\n",
       "      <td>0.0</td>\n",
       "      <td>40000.0</td>\n",
       "      <td>700-749</td>\n",
       "      <td>40000.0</td>\n",
       "    </tr>\n",
       "    <tr>\n",
       "      <th>4</th>\n",
       "      <td>28</td>\n",
       "      <td>729</td>\n",
       "      <td>0.149748</td>\n",
       "      <td>3453.0</td>\n",
       "      <td>2.0</td>\n",
       "      <td>40000.0</td>\n",
       "      <td>700-749</td>\n",
       "      <td>40000.0</td>\n",
       "    </tr>\n",
       "  </tbody>\n",
       "</table>\n",
       "</div>"
      ],
      "text/plain": [
       "   cust_id  credit_score  credit_utilisation  outstanding_debt  \\\n",
       "0        1           749            0.585171           19571.0   \n",
       "1        5           708            0.586151           18090.0   \n",
       "2        7           747            0.523965           15544.0   \n",
       "3       17           702            0.894423           18444.0   \n",
       "4       28           729            0.149748            3453.0   \n",
       "\n",
       "   credit_inquiries_last_6_months  credit_limit credit_score_range  \\\n",
       "0                             0.0       40000.0            700-749   \n",
       "1                             2.0       40000.0            700-749   \n",
       "2                             4.0       40000.0            700-749   \n",
       "3                             0.0       40000.0            700-749   \n",
       "4                             2.0       40000.0            700-749   \n",
       "\n",
       "   credit_limit_mod  \n",
       "0           40000.0  \n",
       "1           40000.0  \n",
       "2           40000.0  \n",
       "3           40000.0  \n",
       "4           40000.0  "
      ]
     },
     "execution_count": 80,
     "metadata": {},
     "output_type": "execute_result"
    }
   ],
   "source": [
    "df_cp_clean_3.head()"
   ]
  },
  {
   "cell_type": "code",
   "execution_count": 81,
   "id": "4dd83abc",
   "metadata": {},
   "outputs": [
    {
     "data": {
      "text/html": [
       "<div>\n",
       "<style scoped>\n",
       "    .dataframe tbody tr th:only-of-type {\n",
       "        vertical-align: middle;\n",
       "    }\n",
       "\n",
       "    .dataframe tbody tr th {\n",
       "        vertical-align: top;\n",
       "    }\n",
       "\n",
       "    .dataframe thead th {\n",
       "        text-align: right;\n",
       "    }\n",
       "</style>\n",
       "<table border=\"1\" class=\"dataframe\">\n",
       "  <thead>\n",
       "    <tr style=\"text-align: right;\">\n",
       "      <th></th>\n",
       "      <th>cust_id</th>\n",
       "      <th>name</th>\n",
       "      <th>gender</th>\n",
       "      <th>age</th>\n",
       "      <th>location</th>\n",
       "      <th>occupation</th>\n",
       "      <th>annual_income</th>\n",
       "      <th>marital_status</th>\n",
       "      <th>age_group</th>\n",
       "    </tr>\n",
       "  </thead>\n",
       "  <tbody>\n",
       "    <tr>\n",
       "      <th>0</th>\n",
       "      <td>1</td>\n",
       "      <td>Manya Acharya</td>\n",
       "      <td>Female</td>\n",
       "      <td>51.0</td>\n",
       "      <td>City</td>\n",
       "      <td>Business Owner</td>\n",
       "      <td>358211.0</td>\n",
       "      <td>Married</td>\n",
       "      <td>49-65</td>\n",
       "    </tr>\n",
       "    <tr>\n",
       "      <th>1</th>\n",
       "      <td>2</td>\n",
       "      <td>Anjali Pandey</td>\n",
       "      <td>Female</td>\n",
       "      <td>47.0</td>\n",
       "      <td>City</td>\n",
       "      <td>Consultant</td>\n",
       "      <td>65172.0</td>\n",
       "      <td>Single</td>\n",
       "      <td>26-48</td>\n",
       "    </tr>\n",
       "    <tr>\n",
       "      <th>2</th>\n",
       "      <td>3</td>\n",
       "      <td>Aaryan Chauhan</td>\n",
       "      <td>Male</td>\n",
       "      <td>21.0</td>\n",
       "      <td>City</td>\n",
       "      <td>Freelancer</td>\n",
       "      <td>22378.0</td>\n",
       "      <td>Married</td>\n",
       "      <td>18-25</td>\n",
       "    </tr>\n",
       "    <tr>\n",
       "      <th>3</th>\n",
       "      <td>4</td>\n",
       "      <td>Rudra Bali</td>\n",
       "      <td>Male</td>\n",
       "      <td>24.0</td>\n",
       "      <td>Rural</td>\n",
       "      <td>Freelancer</td>\n",
       "      <td>33563.0</td>\n",
       "      <td>Married</td>\n",
       "      <td>18-25</td>\n",
       "    </tr>\n",
       "    <tr>\n",
       "      <th>4</th>\n",
       "      <td>5</td>\n",
       "      <td>Advait Malik</td>\n",
       "      <td>Male</td>\n",
       "      <td>48.0</td>\n",
       "      <td>City</td>\n",
       "      <td>Consultant</td>\n",
       "      <td>39406.0</td>\n",
       "      <td>Married</td>\n",
       "      <td>26-48</td>\n",
       "    </tr>\n",
       "  </tbody>\n",
       "</table>\n",
       "</div>"
      ],
      "text/plain": [
       "   cust_id            name  gender   age location      occupation  \\\n",
       "0        1   Manya Acharya  Female  51.0     City  Business Owner   \n",
       "1        2   Anjali Pandey  Female  47.0     City      Consultant   \n",
       "2        3  Aaryan Chauhan    Male  21.0     City      Freelancer   \n",
       "3        4      Rudra Bali    Male  24.0    Rural      Freelancer   \n",
       "4        5    Advait Malik    Male  48.0     City      Consultant   \n",
       "\n",
       "   annual_income marital_status age_group  \n",
       "0       358211.0        Married     49-65  \n",
       "1        65172.0         Single     26-48  \n",
       "2        22378.0        Married     18-25  \n",
       "3        33563.0        Married     18-25  \n",
       "4        39406.0        Married     26-48  "
      ]
     },
     "execution_count": 81,
     "metadata": {},
     "output_type": "execute_result"
    }
   ],
   "source": [
    "df_cust.head()"
   ]
  },
  {
   "cell_type": "code",
   "execution_count": 82,
   "id": "90300bc6",
   "metadata": {},
   "outputs": [
    {
     "data": {
      "text/html": [
       "<div>\n",
       "<style scoped>\n",
       "    .dataframe tbody tr th:only-of-type {\n",
       "        vertical-align: middle;\n",
       "    }\n",
       "\n",
       "    .dataframe tbody tr th {\n",
       "        vertical-align: top;\n",
       "    }\n",
       "\n",
       "    .dataframe thead th {\n",
       "        text-align: right;\n",
       "    }\n",
       "</style>\n",
       "<table border=\"1\" class=\"dataframe\">\n",
       "  <thead>\n",
       "    <tr style=\"text-align: right;\">\n",
       "      <th></th>\n",
       "      <th>cust_id</th>\n",
       "      <th>name</th>\n",
       "      <th>gender</th>\n",
       "      <th>age</th>\n",
       "      <th>location</th>\n",
       "      <th>occupation</th>\n",
       "      <th>annual_income</th>\n",
       "      <th>marital_status</th>\n",
       "      <th>age_group</th>\n",
       "      <th>credit_score</th>\n",
       "      <th>credit_utilisation</th>\n",
       "      <th>outstanding_debt</th>\n",
       "      <th>credit_inquiries_last_6_months</th>\n",
       "      <th>credit_limit</th>\n",
       "      <th>credit_score_range</th>\n",
       "      <th>credit_limit_mod</th>\n",
       "    </tr>\n",
       "  </thead>\n",
       "  <tbody>\n",
       "    <tr>\n",
       "      <th>0</th>\n",
       "      <td>1</td>\n",
       "      <td>Manya Acharya</td>\n",
       "      <td>Female</td>\n",
       "      <td>51.0</td>\n",
       "      <td>City</td>\n",
       "      <td>Business Owner</td>\n",
       "      <td>358211.0</td>\n",
       "      <td>Married</td>\n",
       "      <td>49-65</td>\n",
       "      <td>749</td>\n",
       "      <td>0.585171</td>\n",
       "      <td>19571.0</td>\n",
       "      <td>0.0</td>\n",
       "      <td>40000.0</td>\n",
       "      <td>700-749</td>\n",
       "      <td>40000.0</td>\n",
       "    </tr>\n",
       "    <tr>\n",
       "      <th>1</th>\n",
       "      <td>2</td>\n",
       "      <td>Anjali Pandey</td>\n",
       "      <td>Female</td>\n",
       "      <td>47.0</td>\n",
       "      <td>City</td>\n",
       "      <td>Consultant</td>\n",
       "      <td>65172.0</td>\n",
       "      <td>Single</td>\n",
       "      <td>26-48</td>\n",
       "      <td>587</td>\n",
       "      <td>0.107928</td>\n",
       "      <td>1250.0</td>\n",
       "      <td>2.0</td>\n",
       "      <td>1250.0</td>\n",
       "      <td>550-599</td>\n",
       "      <td>1250.0</td>\n",
       "    </tr>\n",
       "    <tr>\n",
       "      <th>2</th>\n",
       "      <td>3</td>\n",
       "      <td>Aaryan Chauhan</td>\n",
       "      <td>Male</td>\n",
       "      <td>21.0</td>\n",
       "      <td>City</td>\n",
       "      <td>Freelancer</td>\n",
       "      <td>22378.0</td>\n",
       "      <td>Married</td>\n",
       "      <td>18-25</td>\n",
       "      <td>544</td>\n",
       "      <td>0.854807</td>\n",
       "      <td>513.0</td>\n",
       "      <td>4.0</td>\n",
       "      <td>1000.0</td>\n",
       "      <td>500-549</td>\n",
       "      <td>1000.0</td>\n",
       "    </tr>\n",
       "    <tr>\n",
       "      <th>3</th>\n",
       "      <td>4</td>\n",
       "      <td>Rudra Bali</td>\n",
       "      <td>Male</td>\n",
       "      <td>24.0</td>\n",
       "      <td>Rural</td>\n",
       "      <td>Freelancer</td>\n",
       "      <td>33563.0</td>\n",
       "      <td>Married</td>\n",
       "      <td>18-25</td>\n",
       "      <td>504</td>\n",
       "      <td>0.336938</td>\n",
       "      <td>224.0</td>\n",
       "      <td>2.0</td>\n",
       "      <td>1000.0</td>\n",
       "      <td>500-549</td>\n",
       "      <td>1000.0</td>\n",
       "    </tr>\n",
       "    <tr>\n",
       "      <th>4</th>\n",
       "      <td>5</td>\n",
       "      <td>Advait Malik</td>\n",
       "      <td>Male</td>\n",
       "      <td>48.0</td>\n",
       "      <td>City</td>\n",
       "      <td>Consultant</td>\n",
       "      <td>39406.0</td>\n",
       "      <td>Married</td>\n",
       "      <td>26-48</td>\n",
       "      <td>708</td>\n",
       "      <td>0.586151</td>\n",
       "      <td>18090.0</td>\n",
       "      <td>2.0</td>\n",
       "      <td>40000.0</td>\n",
       "      <td>700-749</td>\n",
       "      <td>40000.0</td>\n",
       "    </tr>\n",
       "    <tr>\n",
       "      <th>...</th>\n",
       "      <td>...</td>\n",
       "      <td>...</td>\n",
       "      <td>...</td>\n",
       "      <td>...</td>\n",
       "      <td>...</td>\n",
       "      <td>...</td>\n",
       "      <td>...</td>\n",
       "      <td>...</td>\n",
       "      <td>...</td>\n",
       "      <td>...</td>\n",
       "      <td>...</td>\n",
       "      <td>...</td>\n",
       "      <td>...</td>\n",
       "      <td>...</td>\n",
       "      <td>...</td>\n",
       "      <td>...</td>\n",
       "    </tr>\n",
       "    <tr>\n",
       "      <th>995</th>\n",
       "      <td>996</td>\n",
       "      <td>Manya Vasudeva</td>\n",
       "      <td>Female</td>\n",
       "      <td>26.0</td>\n",
       "      <td>City</td>\n",
       "      <td>Freelancer</td>\n",
       "      <td>45189.5</td>\n",
       "      <td>Married</td>\n",
       "      <td>26-48</td>\n",
       "      <td>564</td>\n",
       "      <td>0.702963</td>\n",
       "      <td>688.0</td>\n",
       "      <td>2.0</td>\n",
       "      <td>1250.0</td>\n",
       "      <td>550-599</td>\n",
       "      <td>1250.0</td>\n",
       "    </tr>\n",
       "    <tr>\n",
       "      <th>996</th>\n",
       "      <td>997</td>\n",
       "      <td>Aarav Dhawan</td>\n",
       "      <td>Male</td>\n",
       "      <td>55.0</td>\n",
       "      <td>City</td>\n",
       "      <td>Business Owner</td>\n",
       "      <td>290061.0</td>\n",
       "      <td>Single</td>\n",
       "      <td>49-65</td>\n",
       "      <td>774</td>\n",
       "      <td>0.465462</td>\n",
       "      <td>17139.0</td>\n",
       "      <td>0.0</td>\n",
       "      <td>60000.0</td>\n",
       "      <td>750-799</td>\n",
       "      <td>60000.0</td>\n",
       "    </tr>\n",
       "    <tr>\n",
       "      <th>997</th>\n",
       "      <td>998</td>\n",
       "      <td>Rehan Jha</td>\n",
       "      <td>Male</td>\n",
       "      <td>29.0</td>\n",
       "      <td>City</td>\n",
       "      <td>Fullstack Developer</td>\n",
       "      <td>139141.0</td>\n",
       "      <td>Married</td>\n",
       "      <td>26-48</td>\n",
       "      <td>529</td>\n",
       "      <td>0.585856</td>\n",
       "      <td>386.0</td>\n",
       "      <td>3.0</td>\n",
       "      <td>1000.0</td>\n",
       "      <td>500-549</td>\n",
       "      <td>1000.0</td>\n",
       "    </tr>\n",
       "    <tr>\n",
       "      <th>998</th>\n",
       "      <td>999</td>\n",
       "      <td>Amara Rathore</td>\n",
       "      <td>Female</td>\n",
       "      <td>47.0</td>\n",
       "      <td>City</td>\n",
       "      <td>Business Owner</td>\n",
       "      <td>254881.0</td>\n",
       "      <td>Married</td>\n",
       "      <td>26-48</td>\n",
       "      <td>725</td>\n",
       "      <td>0.249670</td>\n",
       "      <td>6973.0</td>\n",
       "      <td>2.0</td>\n",
       "      <td>40000.0</td>\n",
       "      <td>700-749</td>\n",
       "      <td>40000.0</td>\n",
       "    </tr>\n",
       "    <tr>\n",
       "      <th>999</th>\n",
       "      <td>1000</td>\n",
       "      <td>Akshay Choudhary</td>\n",
       "      <td>Male</td>\n",
       "      <td>28.0</td>\n",
       "      <td>City</td>\n",
       "      <td>Freelancer</td>\n",
       "      <td>226873.0</td>\n",
       "      <td>Married</td>\n",
       "      <td>26-48</td>\n",
       "      <td>775</td>\n",
       "      <td>0.696050</td>\n",
       "      <td>33956.0</td>\n",
       "      <td>1.0</td>\n",
       "      <td>60000.0</td>\n",
       "      <td>750-799</td>\n",
       "      <td>60000.0</td>\n",
       "    </tr>\n",
       "  </tbody>\n",
       "</table>\n",
       "<p>1000 rows × 16 columns</p>\n",
       "</div>"
      ],
      "text/plain": [
       "     cust_id              name  gender   age location           occupation  \\\n",
       "0          1     Manya Acharya  Female  51.0     City       Business Owner   \n",
       "1          2     Anjali Pandey  Female  47.0     City           Consultant   \n",
       "2          3    Aaryan Chauhan    Male  21.0     City           Freelancer   \n",
       "3          4        Rudra Bali    Male  24.0    Rural           Freelancer   \n",
       "4          5      Advait Malik    Male  48.0     City           Consultant   \n",
       "..       ...               ...     ...   ...      ...                  ...   \n",
       "995      996    Manya Vasudeva  Female  26.0     City           Freelancer   \n",
       "996      997      Aarav Dhawan    Male  55.0     City       Business Owner   \n",
       "997      998         Rehan Jha    Male  29.0     City  Fullstack Developer   \n",
       "998      999     Amara Rathore  Female  47.0     City       Business Owner   \n",
       "999     1000  Akshay Choudhary    Male  28.0     City           Freelancer   \n",
       "\n",
       "     annual_income marital_status age_group  credit_score  credit_utilisation  \\\n",
       "0         358211.0        Married     49-65           749            0.585171   \n",
       "1          65172.0         Single     26-48           587            0.107928   \n",
       "2          22378.0        Married     18-25           544            0.854807   \n",
       "3          33563.0        Married     18-25           504            0.336938   \n",
       "4          39406.0        Married     26-48           708            0.586151   \n",
       "..             ...            ...       ...           ...                 ...   \n",
       "995        45189.5        Married     26-48           564            0.702963   \n",
       "996       290061.0         Single     49-65           774            0.465462   \n",
       "997       139141.0        Married     26-48           529            0.585856   \n",
       "998       254881.0        Married     26-48           725            0.249670   \n",
       "999       226873.0        Married     26-48           775            0.696050   \n",
       "\n",
       "     outstanding_debt  credit_inquiries_last_6_months  credit_limit  \\\n",
       "0             19571.0                             0.0       40000.0   \n",
       "1              1250.0                             2.0        1250.0   \n",
       "2               513.0                             4.0        1000.0   \n",
       "3               224.0                             2.0        1000.0   \n",
       "4             18090.0                             2.0       40000.0   \n",
       "..                ...                             ...           ...   \n",
       "995             688.0                             2.0        1250.0   \n",
       "996           17139.0                             0.0       60000.0   \n",
       "997             386.0                             3.0        1000.0   \n",
       "998            6973.0                             2.0       40000.0   \n",
       "999           33956.0                             1.0       60000.0   \n",
       "\n",
       "    credit_score_range  credit_limit_mod  \n",
       "0              700-749           40000.0  \n",
       "1              550-599            1250.0  \n",
       "2              500-549            1000.0  \n",
       "3              500-549            1000.0  \n",
       "4              700-749           40000.0  \n",
       "..                 ...               ...  \n",
       "995            550-599            1250.0  \n",
       "996            750-799           60000.0  \n",
       "997            500-549            1000.0  \n",
       "998            700-749           40000.0  \n",
       "999            750-799           60000.0  \n",
       "\n",
       "[1000 rows x 16 columns]"
      ]
     },
     "execution_count": 82,
     "metadata": {},
     "output_type": "execute_result"
    }
   ],
   "source": [
    "df_merged = df_cust.merge(df_cp_clean_3, on = 'cust_id', how = 'inner')\n",
    "df_merged"
   ]
  },
  {
   "cell_type": "code",
   "execution_count": 83,
   "id": "3ad32803",
   "metadata": {},
   "outputs": [
    {
     "data": {
      "text/html": [
       "<div>\n",
       "<style scoped>\n",
       "    .dataframe tbody tr th:only-of-type {\n",
       "        vertical-align: middle;\n",
       "    }\n",
       "\n",
       "    .dataframe tbody tr th {\n",
       "        vertical-align: top;\n",
       "    }\n",
       "\n",
       "    .dataframe thead th {\n",
       "        text-align: right;\n",
       "    }\n",
       "</style>\n",
       "<table border=\"1\" class=\"dataframe\">\n",
       "  <thead>\n",
       "    <tr style=\"text-align: right;\">\n",
       "      <th></th>\n",
       "      <th>credit_score</th>\n",
       "      <th>credit_limit</th>\n",
       "    </tr>\n",
       "  </thead>\n",
       "  <tbody>\n",
       "    <tr>\n",
       "      <th>credit_score</th>\n",
       "      <td>1.000000</td>\n",
       "      <td>0.847952</td>\n",
       "    </tr>\n",
       "    <tr>\n",
       "      <th>credit_limit</th>\n",
       "      <td>0.847952</td>\n",
       "      <td>1.000000</td>\n",
       "    </tr>\n",
       "  </tbody>\n",
       "</table>\n",
       "</div>"
      ],
      "text/plain": [
       "              credit_score  credit_limit\n",
       "credit_score      1.000000      0.847952\n",
       "credit_limit      0.847952      1.000000"
      ]
     },
     "execution_count": 83,
     "metadata": {},
     "output_type": "execute_result"
    }
   ],
   "source": [
    "df_merged[['credit_score', 'credit_limit']].corr()"
   ]
  },
  {
   "cell_type": "code",
   "execution_count": 84,
   "id": "3c0643f7",
   "metadata": {},
   "outputs": [
    {
     "data": {
      "text/html": [
       "<div>\n",
       "<style scoped>\n",
       "    .dataframe tbody tr th:only-of-type {\n",
       "        vertical-align: middle;\n",
       "    }\n",
       "\n",
       "    .dataframe tbody tr th {\n",
       "        vertical-align: top;\n",
       "    }\n",
       "\n",
       "    .dataframe thead th {\n",
       "        text-align: right;\n",
       "    }\n",
       "</style>\n",
       "<table border=\"1\" class=\"dataframe\">\n",
       "  <thead>\n",
       "    <tr style=\"text-align: right;\">\n",
       "      <th></th>\n",
       "      <th>credit_score</th>\n",
       "      <th>credit_limit</th>\n",
       "    </tr>\n",
       "  </thead>\n",
       "  <tbody>\n",
       "    <tr>\n",
       "      <th>credit_score</th>\n",
       "      <td>1.000000</td>\n",
       "      <td>0.847952</td>\n",
       "    </tr>\n",
       "    <tr>\n",
       "      <th>credit_limit</th>\n",
       "      <td>0.847952</td>\n",
       "      <td>1.000000</td>\n",
       "    </tr>\n",
       "  </tbody>\n",
       "</table>\n",
       "</div>"
      ],
      "text/plain": [
       "              credit_score  credit_limit\n",
       "credit_score      1.000000      0.847952\n",
       "credit_limit      0.847952      1.000000"
      ]
     },
     "execution_count": 84,
     "metadata": {},
     "output_type": "execute_result"
    }
   ],
   "source": [
    "df_merged[['credit_score', 'credit_limit']].corr()"
   ]
  },
  {
   "cell_type": "code",
   "execution_count": 85,
   "id": "793e38f8",
   "metadata": {},
   "outputs": [
    {
     "data": {
      "text/plain": [
       "Index(['cust_id', 'name', 'gender', 'age', 'location', 'occupation',\n",
       "       'annual_income', 'marital_status', 'age_group', 'credit_score',\n",
       "       'credit_utilisation', 'outstanding_debt',\n",
       "       'credit_inquiries_last_6_months', 'credit_limit', 'credit_score_range',\n",
       "       'credit_limit_mod'],\n",
       "      dtype='object')"
      ]
     },
     "execution_count": 85,
     "metadata": {},
     "output_type": "execute_result"
    }
   ],
   "source": [
    "df_merged.columns"
   ]
  },
  {
   "cell_type": "code",
   "execution_count": 86,
   "id": "8cb0ca94",
   "metadata": {},
   "outputs": [
    {
     "data": {
      "text/html": [
       "<div>\n",
       "<style scoped>\n",
       "    .dataframe tbody tr th:only-of-type {\n",
       "        vertical-align: middle;\n",
       "    }\n",
       "\n",
       "    .dataframe tbody tr th {\n",
       "        vertical-align: top;\n",
       "    }\n",
       "\n",
       "    .dataframe thead th {\n",
       "        text-align: right;\n",
       "    }\n",
       "</style>\n",
       "<table border=\"1\" class=\"dataframe\">\n",
       "  <thead>\n",
       "    <tr style=\"text-align: right;\">\n",
       "      <th></th>\n",
       "      <th>credit_score</th>\n",
       "      <th>credit_utilisation</th>\n",
       "      <th>outstanding_debt</th>\n",
       "      <th>credit_limit</th>\n",
       "      <th>annual_income</th>\n",
       "    </tr>\n",
       "  </thead>\n",
       "  <tbody>\n",
       "    <tr>\n",
       "      <th>credit_score</th>\n",
       "      <td>1.000000</td>\n",
       "      <td>-0.070445</td>\n",
       "      <td>0.680654</td>\n",
       "      <td>0.847952</td>\n",
       "      <td>0.575685</td>\n",
       "    </tr>\n",
       "    <tr>\n",
       "      <th>credit_utilisation</th>\n",
       "      <td>-0.070445</td>\n",
       "      <td>1.000000</td>\n",
       "      <td>0.192838</td>\n",
       "      <td>-0.080493</td>\n",
       "      <td>-0.086816</td>\n",
       "    </tr>\n",
       "    <tr>\n",
       "      <th>outstanding_debt</th>\n",
       "      <td>0.680654</td>\n",
       "      <td>0.192838</td>\n",
       "      <td>1.000000</td>\n",
       "      <td>0.810581</td>\n",
       "      <td>0.555077</td>\n",
       "    </tr>\n",
       "    <tr>\n",
       "      <th>credit_limit</th>\n",
       "      <td>0.847952</td>\n",
       "      <td>-0.080493</td>\n",
       "      <td>0.810581</td>\n",
       "      <td>1.000000</td>\n",
       "      <td>0.684627</td>\n",
       "    </tr>\n",
       "    <tr>\n",
       "      <th>annual_income</th>\n",
       "      <td>0.575685</td>\n",
       "      <td>-0.086816</td>\n",
       "      <td>0.555077</td>\n",
       "      <td>0.684627</td>\n",
       "      <td>1.000000</td>\n",
       "    </tr>\n",
       "  </tbody>\n",
       "</table>\n",
       "</div>"
      ],
      "text/plain": [
       "                    credit_score  credit_utilisation  outstanding_debt  \\\n",
       "credit_score            1.000000           -0.070445          0.680654   \n",
       "credit_utilisation     -0.070445            1.000000          0.192838   \n",
       "outstanding_debt        0.680654            0.192838          1.000000   \n",
       "credit_limit            0.847952           -0.080493          0.810581   \n",
       "annual_income           0.575685           -0.086816          0.555077   \n",
       "\n",
       "                    credit_limit  annual_income  \n",
       "credit_score            0.847952       0.575685  \n",
       "credit_utilisation     -0.080493      -0.086816  \n",
       "outstanding_debt        0.810581       0.555077  \n",
       "credit_limit            1.000000       0.684627  \n",
       "annual_income           0.684627       1.000000  "
      ]
     },
     "execution_count": 86,
     "metadata": {},
     "output_type": "execute_result"
    }
   ],
   "source": [
    "numerical_cols = ['credit_score', 'credit_utilisation', 'outstanding_debt', 'credit_limit', 'annual_income']\n",
    "\n",
    "correlation_matrix = df_merged[numerical_cols].corr()\n",
    "correlation_matrix"
   ]
  },
  {
   "cell_type": "code",
   "execution_count": 87,
   "id": "d6889cf8",
   "metadata": {},
   "outputs": [
    {
     "data": {
      "image/png": "[encoded data removed]",
      "text/plain": [
       "<Figure size 432x288 with 2 Axes>"
      ]
     },
     "metadata": {
      "needs_background": "light"
     },
     "output_type": "display_data"
    }
   ],
   "source": [
    "sns.heatmap(correlation_matrix, annot = True, fmt = '.2f', cmap = 'coolwarm', linewidths = 0.9)\n",
    "plt.show()"
   ]
  },
  {
   "cell_type": "markdown",
   "id": "6769cada",
   "metadata": {},
   "source": [
    "# Transactional Table"
   ]
  },
  {
   "cell_type": "code",
   "execution_count": 88,
   "id": "d46d72dc",
   "metadata": {},
   "outputs": [
    {
     "data": {
      "text/html": [
       "<div>\n",
       "<style scoped>\n",
       "    .dataframe tbody tr th:only-of-type {\n",
       "        vertical-align: middle;\n",
       "    }\n",
       "\n",
       "    .dataframe tbody tr th {\n",
       "        vertical-align: top;\n",
       "    }\n",
       "\n",
       "    .dataframe thead th {\n",
       "        text-align: right;\n",
       "    }\n",
       "</style>\n",
       "<table border=\"1\" class=\"dataframe\">\n",
       "  <thead>\n",
       "    <tr style=\"text-align: right;\">\n",
       "      <th></th>\n",
       "      <th>tran_id</th>\n",
       "      <th>cust_id</th>\n",
       "      <th>tran_date</th>\n",
       "      <th>tran_amount</th>\n",
       "      <th>platform</th>\n",
       "      <th>product_category</th>\n",
       "      <th>payment_type</th>\n",
       "    </tr>\n",
       "  </thead>\n",
       "  <tbody>\n",
       "    <tr>\n",
       "      <th>0</th>\n",
       "      <td>1</td>\n",
       "      <td>705</td>\n",
       "      <td>2023-01-01</td>\n",
       "      <td>63</td>\n",
       "      <td>Flipkart</td>\n",
       "      <td>Electronics</td>\n",
       "      <td>Phonepe</td>\n",
       "    </tr>\n",
       "    <tr>\n",
       "      <th>1</th>\n",
       "      <td>2</td>\n",
       "      <td>385</td>\n",
       "      <td>2023-01-01</td>\n",
       "      <td>99</td>\n",
       "      <td>Alibaba</td>\n",
       "      <td>Fashion &amp; Apparel</td>\n",
       "      <td>Credit Card</td>\n",
       "    </tr>\n",
       "    <tr>\n",
       "      <th>2</th>\n",
       "      <td>3</td>\n",
       "      <td>924</td>\n",
       "      <td>2023-01-01</td>\n",
       "      <td>471</td>\n",
       "      <td>Shopify</td>\n",
       "      <td>Sports</td>\n",
       "      <td>Phonepe</td>\n",
       "    </tr>\n",
       "    <tr>\n",
       "      <th>3</th>\n",
       "      <td>4</td>\n",
       "      <td>797</td>\n",
       "      <td>2023-01-01</td>\n",
       "      <td>33</td>\n",
       "      <td>Shopify</td>\n",
       "      <td>Fashion &amp; Apparel</td>\n",
       "      <td>Gpay</td>\n",
       "    </tr>\n",
       "    <tr>\n",
       "      <th>4</th>\n",
       "      <td>5</td>\n",
       "      <td>482</td>\n",
       "      <td>2023-01-01</td>\n",
       "      <td>68</td>\n",
       "      <td>Amazon</td>\n",
       "      <td>Fashion &amp; Apparel</td>\n",
       "      <td>Net Banking</td>\n",
       "    </tr>\n",
       "    <tr>\n",
       "      <th>...</th>\n",
       "      <td>...</td>\n",
       "      <td>...</td>\n",
       "      <td>...</td>\n",
       "      <td>...</td>\n",
       "      <td>...</td>\n",
       "      <td>...</td>\n",
       "      <td>...</td>\n",
       "    </tr>\n",
       "    <tr>\n",
       "      <th>499995</th>\n",
       "      <td>499996</td>\n",
       "      <td>791</td>\n",
       "      <td>2023-09-05</td>\n",
       "      <td>43</td>\n",
       "      <td>Amazon</td>\n",
       "      <td>Books</td>\n",
       "      <td>Phonepe</td>\n",
       "    </tr>\n",
       "    <tr>\n",
       "      <th>499996</th>\n",
       "      <td>499997</td>\n",
       "      <td>569</td>\n",
       "      <td>2023-09-05</td>\n",
       "      <td>53022</td>\n",
       "      <td>Meesho</td>\n",
       "      <td>Fashion &amp; Apparel</td>\n",
       "      <td>Net Banking</td>\n",
       "    </tr>\n",
       "    <tr>\n",
       "      <th>499997</th>\n",
       "      <td>499998</td>\n",
       "      <td>57</td>\n",
       "      <td>2023-09-05</td>\n",
       "      <td>224</td>\n",
       "      <td>None</td>\n",
       "      <td>Garden &amp; Outdoor</td>\n",
       "      <td>Phonepe</td>\n",
       "    </tr>\n",
       "    <tr>\n",
       "      <th>499998</th>\n",
       "      <td>499999</td>\n",
       "      <td>629</td>\n",
       "      <td>2023-09-05</td>\n",
       "      <td>538</td>\n",
       "      <td>Flipkart</td>\n",
       "      <td>Home Decor</td>\n",
       "      <td>Gpay</td>\n",
       "    </tr>\n",
       "    <tr>\n",
       "      <th>499999</th>\n",
       "      <td>500000</td>\n",
       "      <td>392</td>\n",
       "      <td>2023-09-05</td>\n",
       "      <td>346</td>\n",
       "      <td>Amazon</td>\n",
       "      <td>Kitchen Appliances</td>\n",
       "      <td>Net Banking</td>\n",
       "    </tr>\n",
       "  </tbody>\n",
       "</table>\n",
       "<p>500000 rows × 7 columns</p>\n",
       "</div>"
      ],
      "text/plain": [
       "        tran_id  cust_id   tran_date  tran_amount  platform  \\\n",
       "0             1      705  2023-01-01           63  Flipkart   \n",
       "1             2      385  2023-01-01           99   Alibaba   \n",
       "2             3      924  2023-01-01          471   Shopify   \n",
       "3             4      797  2023-01-01           33   Shopify   \n",
       "4             5      482  2023-01-01           68    Amazon   \n",
       "...         ...      ...         ...          ...       ...   \n",
       "499995   499996      791  2023-09-05           43    Amazon   \n",
       "499996   499997      569  2023-09-05        53022    Meesho   \n",
       "499997   499998       57  2023-09-05          224      None   \n",
       "499998   499999      629  2023-09-05          538  Flipkart   \n",
       "499999   500000      392  2023-09-05          346    Amazon   \n",
       "\n",
       "          product_category payment_type  \n",
       "0              Electronics      Phonepe  \n",
       "1        Fashion & Apparel  Credit Card  \n",
       "2                   Sports      Phonepe  \n",
       "3        Fashion & Apparel         Gpay  \n",
       "4        Fashion & Apparel  Net Banking  \n",
       "...                    ...          ...  \n",
       "499995               Books      Phonepe  \n",
       "499996   Fashion & Apparel  Net Banking  \n",
       "499997    Garden & Outdoor      Phonepe  \n",
       "499998          Home Decor         Gpay  \n",
       "499999  Kitchen Appliances  Net Banking  \n",
       "\n",
       "[500000 rows x 7 columns]"
      ]
     },
     "execution_count": 88,
     "metadata": {},
     "output_type": "execute_result"
    }
   ],
   "source": [
    "df_trans"
   ]
  },
  {
   "cell_type": "code",
   "execution_count": 89,
   "id": "07d994b6",
   "metadata": {},
   "outputs": [
    {
     "data": {
      "text/html": [
       "<div>\n",
       "<style scoped>\n",
       "    .dataframe tbody tr th:only-of-type {\n",
       "        vertical-align: middle;\n",
       "    }\n",
       "\n",
       "    .dataframe tbody tr th {\n",
       "        vertical-align: top;\n",
       "    }\n",
       "\n",
       "    .dataframe thead th {\n",
       "        text-align: right;\n",
       "    }\n",
       "</style>\n",
       "<table border=\"1\" class=\"dataframe\">\n",
       "  <thead>\n",
       "    <tr style=\"text-align: right;\">\n",
       "      <th></th>\n",
       "      <th>tran_id</th>\n",
       "      <th>cust_id</th>\n",
       "      <th>tran_amount</th>\n",
       "    </tr>\n",
       "  </thead>\n",
       "  <tbody>\n",
       "    <tr>\n",
       "      <th>count</th>\n",
       "      <td>500000.000000</td>\n",
       "      <td>500000.000000</td>\n",
       "      <td>500000.00000</td>\n",
       "    </tr>\n",
       "    <tr>\n",
       "      <th>mean</th>\n",
       "      <td>250000.500000</td>\n",
       "      <td>501.400428</td>\n",
       "      <td>3225.20733</td>\n",
       "    </tr>\n",
       "    <tr>\n",
       "      <th>std</th>\n",
       "      <td>144337.711634</td>\n",
       "      <td>288.641924</td>\n",
       "      <td>13098.74276</td>\n",
       "    </tr>\n",
       "    <tr>\n",
       "      <th>min</th>\n",
       "      <td>1.000000</td>\n",
       "      <td>1.000000</td>\n",
       "      <td>0.00000</td>\n",
       "    </tr>\n",
       "    <tr>\n",
       "      <th>25%</th>\n",
       "      <td>125000.750000</td>\n",
       "      <td>252.000000</td>\n",
       "      <td>64.00000</td>\n",
       "    </tr>\n",
       "    <tr>\n",
       "      <th>50%</th>\n",
       "      <td>250000.500000</td>\n",
       "      <td>502.000000</td>\n",
       "      <td>141.00000</td>\n",
       "    </tr>\n",
       "    <tr>\n",
       "      <th>75%</th>\n",
       "      <td>375000.250000</td>\n",
       "      <td>752.000000</td>\n",
       "      <td>397.00000</td>\n",
       "    </tr>\n",
       "    <tr>\n",
       "      <th>max</th>\n",
       "      <td>500000.000000</td>\n",
       "      <td>1000.000000</td>\n",
       "      <td>69999.00000</td>\n",
       "    </tr>\n",
       "  </tbody>\n",
       "</table>\n",
       "</div>"
      ],
      "text/plain": [
       "             tran_id        cust_id   tran_amount\n",
       "count  500000.000000  500000.000000  500000.00000\n",
       "mean   250000.500000     501.400428    3225.20733\n",
       "std    144337.711634     288.641924   13098.74276\n",
       "min         1.000000       1.000000       0.00000\n",
       "25%    125000.750000     252.000000      64.00000\n",
       "50%    250000.500000     502.000000     141.00000\n",
       "75%    375000.250000     752.000000     397.00000\n",
       "max    500000.000000    1000.000000   69999.00000"
      ]
     },
     "execution_count": 89,
     "metadata": {},
     "output_type": "execute_result"
    }
   ],
   "source": [
    "df_trans.describe()"
   ]
  },
  {
   "cell_type": "code",
   "execution_count": 90,
   "id": "ec96cab5",
   "metadata": {},
   "outputs": [
    {
     "data": {
      "text/plain": [
       "tran_id                0\n",
       "cust_id                0\n",
       "tran_date              0\n",
       "tran_amount            0\n",
       "platform            4941\n",
       "product_category       0\n",
       "payment_type           0\n",
       "dtype: int64"
      ]
     },
     "execution_count": 90,
     "metadata": {},
     "output_type": "execute_result"
    }
   ],
   "source": [
    "df_trans.isnull().sum()"
   ]
  },
  {
   "cell_type": "code",
   "execution_count": 91,
   "id": "b503ed8d",
   "metadata": {},
   "outputs": [
    {
     "data": {
      "text/html": [
       "<div>\n",
       "<style scoped>\n",
       "    .dataframe tbody tr th:only-of-type {\n",
       "        vertical-align: middle;\n",
       "    }\n",
       "\n",
       "    .dataframe tbody tr th {\n",
       "        vertical-align: top;\n",
       "    }\n",
       "\n",
       "    .dataframe thead th {\n",
       "        text-align: right;\n",
       "    }\n",
       "</style>\n",
       "<table border=\"1\" class=\"dataframe\">\n",
       "  <thead>\n",
       "    <tr style=\"text-align: right;\">\n",
       "      <th></th>\n",
       "      <th>tran_id</th>\n",
       "      <th>cust_id</th>\n",
       "      <th>tran_date</th>\n",
       "      <th>tran_amount</th>\n",
       "      <th>platform</th>\n",
       "      <th>product_category</th>\n",
       "      <th>payment_type</th>\n",
       "    </tr>\n",
       "  </thead>\n",
       "  <tbody>\n",
       "    <tr>\n",
       "      <th>355</th>\n",
       "      <td>356</td>\n",
       "      <td>58</td>\n",
       "      <td>2023-01-01</td>\n",
       "      <td>237</td>\n",
       "      <td>None</td>\n",
       "      <td>Electronics</td>\n",
       "      <td>Net Banking</td>\n",
       "    </tr>\n",
       "    <tr>\n",
       "      <th>418</th>\n",
       "      <td>419</td>\n",
       "      <td>383</td>\n",
       "      <td>2023-01-01</td>\n",
       "      <td>338</td>\n",
       "      <td>None</td>\n",
       "      <td>Electronics</td>\n",
       "      <td>Credit Card</td>\n",
       "    </tr>\n",
       "    <tr>\n",
       "      <th>607</th>\n",
       "      <td>608</td>\n",
       "      <td>421</td>\n",
       "      <td>2023-01-01</td>\n",
       "      <td>700</td>\n",
       "      <td>None</td>\n",
       "      <td>Electronics</td>\n",
       "      <td>Phonepe</td>\n",
       "    </tr>\n",
       "    <tr>\n",
       "      <th>844</th>\n",
       "      <td>845</td>\n",
       "      <td>945</td>\n",
       "      <td>2023-01-01</td>\n",
       "      <td>493</td>\n",
       "      <td>None</td>\n",
       "      <td>Sports</td>\n",
       "      <td>Credit Card</td>\n",
       "    </tr>\n",
       "    <tr>\n",
       "      <th>912</th>\n",
       "      <td>913</td>\n",
       "      <td>384</td>\n",
       "      <td>2023-01-01</td>\n",
       "      <td>85</td>\n",
       "      <td>None</td>\n",
       "      <td>Fashion &amp; Apparel</td>\n",
       "      <td>Phonepe</td>\n",
       "    </tr>\n",
       "    <tr>\n",
       "      <th>...</th>\n",
       "      <td>...</td>\n",
       "      <td>...</td>\n",
       "      <td>...</td>\n",
       "      <td>...</td>\n",
       "      <td>...</td>\n",
       "      <td>...</td>\n",
       "      <td>...</td>\n",
       "    </tr>\n",
       "    <tr>\n",
       "      <th>499579</th>\n",
       "      <td>499580</td>\n",
       "      <td>924</td>\n",
       "      <td>2023-09-05</td>\n",
       "      <td>31</td>\n",
       "      <td>None</td>\n",
       "      <td>Fashion &amp; Apparel</td>\n",
       "      <td>Gpay</td>\n",
       "    </tr>\n",
       "    <tr>\n",
       "      <th>499646</th>\n",
       "      <td>499647</td>\n",
       "      <td>944</td>\n",
       "      <td>2023-09-05</td>\n",
       "      <td>58445</td>\n",
       "      <td>None</td>\n",
       "      <td>Fashion &amp; Apparel</td>\n",
       "      <td>Phonepe</td>\n",
       "    </tr>\n",
       "    <tr>\n",
       "      <th>499725</th>\n",
       "      <td>499726</td>\n",
       "      <td>620</td>\n",
       "      <td>2023-09-05</td>\n",
       "      <td>15</td>\n",
       "      <td>None</td>\n",
       "      <td>Sports</td>\n",
       "      <td>Net Banking</td>\n",
       "    </tr>\n",
       "    <tr>\n",
       "      <th>499833</th>\n",
       "      <td>499834</td>\n",
       "      <td>616</td>\n",
       "      <td>2023-09-05</td>\n",
       "      <td>97</td>\n",
       "      <td>None</td>\n",
       "      <td>Fashion &amp; Apparel</td>\n",
       "      <td>Credit Card</td>\n",
       "    </tr>\n",
       "    <tr>\n",
       "      <th>499997</th>\n",
       "      <td>499998</td>\n",
       "      <td>57</td>\n",
       "      <td>2023-09-05</td>\n",
       "      <td>224</td>\n",
       "      <td>None</td>\n",
       "      <td>Garden &amp; Outdoor</td>\n",
       "      <td>Phonepe</td>\n",
       "    </tr>\n",
       "  </tbody>\n",
       "</table>\n",
       "<p>4941 rows × 7 columns</p>\n",
       "</div>"
      ],
      "text/plain": [
       "        tran_id  cust_id   tran_date  tran_amount platform   product_category  \\\n",
       "355         356       58  2023-01-01          237     None        Electronics   \n",
       "418         419      383  2023-01-01          338     None        Electronics   \n",
       "607         608      421  2023-01-01          700     None        Electronics   \n",
       "844         845      945  2023-01-01          493     None             Sports   \n",
       "912         913      384  2023-01-01           85     None  Fashion & Apparel   \n",
       "...         ...      ...         ...          ...      ...                ...   \n",
       "499579   499580      924  2023-09-05           31     None  Fashion & Apparel   \n",
       "499646   499647      944  2023-09-05        58445     None  Fashion & Apparel   \n",
       "499725   499726      620  2023-09-05           15     None             Sports   \n",
       "499833   499834      616  2023-09-05           97     None  Fashion & Apparel   \n",
       "499997   499998       57  2023-09-05          224     None   Garden & Outdoor   \n",
       "\n",
       "       payment_type  \n",
       "355     Net Banking  \n",
       "418     Credit Card  \n",
       "607         Phonepe  \n",
       "844     Credit Card  \n",
       "912         Phonepe  \n",
       "...             ...  \n",
       "499579         Gpay  \n",
       "499646      Phonepe  \n",
       "499725  Net Banking  \n",
       "499833  Credit Card  \n",
       "499997      Phonepe  \n",
       "\n",
       "[4941 rows x 7 columns]"
      ]
     },
     "execution_count": 91,
     "metadata": {},
     "output_type": "execute_result"
    }
   ],
   "source": [
    "df_trans[df_trans.platform.isnull()]"
   ]
  },
  {
   "cell_type": "code",
   "execution_count": 92,
   "id": "fb06811d",
   "metadata": {},
   "outputs": [
    {
     "data": {
      "text/plain": [
       "array(['Flipkart', 'Alibaba', 'Shopify', 'Amazon', 'Ebay', 'Meesho',\n",
       "       'Cred', None], dtype=object)"
      ]
     },
     "execution_count": 92,
     "metadata": {},
     "output_type": "execute_result"
    }
   ],
   "source": [
    "df_trans.platform.unique()"
   ]
  },
  {
   "cell_type": "code",
   "execution_count": 93,
   "id": "ac0f1ba5",
   "metadata": {},
   "outputs": [
    {
     "data": {
      "text/plain": [
       "'Amazon'"
      ]
     },
     "execution_count": 93,
     "metadata": {},
     "output_type": "execute_result"
    }
   ],
   "source": [
    "df_trans.platform.mode()[0]"
   ]
  },
  {
   "cell_type": "code",
   "execution_count": 94,
   "id": "009d239d",
   "metadata": {},
   "outputs": [
    {
     "data": {
      "text/plain": [
       "Amazon      151443\n",
       "Flipkart    122660\n",
       "Alibaba      73584\n",
       "Meesho       73271\n",
       "Shopify      39416\n",
       "Cred         24741\n",
       "Ebay          9944\n",
       "Name: platform, dtype: int64"
      ]
     },
     "execution_count": 94,
     "metadata": {},
     "output_type": "execute_result"
    }
   ],
   "source": [
    "df_trans.platform.value_counts()"
   ]
  },
  {
   "cell_type": "code",
   "execution_count": 95,
   "id": "c925959b",
   "metadata": {},
   "outputs": [],
   "source": [
    "df_trans.platform.fillna(df_trans.platform.mode()[0], inplace = True)"
   ]
  },
  {
   "cell_type": "code",
   "execution_count": 96,
   "id": "9e731dd1",
   "metadata": {},
   "outputs": [
    {
     "data": {
      "text/plain": [
       "tran_id             0\n",
       "cust_id             0\n",
       "tran_date           0\n",
       "tran_amount         0\n",
       "platform            0\n",
       "product_category    0\n",
       "payment_type        0\n",
       "dtype: int64"
      ]
     },
     "execution_count": 96,
     "metadata": {},
     "output_type": "execute_result"
    }
   ],
   "source": [
    "df_trans.isnull().sum()"
   ]
  },
  {
   "cell_type": "code",
   "execution_count": null,
   "id": "e6ab07ff",
   "metadata": {},
   "outputs": [],
   "source": []
  },
  {
   "cell_type": "code",
   "execution_count": 97,
   "id": "1e7a1e17",
   "metadata": {},
   "outputs": [
    {
     "data": {
      "text/plain": [
       "<AxesSubplot:xlabel='count', ylabel='product_category'>"
      ]
     },
     "execution_count": 97,
     "metadata": {},
     "output_type": "execute_result"
    },
    {
     "data": {
      "image/png": "[encoded data removed]",
      "text/plain": [
       "<Figure size 432x288 with 1 Axes>"
      ]
     },
     "metadata": {
      "needs_background": "light"
     },
     "output_type": "display_data"
    }
   ],
   "source": [
    "sns.countplot(y='product_category', hue = 'platform', data = df_trans)"
   ]
  },
  {
   "cell_type": "code",
   "execution_count": 98,
   "id": "7eb1f6bf",
   "metadata": {},
   "outputs": [
    {
     "data": {
      "text/html": [
       "<div>\n",
       "<style scoped>\n",
       "    .dataframe tbody tr th:only-of-type {\n",
       "        vertical-align: middle;\n",
       "    }\n",
       "\n",
       "    .dataframe tbody tr th {\n",
       "        vertical-align: top;\n",
       "    }\n",
       "\n",
       "    .dataframe thead th {\n",
       "        text-align: right;\n",
       "    }\n",
       "</style>\n",
       "<table border=\"1\" class=\"dataframe\">\n",
       "  <thead>\n",
       "    <tr style=\"text-align: right;\">\n",
       "      <th></th>\n",
       "      <th>tran_id</th>\n",
       "      <th>cust_id</th>\n",
       "      <th>tran_amount</th>\n",
       "    </tr>\n",
       "  </thead>\n",
       "  <tbody>\n",
       "    <tr>\n",
       "      <th>count</th>\n",
       "      <td>500000.000000</td>\n",
       "      <td>500000.000000</td>\n",
       "      <td>500000.00000</td>\n",
       "    </tr>\n",
       "    <tr>\n",
       "      <th>mean</th>\n",
       "      <td>250000.500000</td>\n",
       "      <td>501.400428</td>\n",
       "      <td>3225.20733</td>\n",
       "    </tr>\n",
       "    <tr>\n",
       "      <th>std</th>\n",
       "      <td>144337.711634</td>\n",
       "      <td>288.641924</td>\n",
       "      <td>13098.74276</td>\n",
       "    </tr>\n",
       "    <tr>\n",
       "      <th>min</th>\n",
       "      <td>1.000000</td>\n",
       "      <td>1.000000</td>\n",
       "      <td>0.00000</td>\n",
       "    </tr>\n",
       "    <tr>\n",
       "      <th>25%</th>\n",
       "      <td>125000.750000</td>\n",
       "      <td>252.000000</td>\n",
       "      <td>64.00000</td>\n",
       "    </tr>\n",
       "    <tr>\n",
       "      <th>50%</th>\n",
       "      <td>250000.500000</td>\n",
       "      <td>502.000000</td>\n",
       "      <td>141.00000</td>\n",
       "    </tr>\n",
       "    <tr>\n",
       "      <th>75%</th>\n",
       "      <td>375000.250000</td>\n",
       "      <td>752.000000</td>\n",
       "      <td>397.00000</td>\n",
       "    </tr>\n",
       "    <tr>\n",
       "      <th>max</th>\n",
       "      <td>500000.000000</td>\n",
       "      <td>1000.000000</td>\n",
       "      <td>69999.00000</td>\n",
       "    </tr>\n",
       "  </tbody>\n",
       "</table>\n",
       "</div>"
      ],
      "text/plain": [
       "             tran_id        cust_id   tran_amount\n",
       "count  500000.000000  500000.000000  500000.00000\n",
       "mean   250000.500000     501.400428    3225.20733\n",
       "std    144337.711634     288.641924   13098.74276\n",
       "min         1.000000       1.000000       0.00000\n",
       "25%    125000.750000     252.000000      64.00000\n",
       "50%    250000.500000     502.000000     141.00000\n",
       "75%    375000.250000     752.000000     397.00000\n",
       "max    500000.000000    1000.000000   69999.00000"
      ]
     },
     "execution_count": 98,
     "metadata": {},
     "output_type": "execute_result"
    }
   ],
   "source": [
    "df_trans.describe()"
   ]
  },
  {
   "cell_type": "code",
   "execution_count": 99,
   "id": "06defbbf",
   "metadata": {},
   "outputs": [
    {
     "data": {
      "text/html": [
       "<div>\n",
       "<style scoped>\n",
       "    .dataframe tbody tr th:only-of-type {\n",
       "        vertical-align: middle;\n",
       "    }\n",
       "\n",
       "    .dataframe tbody tr th {\n",
       "        vertical-align: top;\n",
       "    }\n",
       "\n",
       "    .dataframe thead th {\n",
       "        text-align: right;\n",
       "    }\n",
       "</style>\n",
       "<table border=\"1\" class=\"dataframe\">\n",
       "  <thead>\n",
       "    <tr style=\"text-align: right;\">\n",
       "      <th></th>\n",
       "      <th>tran_id</th>\n",
       "      <th>cust_id</th>\n",
       "      <th>tran_date</th>\n",
       "      <th>tran_amount</th>\n",
       "      <th>platform</th>\n",
       "      <th>product_category</th>\n",
       "      <th>payment_type</th>\n",
       "    </tr>\n",
       "  </thead>\n",
       "  <tbody>\n",
       "    <tr>\n",
       "      <th>120</th>\n",
       "      <td>121</td>\n",
       "      <td>440</td>\n",
       "      <td>2023-01-01</td>\n",
       "      <td>0</td>\n",
       "      <td>Amazon</td>\n",
       "      <td>Electronics</td>\n",
       "      <td>Credit Card</td>\n",
       "    </tr>\n",
       "    <tr>\n",
       "      <th>141</th>\n",
       "      <td>142</td>\n",
       "      <td>839</td>\n",
       "      <td>2023-01-01</td>\n",
       "      <td>0</td>\n",
       "      <td>Amazon</td>\n",
       "      <td>Electronics</td>\n",
       "      <td>Credit Card</td>\n",
       "    </tr>\n",
       "    <tr>\n",
       "      <th>517</th>\n",
       "      <td>518</td>\n",
       "      <td>147</td>\n",
       "      <td>2023-01-01</td>\n",
       "      <td>0</td>\n",
       "      <td>Amazon</td>\n",
       "      <td>Electronics</td>\n",
       "      <td>Credit Card</td>\n",
       "    </tr>\n",
       "    <tr>\n",
       "      <th>533</th>\n",
       "      <td>534</td>\n",
       "      <td>891</td>\n",
       "      <td>2023-01-01</td>\n",
       "      <td>0</td>\n",
       "      <td>Amazon</td>\n",
       "      <td>Electronics</td>\n",
       "      <td>Credit Card</td>\n",
       "    </tr>\n",
       "    <tr>\n",
       "      <th>586</th>\n",
       "      <td>587</td>\n",
       "      <td>108</td>\n",
       "      <td>2023-01-01</td>\n",
       "      <td>0</td>\n",
       "      <td>Amazon</td>\n",
       "      <td>Electronics</td>\n",
       "      <td>Credit Card</td>\n",
       "    </tr>\n",
       "    <tr>\n",
       "      <th>...</th>\n",
       "      <td>...</td>\n",
       "      <td>...</td>\n",
       "      <td>...</td>\n",
       "      <td>...</td>\n",
       "      <td>...</td>\n",
       "      <td>...</td>\n",
       "      <td>...</td>\n",
       "    </tr>\n",
       "    <tr>\n",
       "      <th>499326</th>\n",
       "      <td>499327</td>\n",
       "      <td>695</td>\n",
       "      <td>2023-09-05</td>\n",
       "      <td>0</td>\n",
       "      <td>Amazon</td>\n",
       "      <td>Electronics</td>\n",
       "      <td>Credit Card</td>\n",
       "    </tr>\n",
       "    <tr>\n",
       "      <th>499494</th>\n",
       "      <td>499495</td>\n",
       "      <td>295</td>\n",
       "      <td>2023-09-05</td>\n",
       "      <td>0</td>\n",
       "      <td>Amazon</td>\n",
       "      <td>Electronics</td>\n",
       "      <td>Credit Card</td>\n",
       "    </tr>\n",
       "    <tr>\n",
       "      <th>499708</th>\n",
       "      <td>499709</td>\n",
       "      <td>141</td>\n",
       "      <td>2023-09-05</td>\n",
       "      <td>0</td>\n",
       "      <td>Amazon</td>\n",
       "      <td>Electronics</td>\n",
       "      <td>Credit Card</td>\n",
       "    </tr>\n",
       "    <tr>\n",
       "      <th>499928</th>\n",
       "      <td>499929</td>\n",
       "      <td>4</td>\n",
       "      <td>2023-09-05</td>\n",
       "      <td>0</td>\n",
       "      <td>Amazon</td>\n",
       "      <td>Electronics</td>\n",
       "      <td>Credit Card</td>\n",
       "    </tr>\n",
       "    <tr>\n",
       "      <th>499972</th>\n",
       "      <td>499973</td>\n",
       "      <td>224</td>\n",
       "      <td>2023-09-05</td>\n",
       "      <td>0</td>\n",
       "      <td>Amazon</td>\n",
       "      <td>Electronics</td>\n",
       "      <td>Credit Card</td>\n",
       "    </tr>\n",
       "  </tbody>\n",
       "</table>\n",
       "<p>4734 rows × 7 columns</p>\n",
       "</div>"
      ],
      "text/plain": [
       "        tran_id  cust_id   tran_date  tran_amount platform product_category  \\\n",
       "120         121      440  2023-01-01            0   Amazon      Electronics   \n",
       "141         142      839  2023-01-01            0   Amazon      Electronics   \n",
       "517         518      147  2023-01-01            0   Amazon      Electronics   \n",
       "533         534      891  2023-01-01            0   Amazon      Electronics   \n",
       "586         587      108  2023-01-01            0   Amazon      Electronics   \n",
       "...         ...      ...         ...          ...      ...              ...   \n",
       "499326   499327      695  2023-09-05            0   Amazon      Electronics   \n",
       "499494   499495      295  2023-09-05            0   Amazon      Electronics   \n",
       "499708   499709      141  2023-09-05            0   Amazon      Electronics   \n",
       "499928   499929        4  2023-09-05            0   Amazon      Electronics   \n",
       "499972   499973      224  2023-09-05            0   Amazon      Electronics   \n",
       "\n",
       "       payment_type  \n",
       "120     Credit Card  \n",
       "141     Credit Card  \n",
       "517     Credit Card  \n",
       "533     Credit Card  \n",
       "586     Credit Card  \n",
       "...             ...  \n",
       "499326  Credit Card  \n",
       "499494  Credit Card  \n",
       "499708  Credit Card  \n",
       "499928  Credit Card  \n",
       "499972  Credit Card  \n",
       "\n",
       "[4734 rows x 7 columns]"
      ]
     },
     "execution_count": 99,
     "metadata": {},
     "output_type": "execute_result"
    }
   ],
   "source": [
    "df_trans_zero= df_trans[df_trans.tran_amount==0]\n",
    "df_trans_zero"
   ]
  },
  {
   "cell_type": "code",
   "execution_count": 100,
   "id": "f1478467",
   "metadata": {},
   "outputs": [
    {
     "data": {
      "text/plain": [
       "(4734, 7)"
      ]
     },
     "execution_count": 100,
     "metadata": {},
     "output_type": "execute_result"
    }
   ],
   "source": [
    "df_trans_zero.shape"
   ]
  },
  {
   "cell_type": "code",
   "execution_count": 101,
   "id": "51795269",
   "metadata": {},
   "outputs": [
    {
     "data": {
      "text/html": [
       "<div>\n",
       "<style scoped>\n",
       "    .dataframe tbody tr th:only-of-type {\n",
       "        vertical-align: middle;\n",
       "    }\n",
       "\n",
       "    .dataframe tbody tr th {\n",
       "        vertical-align: top;\n",
       "    }\n",
       "\n",
       "    .dataframe thead th {\n",
       "        text-align: right;\n",
       "    }\n",
       "</style>\n",
       "<table border=\"1\" class=\"dataframe\">\n",
       "  <thead>\n",
       "    <tr style=\"text-align: right;\">\n",
       "      <th></th>\n",
       "      <th>tran_id</th>\n",
       "      <th>cust_id</th>\n",
       "      <th>tran_date</th>\n",
       "      <th>tran_amount</th>\n",
       "      <th>platform</th>\n",
       "      <th>product_category</th>\n",
       "      <th>payment_type</th>\n",
       "    </tr>\n",
       "  </thead>\n",
       "  <tbody>\n",
       "    <tr>\n",
       "      <th>120</th>\n",
       "      <td>121</td>\n",
       "      <td>440</td>\n",
       "      <td>2023-01-01</td>\n",
       "      <td>0</td>\n",
       "      <td>Amazon</td>\n",
       "      <td>Electronics</td>\n",
       "      <td>Credit Card</td>\n",
       "    </tr>\n",
       "    <tr>\n",
       "      <th>141</th>\n",
       "      <td>142</td>\n",
       "      <td>839</td>\n",
       "      <td>2023-01-01</td>\n",
       "      <td>0</td>\n",
       "      <td>Amazon</td>\n",
       "      <td>Electronics</td>\n",
       "      <td>Credit Card</td>\n",
       "    </tr>\n",
       "    <tr>\n",
       "      <th>517</th>\n",
       "      <td>518</td>\n",
       "      <td>147</td>\n",
       "      <td>2023-01-01</td>\n",
       "      <td>0</td>\n",
       "      <td>Amazon</td>\n",
       "      <td>Electronics</td>\n",
       "      <td>Credit Card</td>\n",
       "    </tr>\n",
       "    <tr>\n",
       "      <th>533</th>\n",
       "      <td>534</td>\n",
       "      <td>891</td>\n",
       "      <td>2023-01-01</td>\n",
       "      <td>0</td>\n",
       "      <td>Amazon</td>\n",
       "      <td>Electronics</td>\n",
       "      <td>Credit Card</td>\n",
       "    </tr>\n",
       "    <tr>\n",
       "      <th>586</th>\n",
       "      <td>587</td>\n",
       "      <td>108</td>\n",
       "      <td>2023-01-01</td>\n",
       "      <td>0</td>\n",
       "      <td>Amazon</td>\n",
       "      <td>Electronics</td>\n",
       "      <td>Credit Card</td>\n",
       "    </tr>\n",
       "  </tbody>\n",
       "</table>\n",
       "</div>"
      ],
      "text/plain": [
       "     tran_id  cust_id   tran_date  tran_amount platform product_category  \\\n",
       "120      121      440  2023-01-01            0   Amazon      Electronics   \n",
       "141      142      839  2023-01-01            0   Amazon      Electronics   \n",
       "517      518      147  2023-01-01            0   Amazon      Electronics   \n",
       "533      534      891  2023-01-01            0   Amazon      Electronics   \n",
       "586      587      108  2023-01-01            0   Amazon      Electronics   \n",
       "\n",
       "    payment_type  \n",
       "120  Credit Card  \n",
       "141  Credit Card  \n",
       "517  Credit Card  \n",
       "533  Credit Card  \n",
       "586  Credit Card  "
      ]
     },
     "execution_count": 101,
     "metadata": {},
     "output_type": "execute_result"
    }
   ],
   "source": [
    "df_trans_zero.head()"
   ]
  },
  {
   "cell_type": "code",
   "execution_count": 102,
   "id": "136dd2f9",
   "metadata": {},
   "outputs": [
    {
     "data": {
      "text/html": [
       "<div>\n",
       "<style scoped>\n",
       "    .dataframe tbody tr th:only-of-type {\n",
       "        vertical-align: middle;\n",
       "    }\n",
       "\n",
       "    .dataframe tbody tr th {\n",
       "        vertical-align: top;\n",
       "    }\n",
       "\n",
       "    .dataframe thead th {\n",
       "        text-align: right;\n",
       "    }\n",
       "</style>\n",
       "<table border=\"1\" class=\"dataframe\">\n",
       "  <thead>\n",
       "    <tr style=\"text-align: right;\">\n",
       "      <th></th>\n",
       "      <th>platform</th>\n",
       "      <th>product_category</th>\n",
       "      <th>payment_type</th>\n",
       "    </tr>\n",
       "  </thead>\n",
       "  <tbody>\n",
       "    <tr>\n",
       "      <th>120</th>\n",
       "      <td>Amazon</td>\n",
       "      <td>Electronics</td>\n",
       "      <td>Credit Card</td>\n",
       "    </tr>\n",
       "    <tr>\n",
       "      <th>141</th>\n",
       "      <td>Amazon</td>\n",
       "      <td>Electronics</td>\n",
       "      <td>Credit Card</td>\n",
       "    </tr>\n",
       "    <tr>\n",
       "      <th>517</th>\n",
       "      <td>Amazon</td>\n",
       "      <td>Electronics</td>\n",
       "      <td>Credit Card</td>\n",
       "    </tr>\n",
       "    <tr>\n",
       "      <th>533</th>\n",
       "      <td>Amazon</td>\n",
       "      <td>Electronics</td>\n",
       "      <td>Credit Card</td>\n",
       "    </tr>\n",
       "    <tr>\n",
       "      <th>586</th>\n",
       "      <td>Amazon</td>\n",
       "      <td>Electronics</td>\n",
       "      <td>Credit Card</td>\n",
       "    </tr>\n",
       "  </tbody>\n",
       "</table>\n",
       "</div>"
      ],
      "text/plain": [
       "    platform product_category payment_type\n",
       "120   Amazon      Electronics  Credit Card\n",
       "141   Amazon      Electronics  Credit Card\n",
       "517   Amazon      Electronics  Credit Card\n",
       "533   Amazon      Electronics  Credit Card\n",
       "586   Amazon      Electronics  Credit Card"
      ]
     },
     "execution_count": 102,
     "metadata": {},
     "output_type": "execute_result"
    }
   ],
   "source": [
    "df_trans_zero[['platform', 'product_category', 'payment_type']].head()"
   ]
  },
  {
   "cell_type": "code",
   "execution_count": 103,
   "id": "f914cba3",
   "metadata": {},
   "outputs": [
    {
     "data": {
      "text/html": [
       "<div>\n",
       "<style scoped>\n",
       "    .dataframe tbody tr th:only-of-type {\n",
       "        vertical-align: middle;\n",
       "    }\n",
       "\n",
       "    .dataframe tbody tr th {\n",
       "        vertical-align: top;\n",
       "    }\n",
       "\n",
       "    .dataframe thead th {\n",
       "        text-align: right;\n",
       "    }\n",
       "</style>\n",
       "<table border=\"1\" class=\"dataframe\">\n",
       "  <thead>\n",
       "    <tr style=\"text-align: right;\">\n",
       "      <th></th>\n",
       "      <th>tran_id</th>\n",
       "      <th>cust_id</th>\n",
       "      <th>tran_date</th>\n",
       "      <th>tran_amount</th>\n",
       "      <th>platform</th>\n",
       "      <th>product_category</th>\n",
       "      <th>payment_type</th>\n",
       "    </tr>\n",
       "  </thead>\n",
       "  <tbody>\n",
       "    <tr>\n",
       "      <th>109</th>\n",
       "      <td>110</td>\n",
       "      <td>887</td>\n",
       "      <td>2023-01-01</td>\n",
       "      <td>635</td>\n",
       "      <td>Amazon</td>\n",
       "      <td>Electronics</td>\n",
       "      <td>Credit Card</td>\n",
       "    </tr>\n",
       "    <tr>\n",
       "      <th>120</th>\n",
       "      <td>121</td>\n",
       "      <td>440</td>\n",
       "      <td>2023-01-01</td>\n",
       "      <td>0</td>\n",
       "      <td>Amazon</td>\n",
       "      <td>Electronics</td>\n",
       "      <td>Credit Card</td>\n",
       "    </tr>\n",
       "    <tr>\n",
       "      <th>141</th>\n",
       "      <td>142</td>\n",
       "      <td>839</td>\n",
       "      <td>2023-01-01</td>\n",
       "      <td>0</td>\n",
       "      <td>Amazon</td>\n",
       "      <td>Electronics</td>\n",
       "      <td>Credit Card</td>\n",
       "    </tr>\n",
       "    <tr>\n",
       "      <th>173</th>\n",
       "      <td>174</td>\n",
       "      <td>676</td>\n",
       "      <td>2023-01-01</td>\n",
       "      <td>60439</td>\n",
       "      <td>Amazon</td>\n",
       "      <td>Electronics</td>\n",
       "      <td>Credit Card</td>\n",
       "    </tr>\n",
       "    <tr>\n",
       "      <th>190</th>\n",
       "      <td>191</td>\n",
       "      <td>763</td>\n",
       "      <td>2023-01-01</td>\n",
       "      <td>697</td>\n",
       "      <td>Amazon</td>\n",
       "      <td>Electronics</td>\n",
       "      <td>Credit Card</td>\n",
       "    </tr>\n",
       "  </tbody>\n",
       "</table>\n",
       "</div>"
      ],
      "text/plain": [
       "     tran_id  cust_id   tran_date  tran_amount platform product_category  \\\n",
       "109      110      887  2023-01-01          635   Amazon      Electronics   \n",
       "120      121      440  2023-01-01            0   Amazon      Electronics   \n",
       "141      142      839  2023-01-01            0   Amazon      Electronics   \n",
       "173      174      676  2023-01-01        60439   Amazon      Electronics   \n",
       "190      191      763  2023-01-01          697   Amazon      Electronics   \n",
       "\n",
       "    payment_type  \n",
       "109  Credit Card  \n",
       "120  Credit Card  \n",
       "141  Credit Card  \n",
       "173  Credit Card  \n",
       "190  Credit Card  "
      ]
     },
     "execution_count": 103,
     "metadata": {},
     "output_type": "execute_result"
    }
   ],
   "source": [
    "df_trans_1 = df_trans[(df_trans.platform =='Amazon') & (df_trans.product_category=='Electronics') &(df_trans.payment_type=='Credit Card')]\n",
    "df_trans_1.head()"
   ]
  },
  {
   "cell_type": "code",
   "execution_count": 104,
   "id": "b853a327",
   "metadata": {},
   "outputs": [
    {
     "data": {
      "text/plain": [
       "554.0"
      ]
     },
     "execution_count": 104,
     "metadata": {},
     "output_type": "execute_result"
    }
   ],
   "source": [
    "median_to_replace = df_trans_1[df_trans_1.tran_amount>0].tran_amount.median()\n",
    "median_to_replace"
   ]
  },
  {
   "cell_type": "code",
   "execution_count": 105,
   "id": "b4dfd3c9",
   "metadata": {},
   "outputs": [
    {
     "data": {
      "text/plain": [
       "0"
      ]
     },
     "execution_count": 105,
     "metadata": {},
     "output_type": "execute_result"
    }
   ],
   "source": [
    "df_trans['tran_amount'].replace(0,median_to_replace, inplace = True)\n",
    "df_trans.tran_amount.isnull().sum()"
   ]
  },
  {
   "cell_type": "code",
   "execution_count": 106,
   "id": "030357d2",
   "metadata": {},
   "outputs": [
    {
     "data": {
      "text/html": [
       "<div>\n",
       "<style scoped>\n",
       "    .dataframe tbody tr th:only-of-type {\n",
       "        vertical-align: middle;\n",
       "    }\n",
       "\n",
       "    .dataframe tbody tr th {\n",
       "        vertical-align: top;\n",
       "    }\n",
       "\n",
       "    .dataframe thead th {\n",
       "        text-align: right;\n",
       "    }\n",
       "</style>\n",
       "<table border=\"1\" class=\"dataframe\">\n",
       "  <thead>\n",
       "    <tr style=\"text-align: right;\">\n",
       "      <th></th>\n",
       "      <th>tran_id</th>\n",
       "      <th>cust_id</th>\n",
       "      <th>tran_amount</th>\n",
       "    </tr>\n",
       "  </thead>\n",
       "  <tbody>\n",
       "    <tr>\n",
       "      <th>count</th>\n",
       "      <td>500000.000000</td>\n",
       "      <td>500000.000000</td>\n",
       "      <td>500000.000000</td>\n",
       "    </tr>\n",
       "    <tr>\n",
       "      <th>mean</th>\n",
       "      <td>250000.500000</td>\n",
       "      <td>501.400428</td>\n",
       "      <td>3230.452602</td>\n",
       "    </tr>\n",
       "    <tr>\n",
       "      <th>std</th>\n",
       "      <td>144337.711634</td>\n",
       "      <td>288.641924</td>\n",
       "      <td>13097.561071</td>\n",
       "    </tr>\n",
       "    <tr>\n",
       "      <th>min</th>\n",
       "      <td>1.000000</td>\n",
       "      <td>1.000000</td>\n",
       "      <td>2.000000</td>\n",
       "    </tr>\n",
       "    <tr>\n",
       "      <th>25%</th>\n",
       "      <td>125000.750000</td>\n",
       "      <td>252.000000</td>\n",
       "      <td>66.000000</td>\n",
       "    </tr>\n",
       "    <tr>\n",
       "      <th>50%</th>\n",
       "      <td>250000.500000</td>\n",
       "      <td>502.000000</td>\n",
       "      <td>146.000000</td>\n",
       "    </tr>\n",
       "    <tr>\n",
       "      <th>75%</th>\n",
       "      <td>375000.250000</td>\n",
       "      <td>752.000000</td>\n",
       "      <td>413.000000</td>\n",
       "    </tr>\n",
       "    <tr>\n",
       "      <th>max</th>\n",
       "      <td>500000.000000</td>\n",
       "      <td>1000.000000</td>\n",
       "      <td>69999.000000</td>\n",
       "    </tr>\n",
       "  </tbody>\n",
       "</table>\n",
       "</div>"
      ],
      "text/plain": [
       "             tran_id        cust_id    tran_amount\n",
       "count  500000.000000  500000.000000  500000.000000\n",
       "mean   250000.500000     501.400428    3230.452602\n",
       "std    144337.711634     288.641924   13097.561071\n",
       "min         1.000000       1.000000       2.000000\n",
       "25%    125000.750000     252.000000      66.000000\n",
       "50%    250000.500000     502.000000     146.000000\n",
       "75%    375000.250000     752.000000     413.000000\n",
       "max    500000.000000    1000.000000   69999.000000"
      ]
     },
     "execution_count": 106,
     "metadata": {},
     "output_type": "execute_result"
    }
   ],
   "source": [
    "df_trans.describe()"
   ]
  },
  {
   "cell_type": "code",
   "execution_count": 107,
   "id": "808835f7",
   "metadata": {},
   "outputs": [
    {
     "data": {
      "text/plain": [
       "<AxesSubplot:xlabel='tran_amount', ylabel='Count'>"
      ]
     },
     "execution_count": 107,
     "metadata": {},
     "output_type": "execute_result"
    },
    {
     "data": {
      "image/png": "[encoded data removed]",
      "text/plain": [
       "<Figure size 432x288 with 1 Axes>"
      ]
     },
     "metadata": {
      "needs_background": "light"
     },
     "output_type": "display_data"
    }
   ],
   "source": [
    "sns.histplot(df_trans.tran_amount, bins = 20)"
   ]
  },
  {
   "cell_type": "code",
   "execution_count": 108,
   "id": "2a94e1de",
   "metadata": {},
   "outputs": [
    {
     "data": {
      "text/plain": [
       "(-628.0, 1107.0)"
      ]
     },
     "execution_count": 108,
     "metadata": {},
     "output_type": "execute_result"
    }
   ],
   "source": [
    "Q1, Q3 = df_trans['tran_amount'].quantile([0.25, 0.75])\n",
    "\n",
    "IQR = Q3-Q1\n",
    "\n",
    "lower = Q1 - 2*IQR\n",
    "upper = Q3 + 2*IQR\n",
    "lower, upper "
   ]
  },
  {
   "cell_type": "code",
   "execution_count": 109,
   "id": "5f5462b0",
   "metadata": {},
   "outputs": [
    {
     "data": {
      "text/plain": [
       "(25000, 7)"
      ]
     },
     "execution_count": 109,
     "metadata": {},
     "output_type": "execute_result"
    }
   ],
   "source": [
    "df_trans_outliers = df_trans[df_trans.tran_amount>=upper]\n",
    "df_trans_outliers.shape"
   ]
  },
  {
   "cell_type": "code",
   "execution_count": 110,
   "id": "6de17acf",
   "metadata": {},
   "outputs": [
    {
     "data": {
      "text/html": [
       "<div>\n",
       "<style scoped>\n",
       "    .dataframe tbody tr th:only-of-type {\n",
       "        vertical-align: middle;\n",
       "    }\n",
       "\n",
       "    .dataframe tbody tr th {\n",
       "        vertical-align: top;\n",
       "    }\n",
       "\n",
       "    .dataframe thead th {\n",
       "        text-align: right;\n",
       "    }\n",
       "</style>\n",
       "<table border=\"1\" class=\"dataframe\">\n",
       "  <thead>\n",
       "    <tr style=\"text-align: right;\">\n",
       "      <th></th>\n",
       "      <th>tran_id</th>\n",
       "      <th>cust_id</th>\n",
       "      <th>tran_date</th>\n",
       "      <th>tran_amount</th>\n",
       "      <th>platform</th>\n",
       "      <th>product_category</th>\n",
       "      <th>payment_type</th>\n",
       "    </tr>\n",
       "  </thead>\n",
       "  <tbody>\n",
       "    <tr>\n",
       "      <th>0</th>\n",
       "      <td>1</td>\n",
       "      <td>705</td>\n",
       "      <td>2023-01-01</td>\n",
       "      <td>63</td>\n",
       "      <td>Flipkart</td>\n",
       "      <td>Electronics</td>\n",
       "      <td>Phonepe</td>\n",
       "    </tr>\n",
       "    <tr>\n",
       "      <th>1</th>\n",
       "      <td>2</td>\n",
       "      <td>385</td>\n",
       "      <td>2023-01-01</td>\n",
       "      <td>99</td>\n",
       "      <td>Alibaba</td>\n",
       "      <td>Fashion &amp; Apparel</td>\n",
       "      <td>Credit Card</td>\n",
       "    </tr>\n",
       "    <tr>\n",
       "      <th>2</th>\n",
       "      <td>3</td>\n",
       "      <td>924</td>\n",
       "      <td>2023-01-01</td>\n",
       "      <td>471</td>\n",
       "      <td>Shopify</td>\n",
       "      <td>Sports</td>\n",
       "      <td>Phonepe</td>\n",
       "    </tr>\n",
       "    <tr>\n",
       "      <th>3</th>\n",
       "      <td>4</td>\n",
       "      <td>797</td>\n",
       "      <td>2023-01-01</td>\n",
       "      <td>33</td>\n",
       "      <td>Shopify</td>\n",
       "      <td>Fashion &amp; Apparel</td>\n",
       "      <td>Gpay</td>\n",
       "    </tr>\n",
       "    <tr>\n",
       "      <th>4</th>\n",
       "      <td>5</td>\n",
       "      <td>482</td>\n",
       "      <td>2023-01-01</td>\n",
       "      <td>68</td>\n",
       "      <td>Amazon</td>\n",
       "      <td>Fashion &amp; Apparel</td>\n",
       "      <td>Net Banking</td>\n",
       "    </tr>\n",
       "  </tbody>\n",
       "</table>\n",
       "</div>"
      ],
      "text/plain": [
       "   tran_id  cust_id   tran_date  tran_amount  platform   product_category  \\\n",
       "0        1      705  2023-01-01           63  Flipkart        Electronics   \n",
       "1        2      385  2023-01-01           99   Alibaba  Fashion & Apparel   \n",
       "2        3      924  2023-01-01          471   Shopify             Sports   \n",
       "3        4      797  2023-01-01           33   Shopify  Fashion & Apparel   \n",
       "4        5      482  2023-01-01           68    Amazon  Fashion & Apparel   \n",
       "\n",
       "  payment_type  \n",
       "0      Phonepe  \n",
       "1  Credit Card  \n",
       "2      Phonepe  \n",
       "3         Gpay  \n",
       "4  Net Banking  "
      ]
     },
     "execution_count": 110,
     "metadata": {},
     "output_type": "execute_result"
    }
   ],
   "source": [
    "df_trans_normal = df_trans[df_trans.tran_amount<upper]\n",
    "df_trans_normal.head()"
   ]
  },
  {
   "cell_type": "code",
   "execution_count": 111,
   "id": "bd6a520d",
   "metadata": {},
   "outputs": [
    {
     "data": {
      "text/plain": [
       "product_category\n",
       "Beauty & Personal Care     92.167205\n",
       "Books                      29.553515\n",
       "Electronics               510.172685\n",
       "Fashion & Apparel          64.553463\n",
       "Garden & Outdoor          125.630277\n",
       "Home Decor                302.487561\n",
       "Kitchen Appliances        176.773288\n",
       "Sports                    269.181631\n",
       "Toys & Games               50.333298\n",
       "Name: tran_amount, dtype: float64"
      ]
     },
     "execution_count": 111,
     "metadata": {},
     "output_type": "execute_result"
    }
   ],
   "source": [
    "tran_mean_per_category = df_trans_normal.groupby('product_category')['tran_amount'].mean()\n",
    "tran_mean_per_category"
   ]
  },
  {
   "cell_type": "code",
   "execution_count": 112,
   "id": "daf54e3e",
   "metadata": {},
   "outputs": [],
   "source": [
    "df_trans.loc[df_trans_outliers.index, 'tran_amount'] = df_trans_outliers['product_category'].map(tran_mean_per_category)"
   ]
  },
  {
   "cell_type": "code",
   "execution_count": 113,
   "id": "c2407108",
   "metadata": {},
   "outputs": [
    {
     "data": {
      "text/html": [
       "<div>\n",
       "<style scoped>\n",
       "    .dataframe tbody tr th:only-of-type {\n",
       "        vertical-align: middle;\n",
       "    }\n",
       "\n",
       "    .dataframe tbody tr th {\n",
       "        vertical-align: top;\n",
       "    }\n",
       "\n",
       "    .dataframe thead th {\n",
       "        text-align: right;\n",
       "    }\n",
       "</style>\n",
       "<table border=\"1\" class=\"dataframe\">\n",
       "  <thead>\n",
       "    <tr style=\"text-align: right;\">\n",
       "      <th></th>\n",
       "      <th>tran_id</th>\n",
       "      <th>cust_id</th>\n",
       "      <th>tran_date</th>\n",
       "      <th>tran_amount</th>\n",
       "      <th>platform</th>\n",
       "      <th>product_category</th>\n",
       "      <th>payment_type</th>\n",
       "    </tr>\n",
       "  </thead>\n",
       "  <tbody>\n",
       "    <tr>\n",
       "      <th>26</th>\n",
       "      <td>27</td>\n",
       "      <td>380</td>\n",
       "      <td>2023-01-01</td>\n",
       "      <td>92.167205</td>\n",
       "      <td>Shopify</td>\n",
       "      <td>Beauty &amp; Personal Care</td>\n",
       "      <td>Credit Card</td>\n",
       "    </tr>\n",
       "    <tr>\n",
       "      <th>49</th>\n",
       "      <td>50</td>\n",
       "      <td>287</td>\n",
       "      <td>2023-01-01</td>\n",
       "      <td>50.333298</td>\n",
       "      <td>Amazon</td>\n",
       "      <td>Toys &amp; Games</td>\n",
       "      <td>Gpay</td>\n",
       "    </tr>\n",
       "    <tr>\n",
       "      <th>94</th>\n",
       "      <td>95</td>\n",
       "      <td>770</td>\n",
       "      <td>2023-01-01</td>\n",
       "      <td>176.773288</td>\n",
       "      <td>Ebay</td>\n",
       "      <td>Kitchen Appliances</td>\n",
       "      <td>Credit Card</td>\n",
       "    </tr>\n",
       "    <tr>\n",
       "      <th>104</th>\n",
       "      <td>105</td>\n",
       "      <td>549</td>\n",
       "      <td>2023-01-01</td>\n",
       "      <td>64.553463</td>\n",
       "      <td>Flipkart</td>\n",
       "      <td>Fashion &amp; Apparel</td>\n",
       "      <td>Gpay</td>\n",
       "    </tr>\n",
       "    <tr>\n",
       "      <th>113</th>\n",
       "      <td>114</td>\n",
       "      <td>790</td>\n",
       "      <td>2023-01-01</td>\n",
       "      <td>176.773288</td>\n",
       "      <td>Shopify</td>\n",
       "      <td>Kitchen Appliances</td>\n",
       "      <td>Credit Card</td>\n",
       "    </tr>\n",
       "    <tr>\n",
       "      <th>...</th>\n",
       "      <td>...</td>\n",
       "      <td>...</td>\n",
       "      <td>...</td>\n",
       "      <td>...</td>\n",
       "      <td>...</td>\n",
       "      <td>...</td>\n",
       "      <td>...</td>\n",
       "    </tr>\n",
       "    <tr>\n",
       "      <th>499742</th>\n",
       "      <td>499743</td>\n",
       "      <td>868</td>\n",
       "      <td>2023-09-05</td>\n",
       "      <td>64.553463</td>\n",
       "      <td>Meesho</td>\n",
       "      <td>Fashion &amp; Apparel</td>\n",
       "      <td>Gpay</td>\n",
       "    </tr>\n",
       "    <tr>\n",
       "      <th>499888</th>\n",
       "      <td>499889</td>\n",
       "      <td>614</td>\n",
       "      <td>2023-09-05</td>\n",
       "      <td>64.553463</td>\n",
       "      <td>Meesho</td>\n",
       "      <td>Fashion &amp; Apparel</td>\n",
       "      <td>Net Banking</td>\n",
       "    </tr>\n",
       "    <tr>\n",
       "      <th>499900</th>\n",
       "      <td>499901</td>\n",
       "      <td>811</td>\n",
       "      <td>2023-09-05</td>\n",
       "      <td>269.181631</td>\n",
       "      <td>Flipkart</td>\n",
       "      <td>Sports</td>\n",
       "      <td>Debit Card</td>\n",
       "    </tr>\n",
       "    <tr>\n",
       "      <th>499966</th>\n",
       "      <td>499967</td>\n",
       "      <td>662</td>\n",
       "      <td>2023-09-05</td>\n",
       "      <td>269.181631</td>\n",
       "      <td>Meesho</td>\n",
       "      <td>Sports</td>\n",
       "      <td>Gpay</td>\n",
       "    </tr>\n",
       "    <tr>\n",
       "      <th>499996</th>\n",
       "      <td>499997</td>\n",
       "      <td>569</td>\n",
       "      <td>2023-09-05</td>\n",
       "      <td>64.553463</td>\n",
       "      <td>Meesho</td>\n",
       "      <td>Fashion &amp; Apparel</td>\n",
       "      <td>Net Banking</td>\n",
       "    </tr>\n",
       "  </tbody>\n",
       "</table>\n",
       "<p>25000 rows × 7 columns</p>\n",
       "</div>"
      ],
      "text/plain": [
       "        tran_id  cust_id   tran_date  tran_amount  platform  \\\n",
       "26           27      380  2023-01-01    92.167205   Shopify   \n",
       "49           50      287  2023-01-01    50.333298    Amazon   \n",
       "94           95      770  2023-01-01   176.773288      Ebay   \n",
       "104         105      549  2023-01-01    64.553463  Flipkart   \n",
       "113         114      790  2023-01-01   176.773288   Shopify   \n",
       "...         ...      ...         ...          ...       ...   \n",
       "499742   499743      868  2023-09-05    64.553463    Meesho   \n",
       "499888   499889      614  2023-09-05    64.553463    Meesho   \n",
       "499900   499901      811  2023-09-05   269.181631  Flipkart   \n",
       "499966   499967      662  2023-09-05   269.181631    Meesho   \n",
       "499996   499997      569  2023-09-05    64.553463    Meesho   \n",
       "\n",
       "              product_category payment_type  \n",
       "26      Beauty & Personal Care  Credit Card  \n",
       "49                Toys & Games         Gpay  \n",
       "94          Kitchen Appliances  Credit Card  \n",
       "104          Fashion & Apparel         Gpay  \n",
       "113         Kitchen Appliances  Credit Card  \n",
       "...                        ...          ...  \n",
       "499742       Fashion & Apparel         Gpay  \n",
       "499888       Fashion & Apparel  Net Banking  \n",
       "499900                  Sports   Debit Card  \n",
       "499966                  Sports         Gpay  \n",
       "499996       Fashion & Apparel  Net Banking  \n",
       "\n",
       "[25000 rows x 7 columns]"
      ]
     },
     "execution_count": 113,
     "metadata": {},
     "output_type": "execute_result"
    }
   ],
   "source": [
    "df_trans.loc[df_trans_outliers.index]"
   ]
  },
  {
   "cell_type": "code",
   "execution_count": 114,
   "id": "4c1319a5",
   "metadata": {},
   "outputs": [
    {
     "data": {
      "text/html": [
       "<div>\n",
       "<style scoped>\n",
       "    .dataframe tbody tr th:only-of-type {\n",
       "        vertical-align: middle;\n",
       "    }\n",
       "\n",
       "    .dataframe tbody tr th {\n",
       "        vertical-align: top;\n",
       "    }\n",
       "\n",
       "    .dataframe thead th {\n",
       "        text-align: right;\n",
       "    }\n",
       "</style>\n",
       "<table border=\"1\" class=\"dataframe\">\n",
       "  <thead>\n",
       "    <tr style=\"text-align: right;\">\n",
       "      <th></th>\n",
       "      <th>tran_id</th>\n",
       "      <th>cust_id</th>\n",
       "      <th>tran_amount</th>\n",
       "    </tr>\n",
       "  </thead>\n",
       "  <tbody>\n",
       "    <tr>\n",
       "      <th>count</th>\n",
       "      <td>500000.000000</td>\n",
       "      <td>500000.000000</td>\n",
       "      <td>500000.000000</td>\n",
       "    </tr>\n",
       "    <tr>\n",
       "      <th>mean</th>\n",
       "      <td>250000.500000</td>\n",
       "      <td>501.400428</td>\n",
       "      <td>240.672998</td>\n",
       "    </tr>\n",
       "    <tr>\n",
       "      <th>std</th>\n",
       "      <td>144337.711634</td>\n",
       "      <td>288.641924</td>\n",
       "      <td>241.696597</td>\n",
       "    </tr>\n",
       "    <tr>\n",
       "      <th>min</th>\n",
       "      <td>1.000000</td>\n",
       "      <td>1.000000</td>\n",
       "      <td>2.000000</td>\n",
       "    </tr>\n",
       "    <tr>\n",
       "      <th>25%</th>\n",
       "      <td>125000.750000</td>\n",
       "      <td>252.000000</td>\n",
       "      <td>64.553463</td>\n",
       "    </tr>\n",
       "    <tr>\n",
       "      <th>50%</th>\n",
       "      <td>250000.500000</td>\n",
       "      <td>502.000000</td>\n",
       "      <td>133.000000</td>\n",
       "    </tr>\n",
       "    <tr>\n",
       "      <th>75%</th>\n",
       "      <td>375000.250000</td>\n",
       "      <td>752.000000</td>\n",
       "      <td>349.000000</td>\n",
       "    </tr>\n",
       "    <tr>\n",
       "      <th>max</th>\n",
       "      <td>500000.000000</td>\n",
       "      <td>1000.000000</td>\n",
       "      <td>999.000000</td>\n",
       "    </tr>\n",
       "  </tbody>\n",
       "</table>\n",
       "</div>"
      ],
      "text/plain": [
       "             tran_id        cust_id    tran_amount\n",
       "count  500000.000000  500000.000000  500000.000000\n",
       "mean   250000.500000     501.400428     240.672998\n",
       "std    144337.711634     288.641924     241.696597\n",
       "min         1.000000       1.000000       2.000000\n",
       "25%    125000.750000     252.000000      64.553463\n",
       "50%    250000.500000     502.000000     133.000000\n",
       "75%    375000.250000     752.000000     349.000000\n",
       "max    500000.000000    1000.000000     999.000000"
      ]
     },
     "execution_count": 114,
     "metadata": {},
     "output_type": "execute_result"
    }
   ],
   "source": [
    "df_trans.describe()"
   ]
  },
  {
   "cell_type": "code",
   "execution_count": 115,
   "id": "41f0e9ef",
   "metadata": {},
   "outputs": [
    {
     "data": {
      "text/plain": [
       "<AxesSubplot:xlabel='tran_amount', ylabel='Count'>"
      ]
     },
     "execution_count": 115,
     "metadata": {},
     "output_type": "execute_result"
    },
    {
     "data": {
      "image/png": "[encoded data removed]",
      "text/plain": [
       "<Figure size 432x288 with 1 Axes>"
      ]
     },
     "metadata": {
      "needs_background": "light"
     },
     "output_type": "display_data"
    }
   ],
   "source": [
    "sns.histplot(df_trans.tran_amount, kde = True, bins = 20)"
   ]
  },
  {
   "cell_type": "code",
   "execution_count": 116,
   "id": "9f9689f1",
   "metadata": {},
   "outputs": [
    {
     "data": {
      "text/html": [
       "<div>\n",
       "<style scoped>\n",
       "    .dataframe tbody tr th:only-of-type {\n",
       "        vertical-align: middle;\n",
       "    }\n",
       "\n",
       "    .dataframe tbody tr th {\n",
       "        vertical-align: top;\n",
       "    }\n",
       "\n",
       "    .dataframe thead th {\n",
       "        text-align: right;\n",
       "    }\n",
       "</style>\n",
       "<table border=\"1\" class=\"dataframe\">\n",
       "  <thead>\n",
       "    <tr style=\"text-align: right;\">\n",
       "      <th></th>\n",
       "      <th>tran_id</th>\n",
       "      <th>cust_id</th>\n",
       "      <th>tran_date</th>\n",
       "      <th>tran_amount</th>\n",
       "      <th>platform</th>\n",
       "      <th>product_category</th>\n",
       "      <th>payment_type</th>\n",
       "    </tr>\n",
       "  </thead>\n",
       "  <tbody>\n",
       "    <tr>\n",
       "      <th>0</th>\n",
       "      <td>1</td>\n",
       "      <td>705</td>\n",
       "      <td>2023-01-01</td>\n",
       "      <td>63.0</td>\n",
       "      <td>Flipkart</td>\n",
       "      <td>Electronics</td>\n",
       "      <td>Phonepe</td>\n",
       "    </tr>\n",
       "    <tr>\n",
       "      <th>1</th>\n",
       "      <td>2</td>\n",
       "      <td>385</td>\n",
       "      <td>2023-01-01</td>\n",
       "      <td>99.0</td>\n",
       "      <td>Alibaba</td>\n",
       "      <td>Fashion &amp; Apparel</td>\n",
       "      <td>Credit Card</td>\n",
       "    </tr>\n",
       "    <tr>\n",
       "      <th>2</th>\n",
       "      <td>3</td>\n",
       "      <td>924</td>\n",
       "      <td>2023-01-01</td>\n",
       "      <td>471.0</td>\n",
       "      <td>Shopify</td>\n",
       "      <td>Sports</td>\n",
       "      <td>Phonepe</td>\n",
       "    </tr>\n",
       "    <tr>\n",
       "      <th>3</th>\n",
       "      <td>4</td>\n",
       "      <td>797</td>\n",
       "      <td>2023-01-01</td>\n",
       "      <td>33.0</td>\n",
       "      <td>Shopify</td>\n",
       "      <td>Fashion &amp; Apparel</td>\n",
       "      <td>Gpay</td>\n",
       "    </tr>\n",
       "    <tr>\n",
       "      <th>4</th>\n",
       "      <td>5</td>\n",
       "      <td>482</td>\n",
       "      <td>2023-01-01</td>\n",
       "      <td>68.0</td>\n",
       "      <td>Amazon</td>\n",
       "      <td>Fashion &amp; Apparel</td>\n",
       "      <td>Net Banking</td>\n",
       "    </tr>\n",
       "  </tbody>\n",
       "</table>\n",
       "</div>"
      ],
      "text/plain": [
       "   tran_id  cust_id   tran_date  tran_amount  platform   product_category  \\\n",
       "0        1      705  2023-01-01         63.0  Flipkart        Electronics   \n",
       "1        2      385  2023-01-01         99.0   Alibaba  Fashion & Apparel   \n",
       "2        3      924  2023-01-01        471.0   Shopify             Sports   \n",
       "3        4      797  2023-01-01         33.0   Shopify  Fashion & Apparel   \n",
       "4        5      482  2023-01-01         68.0    Amazon  Fashion & Apparel   \n",
       "\n",
       "  payment_type  \n",
       "0      Phonepe  \n",
       "1  Credit Card  \n",
       "2      Phonepe  \n",
       "3         Gpay  \n",
       "4  Net Banking  "
      ]
     },
     "execution_count": 116,
     "metadata": {},
     "output_type": "execute_result"
    }
   ],
   "source": [
    "df_trans.head()"
   ]
  },
  {
   "cell_type": "code",
   "execution_count": 117,
   "id": "e6ca05c6",
   "metadata": {},
   "outputs": [
    {
     "data": {
      "text/plain": [
       "<AxesSubplot:xlabel='payment_type', ylabel='count'>"
      ]
     },
     "execution_count": 117,
     "metadata": {},
     "output_type": "execute_result"
    },
    {
     "data": {
      "image/png": "[encoded data removed]",
      "text/plain": [
       "<Figure size 432x288 with 1 Axes>"
      ]
     },
     "metadata": {
      "needs_background": "light"
     },
     "output_type": "display_data"
    }
   ],
   "source": [
    "sns.countplot(x = df_trans.payment_type)"
   ]
  },
  {
   "cell_type": "code",
   "execution_count": 118,
   "id": "1bf3d100",
   "metadata": {},
   "outputs": [
    {
     "data": {
      "text/plain": [
       "(500000, 22)"
      ]
     },
     "execution_count": 118,
     "metadata": {},
     "output_type": "execute_result"
    }
   ],
   "source": [
    "df_merged_2= pd.merge(df_merged, df_trans, on='cust_id', how = 'inner')\n",
    "df_merged_2.shape"
   ]
  },
  {
   "cell_type": "code",
   "execution_count": 119,
   "id": "e9293f3e",
   "metadata": {},
   "outputs": [
    {
     "data": {
      "text/html": [
       "<div>\n",
       "<style scoped>\n",
       "    .dataframe tbody tr th:only-of-type {\n",
       "        vertical-align: middle;\n",
       "    }\n",
       "\n",
       "    .dataframe tbody tr th {\n",
       "        vertical-align: top;\n",
       "    }\n",
       "\n",
       "    .dataframe thead th {\n",
       "        text-align: right;\n",
       "    }\n",
       "</style>\n",
       "<table border=\"1\" class=\"dataframe\">\n",
       "  <thead>\n",
       "    <tr style=\"text-align: right;\">\n",
       "      <th></th>\n",
       "      <th>cust_id</th>\n",
       "      <th>name</th>\n",
       "      <th>gender</th>\n",
       "      <th>age</th>\n",
       "      <th>location</th>\n",
       "      <th>occupation</th>\n",
       "      <th>annual_income</th>\n",
       "      <th>marital_status</th>\n",
       "      <th>age_group</th>\n",
       "      <th>credit_score</th>\n",
       "      <th>...</th>\n",
       "      <th>credit_inquiries_last_6_months</th>\n",
       "      <th>credit_limit</th>\n",
       "      <th>credit_score_range</th>\n",
       "      <th>credit_limit_mod</th>\n",
       "      <th>tran_id</th>\n",
       "      <th>tran_date</th>\n",
       "      <th>tran_amount</th>\n",
       "      <th>platform</th>\n",
       "      <th>product_category</th>\n",
       "      <th>payment_type</th>\n",
       "    </tr>\n",
       "  </thead>\n",
       "  <tbody>\n",
       "    <tr>\n",
       "      <th>0</th>\n",
       "      <td>1</td>\n",
       "      <td>Manya Acharya</td>\n",
       "      <td>Female</td>\n",
       "      <td>51.0</td>\n",
       "      <td>City</td>\n",
       "      <td>Business Owner</td>\n",
       "      <td>358211.0</td>\n",
       "      <td>Married</td>\n",
       "      <td>49-65</td>\n",
       "      <td>749</td>\n",
       "      <td>...</td>\n",
       "      <td>0.0</td>\n",
       "      <td>40000.0</td>\n",
       "      <td>700-749</td>\n",
       "      <td>40000.0</td>\n",
       "      <td>1283</td>\n",
       "      <td>2023-01-01</td>\n",
       "      <td>30.0</td>\n",
       "      <td>Shopify</td>\n",
       "      <td>Fashion &amp; Apparel</td>\n",
       "      <td>Net Banking</td>\n",
       "    </tr>\n",
       "    <tr>\n",
       "      <th>1</th>\n",
       "      <td>1</td>\n",
       "      <td>Manya Acharya</td>\n",
       "      <td>Female</td>\n",
       "      <td>51.0</td>\n",
       "      <td>City</td>\n",
       "      <td>Business Owner</td>\n",
       "      <td>358211.0</td>\n",
       "      <td>Married</td>\n",
       "      <td>49-65</td>\n",
       "      <td>749</td>\n",
       "      <td>...</td>\n",
       "      <td>0.0</td>\n",
       "      <td>40000.0</td>\n",
       "      <td>700-749</td>\n",
       "      <td>40000.0</td>\n",
       "      <td>1382</td>\n",
       "      <td>2023-01-01</td>\n",
       "      <td>96.0</td>\n",
       "      <td>Amazon</td>\n",
       "      <td>Sports</td>\n",
       "      <td>Debit Card</td>\n",
       "    </tr>\n",
       "    <tr>\n",
       "      <th>2</th>\n",
       "      <td>1</td>\n",
       "      <td>Manya Acharya</td>\n",
       "      <td>Female</td>\n",
       "      <td>51.0</td>\n",
       "      <td>City</td>\n",
       "      <td>Business Owner</td>\n",
       "      <td>358211.0</td>\n",
       "      <td>Married</td>\n",
       "      <td>49-65</td>\n",
       "      <td>749</td>\n",
       "      <td>...</td>\n",
       "      <td>0.0</td>\n",
       "      <td>40000.0</td>\n",
       "      <td>700-749</td>\n",
       "      <td>40000.0</td>\n",
       "      <td>1521</td>\n",
       "      <td>2023-01-01</td>\n",
       "      <td>86.0</td>\n",
       "      <td>Meesho</td>\n",
       "      <td>Garden &amp; Outdoor</td>\n",
       "      <td>Gpay</td>\n",
       "    </tr>\n",
       "    <tr>\n",
       "      <th>3</th>\n",
       "      <td>1</td>\n",
       "      <td>Manya Acharya</td>\n",
       "      <td>Female</td>\n",
       "      <td>51.0</td>\n",
       "      <td>City</td>\n",
       "      <td>Business Owner</td>\n",
       "      <td>358211.0</td>\n",
       "      <td>Married</td>\n",
       "      <td>49-65</td>\n",
       "      <td>749</td>\n",
       "      <td>...</td>\n",
       "      <td>0.0</td>\n",
       "      <td>40000.0</td>\n",
       "      <td>700-749</td>\n",
       "      <td>40000.0</td>\n",
       "      <td>1576</td>\n",
       "      <td>2023-01-01</td>\n",
       "      <td>149.0</td>\n",
       "      <td>Amazon</td>\n",
       "      <td>Beauty &amp; Personal Care</td>\n",
       "      <td>Phonepe</td>\n",
       "    </tr>\n",
       "    <tr>\n",
       "      <th>4</th>\n",
       "      <td>1</td>\n",
       "      <td>Manya Acharya</td>\n",
       "      <td>Female</td>\n",
       "      <td>51.0</td>\n",
       "      <td>City</td>\n",
       "      <td>Business Owner</td>\n",
       "      <td>358211.0</td>\n",
       "      <td>Married</td>\n",
       "      <td>49-65</td>\n",
       "      <td>749</td>\n",
       "      <td>...</td>\n",
       "      <td>0.0</td>\n",
       "      <td>40000.0</td>\n",
       "      <td>700-749</td>\n",
       "      <td>40000.0</td>\n",
       "      <td>1757</td>\n",
       "      <td>2023-01-01</td>\n",
       "      <td>37.0</td>\n",
       "      <td>Flipkart</td>\n",
       "      <td>Fashion &amp; Apparel</td>\n",
       "      <td>Credit Card</td>\n",
       "    </tr>\n",
       "  </tbody>\n",
       "</table>\n",
       "<p>5 rows × 22 columns</p>\n",
       "</div>"
      ],
      "text/plain": [
       "   cust_id           name  gender   age location      occupation  \\\n",
       "0        1  Manya Acharya  Female  51.0     City  Business Owner   \n",
       "1        1  Manya Acharya  Female  51.0     City  Business Owner   \n",
       "2        1  Manya Acharya  Female  51.0     City  Business Owner   \n",
       "3        1  Manya Acharya  Female  51.0     City  Business Owner   \n",
       "4        1  Manya Acharya  Female  51.0     City  Business Owner   \n",
       "\n",
       "   annual_income marital_status age_group  credit_score  ...  \\\n",
       "0       358211.0        Married     49-65           749  ...   \n",
       "1       358211.0        Married     49-65           749  ...   \n",
       "2       358211.0        Married     49-65           749  ...   \n",
       "3       358211.0        Married     49-65           749  ...   \n",
       "4       358211.0        Married     49-65           749  ...   \n",
       "\n",
       "   credit_inquiries_last_6_months  credit_limit  credit_score_range  \\\n",
       "0                             0.0       40000.0             700-749   \n",
       "1                             0.0       40000.0             700-749   \n",
       "2                             0.0       40000.0             700-749   \n",
       "3                             0.0       40000.0             700-749   \n",
       "4                             0.0       40000.0             700-749   \n",
       "\n",
       "   credit_limit_mod tran_id   tran_date  tran_amount  platform  \\\n",
       "0           40000.0    1283  2023-01-01         30.0   Shopify   \n",
       "1           40000.0    1382  2023-01-01         96.0    Amazon   \n",
       "2           40000.0    1521  2023-01-01         86.0    Meesho   \n",
       "3           40000.0    1576  2023-01-01        149.0    Amazon   \n",
       "4           40000.0    1757  2023-01-01         37.0  Flipkart   \n",
       "\n",
       "         product_category payment_type  \n",
       "0       Fashion & Apparel  Net Banking  \n",
       "1                  Sports   Debit Card  \n",
       "2        Garden & Outdoor         Gpay  \n",
       "3  Beauty & Personal Care      Phonepe  \n",
       "4       Fashion & Apparel  Credit Card  \n",
       "\n",
       "[5 rows x 22 columns]"
      ]
     },
     "execution_count": 119,
     "metadata": {},
     "output_type": "execute_result"
    }
   ],
   "source": [
    "df_merged_2.head()"
   ]
  },
  {
   "cell_type": "code",
   "execution_count": 120,
   "id": "3eb9a2a0",
   "metadata": {},
   "outputs": [
    {
     "data": {
      "image/png": "[encoded data removed]",
      "text/plain": [
       "<Figure size 432x288 with 1 Axes>"
      ]
     },
     "metadata": {
      "needs_background": "light"
     },
     "output_type": "display_data"
    }
   ],
   "source": [
    "sns.countplot(x = 'age_group', hue = 'payment_type', data = df_merged_2)\n",
    "plt.title('Distribution of Payment type across the Age group')\n",
    "plt.xlabel('Age Group')\n",
    "plt.ylabel('Count')\n",
    "plt.show()"
   ]
  },
  {
   "cell_type": "code",
   "execution_count": 121,
   "id": "af257e9f",
   "metadata": {},
   "outputs": [
    {
     "data": {
      "image/png": "[encoded data removed]",
      "text/plain": [
       "<Figure size 864x360 with 2 Axes>"
      ]
     },
     "metadata": {
      "needs_background": "light"
     },
     "output_type": "display_data"
    }
   ],
   "source": [
    "fig, (ax1, ax2) = plt.subplots(1,2, figsize= (12,5))\n",
    "\n",
    "sns.countplot(x= 'age_group', hue = 'product_category', data = df_merged_2, ax = ax1)\n",
    "ax1.set_title('Product category count by Age group')\n",
    "ax1.set_xlabel('Age Group')\n",
    "ax1.set_ylabel('Count')\n",
    "ax1.legend(title = 'product_category', loc = 'upper right')\n",
    "\n",
    "sns.countplot(x= 'age_group', hue = 'platform', data = df_merged_2, ax = ax2)\n",
    "ax2.set_title('Platform count by Age group')\n",
    "ax2.set_xlabel('Age Group')\n",
    "ax2.set_ylabel('Count')\n",
    "ax2.legend(title = 'platform', loc = 'upper right')\n",
    "plt.show()"
   ]
  },
  {
   "cell_type": "code",
   "execution_count": 122,
   "id": "c5a13903",
   "metadata": {},
   "outputs": [
    {
     "data": {
      "image/png": "[encoded data removed]",
      "text/plain": [
       "<Figure size 864x864 with 5 Axes>"
      ]
     },
     "metadata": {
      "needs_background": "light"
     },
     "output_type": "display_data"
    }
   ],
   "source": [
    "# List of categorical columns\n",
    "cat_cols = ['payment_type', 'platform', 'product_category', 'marital_status', 'age_group']\n",
    "\n",
    "num_rows = 3\n",
    "# Create subplots\n",
    "fig, axes = plt.subplots(num_rows, 2, figsize=(12, 4 * num_rows))\n",
    "\n",
    "# Flatten the axes array to make it easier to iterate\n",
    "axes = axes.flatten()\n",
    "\n",
    "# Create subplots for each categorical column\n",
    "for i, cat_col in enumerate(cat_cols):\n",
    "    # Calculate the average annual income for each category\n",
    "    avg_tran_amount_by_category = df_merged_2.groupby(cat_col)['tran_amount'].mean().reset_index()\n",
    "    \n",
    "    # Sort the data by 'annual_income' before plotting\n",
    "    sorted_data = avg_tran_amount_by_category.sort_values(by='tran_amount', ascending=False)\n",
    "    \n",
    "    sns.barplot(x=cat_col, y='tran_amount', data=sorted_data, ci=None, ax=axes[i], palette='tab10')\n",
    "    axes[i].set_title(f'Average transaction amount by {cat_col}')\n",
    "    axes[i].set_xlabel(cat_col)\n",
    "    axes[i].set_ylabel('Average transaction amount')\n",
    "\n",
    "    # Rotate x-axis labels for better readability\n",
    "    axes[i].set_xticklabels(axes[i].get_xticklabels(), rotation=45)\n",
    "\n",
    "# Hide any unused subplots\n",
    "for i in range(len(cat_cols), len(axes)):\n",
    "    fig.delaxes(axes[i])\n",
    "plt.tight_layout()\n",
    "plt.show()"
   ]
  },
  {
   "cell_type": "markdown",
   "id": "3cc36a08",
   "metadata": {},
   "source": [
    "<h2 align =\"center\" style =\"color:purple\">Phase 2: AtliQ0 Bank Credit Card Project</h2>"
   ]
  },
  {
   "cell_type": "markdown",
   "id": "7a2f9d92",
   "metadata": {},
   "source": [
    "<h3>Busniness Anaylsis and launch of AB testing: Targetting Untapped Market</h3>"
   ]
  },
  {
   "cell_type": "markdown",
   "id": "0cb2e848",
   "metadata": {},
   "source": [
    "<h4>Insights specific to customers with age group of 18 - 25</h4>"
   ]
  },
  {
   "cell_type": "markdown",
   "id": "ae385d0b",
   "metadata": {},
   "source": [
    "1. People with age group of 18 -25 accounts to ~25% of customer base in the data.\n",
    "2. Avg annual income of this age group is less than 50k.\n",
    "3. They don't have much credit history which is getting reflected in their credit score and max credit limit.\n",
    "4. Usage of credit cards as payment type is relatively low compared to other groups.\n",
    "5. Avg transaction amount made with credit cards is also low compared to other groups\n",
    "6. Top 3 most used shopping products categories : Electronics, Fashion & Apparel, Beauty & Personal care."
   ]
  },
  {
   "cell_type": "markdown",
   "id": "267dad24",
   "metadata": {},
   "source": [
    "![Analysis Image](\"analysis.png\")"
   ]
  },
  {
   "cell_type": "markdown",
   "id": "e1d2047b",
   "metadata": {},
   "source": [
    "# (1) Pre Campaign"
   ]
  },
  {
   "cell_type": "markdown",
   "id": "a18544e5",
   "metadata": {},
   "source": [
    "We want to do a trial run for our new credit card. For this we need to figure out (1) How many customers do we need for our A/B testing. We will form a control and test group. For both of these groups we can figure out number of customers we need based on the statistical power and effect size that we agree upon after discussing with business."
   ]
  },
  {
   "cell_type": "code",
   "execution_count": 123,
   "id": "7da7d095",
   "metadata": {},
   "outputs": [],
   "source": [
    "#Import required libraries\n",
    "\n",
    "import statsmodels.stats.api as sms\n",
    "import statsmodels.api as sm\n",
    "from scipy import stats as st\n",
    "import pandas as pd\n",
    "import numpy as np\n",
    "from matplotlib import pyplot as plt\n",
    "import seaborn as sns"
   ]
  },
  {
   "cell_type": "code",
   "execution_count": 124,
   "id": "b496a5c8",
   "metadata": {},
   "outputs": [
    {
     "data": {
      "text/plain": [
       "393.4056989990322"
      ]
     },
     "execution_count": 124,
     "metadata": {},
     "output_type": "execute_result"
    }
   ],
   "source": [
    "alpha = 0.05\n",
    "power = 0.8\n",
    "effect_size = 0.2\n",
    "\n",
    "\n",
    "sms.tt_ind_solve_power(\n",
    "        effect_size = effect_size,\n",
    "        alpha = alpha,\n",
    "        power = power,\n",
    "        ratio = 1,\n",
    "        alternative = 'two-sided'\n",
    ")\n"
   ]
  },
  {
   "cell_type": "markdown",
   "id": "f354eceb",
   "metadata": {},
   "source": [
    "For effect size 2 we need 393 customers. We have to keep in mind budgeting restrictions while running this campaign hence let us run this for different effect sizes and discuss with business to find out which sample size would be optimal"
   ]
  },
  {
   "cell_type": "code",
   "execution_count": 127,
   "id": "691901e2",
   "metadata": {},
   "outputs": [
    {
     "name": "stdout",
     "output_type": "stream",
     "text": [
      "Effect Size:0.1, Required Sample Size:  1571 customers\n",
      "Effect Size:0.2, Required Sample Size:  393 customers\n",
      "Effect Size:0.3, Required Sample Size:  175 customers\n",
      "Effect Size:0.4, Required Sample Size:  99 customers\n",
      "Effect Size:0.5, Required Sample Size:  64 customers\n",
      "Effect Size:1, Required Sample Size:  17 customers\n"
     ]
    }
   ],
   "source": [
    "#calculate the required sample size for different sizes\n",
    "effect_sizes = [0.1, 0.2, 0.3, 0.4, 0.5,1]# standard deviations greater than control group\n",
    "\n",
    "for effect_size in effect_sizes:\n",
    "    sample_size = sms.tt_ind_solve_power(\n",
    "        effect_size = effect_size,\n",
    "        alpha = alpha,\n",
    "        power = power,\n",
    "        ratio = 1,\n",
    "        alternative = 'two-sided'\n",
    "        )\n",
    "    print(f\"Effect Size:{effect_size}, Required Sample Size: {sample_size: .0f} customers\")"
   ]
  },
  {
   "cell_type": "markdown",
   "id": "c115a2ca",
   "metadata": {},
   "source": [
    "Based on business requirements, the test should be capable of detecting a minimum 0.4 standard deviation difference between the control and test groups. For the effect size 0.4, we need 100 customers and when we discussed with business, 100 customers is ok in terms of their budgeting constraints for this trail run"
   ]
  },
  {
   "cell_type": "markdown",
   "id": "d93f589c",
   "metadata": {},
   "source": [
    "#### Forming control and test groups\n",
    "\n",
    "1.We have identified approximately 246 customers within the age group of 18 to 25. From this pool, we will select 100 customers for the initial campaign launch.\n",
    "\n",
    "2.The campaign is launched for 100 customers, as determined by the effective size calculation and by considering budgeting costs, and will run campaign for a duration of 2 months\n",
    "\n",
    "3.Got a conversion rate of ~40% ( implies 40 out of 100 customers in test group started using credit card)\n",
    "\n",
    "4.To maintain a similar sample size, a control group consisting of 40 customers will be created. Importantly, this control group will be completely exclusive of initial 100 customers used as test group.\n",
    "\n",
    "5.So now we have 40 customers in each of control and test groups"
   ]
  },
  {
   "cell_type": "markdown",
   "id": "c267d4e9",
   "metadata": {},
   "source": [
    "##### At the end of the 2-month campaign period (from 09-10-23 to 11-10-23), we obtained daily data showing the average transaction amounts made by the entire group of 40 customers in both the control and test groups using existing and newly launched credit cards respectively\n",
    "\n",
    "##### The key performance indicator (KPI) for this AB test aims to enhance average transaction amounts facilitated by the new card"
   ]
  },
  {
   "cell_type": "markdown",
   "id": "a2142fc7",
   "metadata": {},
   "source": [
    "# (2) Post-Campaign"
   ]
  },
  {
   "cell_type": "markdown",
   "id": "094312b9",
   "metadata": {},
   "source": [
    "## Two Sample Z Test for Our Hypothesis Testing"
   ]
  },
  {
   "cell_type": "code",
   "execution_count": 130,
   "id": "d54e5e0b",
   "metadata": {},
   "outputs": [
    {
     "data": {
      "text/html": [
       "<div>\n",
       "<style scoped>\n",
       "    .dataframe tbody tr th:only-of-type {\n",
       "        vertical-align: middle;\n",
       "    }\n",
       "\n",
       "    .dataframe tbody tr th {\n",
       "        vertical-align: top;\n",
       "    }\n",
       "\n",
       "    .dataframe thead th {\n",
       "        text-align: right;\n",
       "    }\n",
       "</style>\n",
       "<table border=\"1\" class=\"dataframe\">\n",
       "  <thead>\n",
       "    <tr style=\"text-align: right;\">\n",
       "      <th></th>\n",
       "      <th>campaign_date</th>\n",
       "      <th>control_group_avg_tran</th>\n",
       "      <th>test_group_avg_tran</th>\n",
       "    </tr>\n",
       "  </thead>\n",
       "  <tbody>\n",
       "    <tr>\n",
       "      <th>0</th>\n",
       "      <td>2023-09-10</td>\n",
       "      <td>259.83</td>\n",
       "      <td>277.32</td>\n",
       "    </tr>\n",
       "    <tr>\n",
       "      <th>1</th>\n",
       "      <td>2023-09-11</td>\n",
       "      <td>191.27</td>\n",
       "      <td>248.68</td>\n",
       "    </tr>\n",
       "    <tr>\n",
       "      <th>2</th>\n",
       "      <td>2023-09-12</td>\n",
       "      <td>212.41</td>\n",
       "      <td>286.61</td>\n",
       "    </tr>\n",
       "    <tr>\n",
       "      <th>3</th>\n",
       "      <td>2023-09-13</td>\n",
       "      <td>214.92</td>\n",
       "      <td>214.85</td>\n",
       "    </tr>\n",
       "    <tr>\n",
       "      <th>4</th>\n",
       "      <td>2023-09-14</td>\n",
       "      <td>158.55</td>\n",
       "      <td>344.08</td>\n",
       "    </tr>\n",
       "  </tbody>\n",
       "</table>\n",
       "</div>"
      ],
      "text/plain": [
       "  campaign_date  control_group_avg_tran  test_group_avg_tran\n",
       "0    2023-09-10                  259.83               277.32\n",
       "1    2023-09-11                  191.27               248.68\n",
       "2    2023-09-12                  212.41               286.61\n",
       "3    2023-09-13                  214.92               214.85\n",
       "4    2023-09-14                  158.55               344.08"
      ]
     },
     "execution_count": 130,
     "metadata": {},
     "output_type": "execute_result"
    }
   ],
   "source": [
    "#Loading campaign result data\n",
    "df = pd.read_csv('avg_transactions_after_campaign.csv')\n",
    "df.head()"
   ]
  },
  {
   "cell_type": "code",
   "execution_count": 131,
   "id": "dc27a896",
   "metadata": {},
   "outputs": [
    {
     "data": {
      "text/plain": [
       "(62, 3)"
      ]
     },
     "execution_count": 131,
     "metadata": {},
     "output_type": "execute_result"
    }
   ],
   "source": [
    "df.shape"
   ]
  },
  {
   "cell_type": "code",
   "execution_count": 139,
   "id": "859d3725",
   "metadata": {},
   "outputs": [
    {
     "data": {
      "image/png": "[encoded data removed]",
      "text/plain": [
       "<Figure size 792x216 with 2 Axes>"
      ]
     },
     "metadata": {
      "needs_background": "light"
     },
     "output_type": "display_data"
    }
   ],
   "source": [
    "# Let's look at distributions of avg transactions amounts in both groups\n",
    "# Create a 1x2 grid of subplots\n",
    "fig, (ax1, ax2) = plt.subplots(1, 2, figsize=(11, 3))\n",
    "\n",
    "# Plot the distribution of Campaign A Sales\n",
    "sns.histplot(df['control_group_avg_tran'], kde=True, color='skyblue', label='Control group avg transaction amounts', ax=ax1)\n",
    "ax1.set_xlabel('Sales')\n",
    "ax1.set_ylabel('Frequency')\n",
    "ax1.set_title('Distribution of Control group avg transaction amounts')\n",
    "ax1.legend()\n",
    "\n",
    "# Plot the distribution of Campaign B Sales\n",
    "sns.histplot(df['test_group_avg_tran'], kde=True, color='lightgreen', label='Test group avg transaction amounts', ax=ax2)\n",
    "ax2.set_xlabel('Sales')\n",
    "ax2.set_ylabel('Frequency')\n",
    "ax2.set_title('Distribution of test group avg transaction amounts')\n",
    "ax2.legend()\n",
    "\n",
    "# Show the plots\n",
    "plt.show()"
   ]
  },
  {
   "cell_type": "markdown",
   "id": "f6ec6847",
   "metadata": {},
   "source": [
    "#### Perform Hypothesis Testing Using Two Sample Z-test"
   ]
  },
  {
   "cell_type": "code",
   "execution_count": 143,
   "id": "b3ee4480",
   "metadata": {},
   "outputs": [
    {
     "data": {
      "text/plain": [
       "Index(['campaign_date', 'control_group_avg_tran', 'test_group_avg_tran'], dtype='object')"
      ]
     },
     "execution_count": 143,
     "metadata": {},
     "output_type": "execute_result"
    }
   ],
   "source": [
    "df.columns"
   ]
  },
  {
   "cell_type": "code",
   "execution_count": 147,
   "id": "f9525841",
   "metadata": {},
   "outputs": [
    {
     "data": {
      "text/html": [
       "<div>\n",
       "<style scoped>\n",
       "    .dataframe tbody tr th:only-of-type {\n",
       "        vertical-align: middle;\n",
       "    }\n",
       "\n",
       "    .dataframe tbody tr th {\n",
       "        vertical-align: top;\n",
       "    }\n",
       "\n",
       "    .dataframe thead th {\n",
       "        text-align: right;\n",
       "    }\n",
       "</style>\n",
       "<table border=\"1\" class=\"dataframe\">\n",
       "  <thead>\n",
       "    <tr style=\"text-align: right;\">\n",
       "      <th></th>\n",
       "      <th>campaign_date</th>\n",
       "      <th>control_group_avg_tran</th>\n",
       "      <th>test_group_avg_tran</th>\n",
       "    </tr>\n",
       "  </thead>\n",
       "  <tbody>\n",
       "    <tr>\n",
       "      <th>3</th>\n",
       "      <td>2023-09-13</td>\n",
       "      <td>214.92</td>\n",
       "      <td>214.85</td>\n",
       "    </tr>\n",
       "    <tr>\n",
       "      <th>8</th>\n",
       "      <td>2023-09-18</td>\n",
       "      <td>265.13</td>\n",
       "      <td>212.60</td>\n",
       "    </tr>\n",
       "    <tr>\n",
       "      <th>9</th>\n",
       "      <td>2023-09-19</td>\n",
       "      <td>232.88</td>\n",
       "      <td>207.63</td>\n",
       "    </tr>\n",
       "    <tr>\n",
       "      <th>16</th>\n",
       "      <td>2023-09-26</td>\n",
       "      <td>222.95</td>\n",
       "      <td>213.30</td>\n",
       "    </tr>\n",
       "    <tr>\n",
       "      <th>22</th>\n",
       "      <td>2023-10-02</td>\n",
       "      <td>238.39</td>\n",
       "      <td>203.10</td>\n",
       "    </tr>\n",
       "    <tr>\n",
       "      <th>23</th>\n",
       "      <td>2023-10-03</td>\n",
       "      <td>253.95</td>\n",
       "      <td>234.26</td>\n",
       "    </tr>\n",
       "    <tr>\n",
       "      <th>25</th>\n",
       "      <td>2023-10-05</td>\n",
       "      <td>239.47</td>\n",
       "      <td>216.37</td>\n",
       "    </tr>\n",
       "    <tr>\n",
       "      <th>26</th>\n",
       "      <td>2023-10-06</td>\n",
       "      <td>200.70</td>\n",
       "      <td>166.70</td>\n",
       "    </tr>\n",
       "    <tr>\n",
       "      <th>27</th>\n",
       "      <td>2023-10-07</td>\n",
       "      <td>200.91</td>\n",
       "      <td>170.01</td>\n",
       "    </tr>\n",
       "    <tr>\n",
       "      <th>28</th>\n",
       "      <td>2023-10-08</td>\n",
       "      <td>188.30</td>\n",
       "      <td>150.27</td>\n",
       "    </tr>\n",
       "    <tr>\n",
       "      <th>29</th>\n",
       "      <td>2023-10-09</td>\n",
       "      <td>247.11</td>\n",
       "      <td>164.00</td>\n",
       "    </tr>\n",
       "    <tr>\n",
       "      <th>35</th>\n",
       "      <td>2023-10-15</td>\n",
       "      <td>240.27</td>\n",
       "      <td>238.30</td>\n",
       "    </tr>\n",
       "    <tr>\n",
       "      <th>39</th>\n",
       "      <td>2023-10-19</td>\n",
       "      <td>223.90</td>\n",
       "      <td>196.84</td>\n",
       "    </tr>\n",
       "    <tr>\n",
       "      <th>44</th>\n",
       "      <td>2023-10-24</td>\n",
       "      <td>230.83</td>\n",
       "      <td>213.45</td>\n",
       "    </tr>\n",
       "    <tr>\n",
       "      <th>48</th>\n",
       "      <td>2023-10-28</td>\n",
       "      <td>229.18</td>\n",
       "      <td>222.29</td>\n",
       "    </tr>\n",
       "    <tr>\n",
       "      <th>49</th>\n",
       "      <td>2023-10-29</td>\n",
       "      <td>237.26</td>\n",
       "      <td>214.46</td>\n",
       "    </tr>\n",
       "    <tr>\n",
       "      <th>52</th>\n",
       "      <td>2023-11-01</td>\n",
       "      <td>265.45</td>\n",
       "      <td>169.98</td>\n",
       "    </tr>\n",
       "    <tr>\n",
       "      <th>57</th>\n",
       "      <td>2023-11-06</td>\n",
       "      <td>255.70</td>\n",
       "      <td>140.61</td>\n",
       "    </tr>\n",
       "  </tbody>\n",
       "</table>\n",
       "</div>"
      ],
      "text/plain": [
       "   campaign_date  control_group_avg_tran  test_group_avg_tran\n",
       "3     2023-09-13                  214.92               214.85\n",
       "8     2023-09-18                  265.13               212.60\n",
       "9     2023-09-19                  232.88               207.63\n",
       "16    2023-09-26                  222.95               213.30\n",
       "22    2023-10-02                  238.39               203.10\n",
       "23    2023-10-03                  253.95               234.26\n",
       "25    2023-10-05                  239.47               216.37\n",
       "26    2023-10-06                  200.70               166.70\n",
       "27    2023-10-07                  200.91               170.01\n",
       "28    2023-10-08                  188.30               150.27\n",
       "29    2023-10-09                  247.11               164.00\n",
       "35    2023-10-15                  240.27               238.30\n",
       "39    2023-10-19                  223.90               196.84\n",
       "44    2023-10-24                  230.83               213.45\n",
       "48    2023-10-28                  229.18               222.29\n",
       "49    2023-10-29                  237.26               214.46\n",
       "52    2023-11-01                  265.45               169.98\n",
       "57    2023-11-06                  255.70               140.61"
      ]
     },
     "execution_count": 147,
     "metadata": {},
     "output_type": "execute_result"
    }
   ],
   "source": [
    "df[df['control_group_avg_tran'] > df['test_group_avg_tran']]"
   ]
  },
  {
   "cell_type": "code",
   "execution_count": 149,
   "id": "7863b394",
   "metadata": {},
   "outputs": [
    {
     "data": {
      "text/plain": [
       "0.2903225806451613"
      ]
     },
     "execution_count": 149,
     "metadata": {},
     "output_type": "execute_result"
    }
   ],
   "source": [
    "df[df['control_group_avg_tran'] > df['test_group_avg_tran']].shape[0]/df.shape[0]"
   ]
  },
  {
   "cell_type": "code",
   "execution_count": 154,
   "id": "9475abee",
   "metadata": {},
   "outputs": [
    {
     "data": {
      "text/plain": [
       "(221.18, 21.36)"
      ]
     },
     "execution_count": 154,
     "metadata": {},
     "output_type": "execute_result"
    }
   ],
   "source": [
    "control_mean = round(df['control_group_avg_tran'].mean(),2)\n",
    "control_std = round(df['control_group_avg_tran'].std(), 2)\n",
    "control_mean, control_std "
   ]
  },
  {
   "cell_type": "code",
   "execution_count": 155,
   "id": "a26ee8a6",
   "metadata": {},
   "outputs": [
    {
     "data": {
      "text/plain": [
       "(235.98, 36.66)"
      ]
     },
     "execution_count": 155,
     "metadata": {},
     "output_type": "execute_result"
    }
   ],
   "source": [
    "test_mean = round(df['test_group_avg_tran'].mean(), 2)\n",
    "test_std = round(df['test_group_avg_tran'].std(), 2)\n",
    "test_mean, test_std "
   ]
  },
  {
   "cell_type": "code",
   "execution_count": 157,
   "id": "c4e6c7a1",
   "metadata": {},
   "outputs": [
    {
     "data": {
      "text/plain": [
       "62"
      ]
     },
     "execution_count": 157,
     "metadata": {},
     "output_type": "execute_result"
    }
   ],
   "source": [
    "sample_size = df.shape[0]\n",
    "sample_size"
   ]
  },
  {
   "cell_type": "markdown",
   "id": "d557cf74",
   "metadata": {},
   "source": [
    "### Test Using Rejection Region (i.e. Critical Z Value)"
   ]
  },
  {
   "cell_type": "code",
   "execution_count": 158,
   "id": "aa58a957",
   "metadata": {},
   "outputs": [
    {
     "data": {
      "text/plain": [
       "2.7466072001806734"
      ]
     },
     "execution_count": 158,
     "metadata": {},
     "output_type": "execute_result"
    }
   ],
   "source": [
    "a = test_std**2/sample_size\n",
    "b = control_std**2/sample_size\n",
    "\n",
    "Z_score = (test_mean - control_mean)/np.sqrt(a+b)\n",
    "Z_score"
   ]
  },
  {
   "cell_type": "code",
   "execution_count": 159,
   "id": "e264b8db",
   "metadata": {},
   "outputs": [
    {
     "data": {
      "text/plain": [
       "1.6448536269514722"
      ]
     },
     "execution_count": 159,
     "metadata": {},
     "output_type": "execute_result"
    }
   ],
   "source": [
    "critical_value = st.norm.ppf(1-alpha)\n",
    "critical_value"
   ]
  },
  {
   "cell_type": "code",
   "execution_count": 160,
   "id": "96c2265f",
   "metadata": {},
   "outputs": [
    {
     "data": {
      "text/plain": [
       "True"
      ]
     },
     "execution_count": 160,
     "metadata": {},
     "output_type": "execute_result"
    }
   ],
   "source": [
    "Z_score > critical_value"
   ]
  },
  {
   "cell_type": "markdown",
   "id": "c390092e",
   "metadata": {},
   "source": [
    "Since Z score is higher than critical Z value, we can reject the null hypothesis."
   ]
  },
  {
   "cell_type": "markdown",
   "id": "443a9c46",
   "metadata": {},
   "source": [
    "### Test Using p-Value"
   ]
  },
  {
   "cell_type": "code",
   "execution_count": 161,
   "id": "d3676175",
   "metadata": {},
   "outputs": [
    {
     "data": {
      "text/plain": [
       "0.9969892398080298"
      ]
     },
     "execution_count": 161,
     "metadata": {},
     "output_type": "execute_result"
    }
   ],
   "source": [
    "p_value = st.norm.cdf(Z_score)\n",
    "p_value"
   ]
  },
  {
   "cell_type": "code",
   "execution_count": 162,
   "id": "8e87b9e5",
   "metadata": {},
   "outputs": [
    {
     "data": {
      "text/plain": [
       "True"
      ]
     },
     "execution_count": 162,
     "metadata": {},
     "output_type": "execute_result"
    }
   ],
   "source": [
    "p_value< critical_value"
   ]
  },
  {
   "cell_type": "markdown",
   "id": "855669b0",
   "metadata": {},
   "source": [
    "Since p value is less than significance level (i.e. alpha), we can reject the null hypothesis."
   ]
  },
  {
   "cell_type": "markdown",
   "id": "0e33267b",
   "metadata": {},
   "source": [
    "### Using Ready Made API call"
   ]
  },
  {
   "cell_type": "markdown",
   "id": "6631e2db",
   "metadata": {},
   "source": [
    "1.We will now use stats module from statmodels for doing Z-test\n",
    "\n",
    "2.The order of passing control and test group data to sm.stats.ztest(test_data, control_data) defines the direction of the test and influences the test results.\n",
    "\n",
    "3.When you pass test group data first, z-test module assumes that alternative hypothesis as mean of the test group is greater than the mean of the control group and conversely if you switch the order z-test module assumes alternative hypothesis as control group average is more than test group\n",
    "\n",
    "4.In here we will be using order as sm.stats.ztest(test_group_data, control_group_data) based on our alternative hypothesis considered above.\n",
    "\n",
    "5.By default z-test module in statmodels performs two tailed test. As we are doing one-tailed test in our case based on the direction and alternate hypothesis we have to set \"alternative\" parameter.\n",
    "\n",
    "6.In out case based on test direction we will set \"alternative\" parameter to \"larger\"\n",
    "\n"
   ]
  },
  {
   "cell_type": "markdown",
   "id": "47b84bef",
   "metadata": {},
   "source": [
    "#### How to choose right Alternative parameter\n",
    "\n",
    "a.Two-tailed, meaning you are interested in identifying deviations across control and test groups in either direction \n",
    "\n",
    "b.larger, This is a one-tailed test, specifically looking for whether the first group is significantly larger than the second\n",
    "\n",
    "c.smaller, This is another one-tailed test, specifically looking for whether the first group is significantly smaller than the second\n"
   ]
  },
  {
   "cell_type": "code",
   "execution_count": 175,
   "id": "ee8c47c4",
   "metadata": {},
   "outputs": [
    {
     "data": {
      "text/plain": [
       "(2.7482973745691135, 0.002995282462202502)"
      ]
     },
     "execution_count": 175,
     "metadata": {},
     "output_type": "execute_result"
    }
   ],
   "source": [
    "#calculating Z-scroe with above considering \n",
    "z_score, p_value = sm.stats.ztest(df['test_group_avg_tran'], df['control_group_avg_tran'],alternative =\"larger\")\n",
    "z_score, p_value"
   ]
  },
  {
   "cell_type": "code",
   "execution_count": 176,
   "id": "2e13c563",
   "metadata": {},
   "outputs": [
    {
     "data": {
      "text/plain": [
       "(226.85475135624552, 245.10524864375446)"
      ]
     },
     "execution_count": 176,
     "metadata": {},
     "output_type": "execute_result"
    }
   ],
   "source": [
    "#Calculating confidence interval for test group\n",
    "\n",
    "test_group_CI = st.norm.interval(0.95, loc = test_mean, scale = test_std/np.sqrt(sample_size))\n",
    "test_group_CI"
   ]
  },
  {
   "cell_type": "code",
   "execution_count": null,
   "id": "20dd9b37",
   "metadata": {},
   "outputs": [],
   "source": []
  }
 ],
 "metadata": {
  "kernelspec": {
   "display_name": "Python 3 (ipykernel)",
   "language": "python",
   "name": "python3"
  },
  "language_info": {
   "codemirror_mode": {
    "name": "ipython",
    "version": 3
   },
   "file_extension": ".py",
   "mimetype": "text/x-python",
   "name": "python",
   "nbconvert_exporter": "python",
   "pygments_lexer": "ipython3",
   "version": "3.9.12"
  }
 },
 "nbformat": 4,
 "nbformat_minor": 5
}
